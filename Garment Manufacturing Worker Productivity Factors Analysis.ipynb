{
  "nbformat": 4,
  "nbformat_minor": 0,
  "metadata": {
    "colab": {
      "provenance": []
    },
    "kernelspec": {
      "name": "python3",
      "display_name": "Python 3"
    },
    "language_info": {
      "name": "python"
    }
  },
  "cells": [
    {
      "cell_type": "markdown",
      "source": [
        "**1. Data processing – 10 points.**"
      ],
      "metadata": {
        "id": "BrlJM6cKo2Gq"
      }
    },
    {
      "cell_type": "code",
      "source": [
        "import pandas as pd\n",
        "import numpy as np\n",
        "d = pd.read_csv(\"/content/garments_worker_productivity.csv\")\n",
        "d.head()"
      ],
      "metadata": {
        "id": "sdgmn49Fp7Fq",
        "colab": {
          "base_uri": "https://localhost:8080/",
          "height": 226
        },
        "outputId": "cad27fff-83d9-40e1-b367-10bc75de7fa5"
      },
      "execution_count": null,
      "outputs": [
        {
          "output_type": "execute_result",
          "data": {
            "text/plain": [
              "       date   quarter  department       day  team  targeted_productivity  \\\n",
              "0  1/1/2015  Quarter1      sweing  Thursday     8                   0.80   \n",
              "1  1/1/2015  Quarter1  finishing   Thursday     1                   0.75   \n",
              "2  1/1/2015  Quarter1      sweing  Thursday    11                   0.80   \n",
              "3  1/1/2015  Quarter1      sweing  Thursday    12                   0.80   \n",
              "4  1/1/2015  Quarter1      sweing  Thursday     6                   0.80   \n",
              "\n",
              "     smv     wip  over_time  incentive  idle_time  idle_men  \\\n",
              "0  26.16  1108.0       7080         98        0.0         0   \n",
              "1   3.94     NaN        960          0        0.0         0   \n",
              "2  11.41   968.0       3660         50        0.0         0   \n",
              "3  11.41   968.0       3660         50        0.0         0   \n",
              "4  25.90  1170.0       1920         50        0.0         0   \n",
              "\n",
              "   no_of_style_change  no_of_workers  actual_productivity  \n",
              "0                   0           59.0             0.940725  \n",
              "1                   0            8.0             0.886500  \n",
              "2                   0           30.5             0.800570  \n",
              "3                   0           30.5             0.800570  \n",
              "4                   0           56.0             0.800382  "
            ],
            "text/html": [
              "\n",
              "  <div id=\"df-6346d291-11d9-4f31-b9a5-269f9f29307b\" class=\"colab-df-container\">\n",
              "    <div>\n",
              "<style scoped>\n",
              "    .dataframe tbody tr th:only-of-type {\n",
              "        vertical-align: middle;\n",
              "    }\n",
              "\n",
              "    .dataframe tbody tr th {\n",
              "        vertical-align: top;\n",
              "    }\n",
              "\n",
              "    .dataframe thead th {\n",
              "        text-align: right;\n",
              "    }\n",
              "</style>\n",
              "<table border=\"1\" class=\"dataframe\">\n",
              "  <thead>\n",
              "    <tr style=\"text-align: right;\">\n",
              "      <th></th>\n",
              "      <th>date</th>\n",
              "      <th>quarter</th>\n",
              "      <th>department</th>\n",
              "      <th>day</th>\n",
              "      <th>team</th>\n",
              "      <th>targeted_productivity</th>\n",
              "      <th>smv</th>\n",
              "      <th>wip</th>\n",
              "      <th>over_time</th>\n",
              "      <th>incentive</th>\n",
              "      <th>idle_time</th>\n",
              "      <th>idle_men</th>\n",
              "      <th>no_of_style_change</th>\n",
              "      <th>no_of_workers</th>\n",
              "      <th>actual_productivity</th>\n",
              "    </tr>\n",
              "  </thead>\n",
              "  <tbody>\n",
              "    <tr>\n",
              "      <th>0</th>\n",
              "      <td>1/1/2015</td>\n",
              "      <td>Quarter1</td>\n",
              "      <td>sweing</td>\n",
              "      <td>Thursday</td>\n",
              "      <td>8</td>\n",
              "      <td>0.80</td>\n",
              "      <td>26.16</td>\n",
              "      <td>1108.0</td>\n",
              "      <td>7080</td>\n",
              "      <td>98</td>\n",
              "      <td>0.0</td>\n",
              "      <td>0</td>\n",
              "      <td>0</td>\n",
              "      <td>59.0</td>\n",
              "      <td>0.940725</td>\n",
              "    </tr>\n",
              "    <tr>\n",
              "      <th>1</th>\n",
              "      <td>1/1/2015</td>\n",
              "      <td>Quarter1</td>\n",
              "      <td>finishing</td>\n",
              "      <td>Thursday</td>\n",
              "      <td>1</td>\n",
              "      <td>0.75</td>\n",
              "      <td>3.94</td>\n",
              "      <td>NaN</td>\n",
              "      <td>960</td>\n",
              "      <td>0</td>\n",
              "      <td>0.0</td>\n",
              "      <td>0</td>\n",
              "      <td>0</td>\n",
              "      <td>8.0</td>\n",
              "      <td>0.886500</td>\n",
              "    </tr>\n",
              "    <tr>\n",
              "      <th>2</th>\n",
              "      <td>1/1/2015</td>\n",
              "      <td>Quarter1</td>\n",
              "      <td>sweing</td>\n",
              "      <td>Thursday</td>\n",
              "      <td>11</td>\n",
              "      <td>0.80</td>\n",
              "      <td>11.41</td>\n",
              "      <td>968.0</td>\n",
              "      <td>3660</td>\n",
              "      <td>50</td>\n",
              "      <td>0.0</td>\n",
              "      <td>0</td>\n",
              "      <td>0</td>\n",
              "      <td>30.5</td>\n",
              "      <td>0.800570</td>\n",
              "    </tr>\n",
              "    <tr>\n",
              "      <th>3</th>\n",
              "      <td>1/1/2015</td>\n",
              "      <td>Quarter1</td>\n",
              "      <td>sweing</td>\n",
              "      <td>Thursday</td>\n",
              "      <td>12</td>\n",
              "      <td>0.80</td>\n",
              "      <td>11.41</td>\n",
              "      <td>968.0</td>\n",
              "      <td>3660</td>\n",
              "      <td>50</td>\n",
              "      <td>0.0</td>\n",
              "      <td>0</td>\n",
              "      <td>0</td>\n",
              "      <td>30.5</td>\n",
              "      <td>0.800570</td>\n",
              "    </tr>\n",
              "    <tr>\n",
              "      <th>4</th>\n",
              "      <td>1/1/2015</td>\n",
              "      <td>Quarter1</td>\n",
              "      <td>sweing</td>\n",
              "      <td>Thursday</td>\n",
              "      <td>6</td>\n",
              "      <td>0.80</td>\n",
              "      <td>25.90</td>\n",
              "      <td>1170.0</td>\n",
              "      <td>1920</td>\n",
              "      <td>50</td>\n",
              "      <td>0.0</td>\n",
              "      <td>0</td>\n",
              "      <td>0</td>\n",
              "      <td>56.0</td>\n",
              "      <td>0.800382</td>\n",
              "    </tr>\n",
              "  </tbody>\n",
              "</table>\n",
              "</div>\n",
              "    <div class=\"colab-df-buttons\">\n",
              "\n",
              "  <div class=\"colab-df-container\">\n",
              "    <button class=\"colab-df-convert\" onclick=\"convertToInteractive('df-6346d291-11d9-4f31-b9a5-269f9f29307b')\"\n",
              "            title=\"Convert this dataframe to an interactive table.\"\n",
              "            style=\"display:none;\">\n",
              "\n",
              "  <svg xmlns=\"http://www.w3.org/2000/svg\" height=\"24px\" viewBox=\"0 -960 960 960\">\n",
              "    <path d=\"M120-120v-720h720v720H120Zm60-500h600v-160H180v160Zm220 220h160v-160H400v160Zm0 220h160v-160H400v160ZM180-400h160v-160H180v160Zm440 0h160v-160H620v160ZM180-180h160v-160H180v160Zm440 0h160v-160H620v160Z\"/>\n",
              "  </svg>\n",
              "    </button>\n",
              "\n",
              "  <style>\n",
              "    .colab-df-container {\n",
              "      display:flex;\n",
              "      gap: 12px;\n",
              "    }\n",
              "\n",
              "    .colab-df-convert {\n",
              "      background-color: #E8F0FE;\n",
              "      border: none;\n",
              "      border-radius: 50%;\n",
              "      cursor: pointer;\n",
              "      display: none;\n",
              "      fill: #1967D2;\n",
              "      height: 32px;\n",
              "      padding: 0 0 0 0;\n",
              "      width: 32px;\n",
              "    }\n",
              "\n",
              "    .colab-df-convert:hover {\n",
              "      background-color: #E2EBFA;\n",
              "      box-shadow: 0px 1px 2px rgba(60, 64, 67, 0.3), 0px 1px 3px 1px rgba(60, 64, 67, 0.15);\n",
              "      fill: #174EA6;\n",
              "    }\n",
              "\n",
              "    .colab-df-buttons div {\n",
              "      margin-bottom: 4px;\n",
              "    }\n",
              "\n",
              "    [theme=dark] .colab-df-convert {\n",
              "      background-color: #3B4455;\n",
              "      fill: #D2E3FC;\n",
              "    }\n",
              "\n",
              "    [theme=dark] .colab-df-convert:hover {\n",
              "      background-color: #434B5C;\n",
              "      box-shadow: 0px 1px 3px 1px rgba(0, 0, 0, 0.15);\n",
              "      filter: drop-shadow(0px 1px 2px rgba(0, 0, 0, 0.3));\n",
              "      fill: #FFFFFF;\n",
              "    }\n",
              "  </style>\n",
              "\n",
              "    <script>\n",
              "      const buttonEl =\n",
              "        document.querySelector('#df-6346d291-11d9-4f31-b9a5-269f9f29307b button.colab-df-convert');\n",
              "      buttonEl.style.display =\n",
              "        google.colab.kernel.accessAllowed ? 'block' : 'none';\n",
              "\n",
              "      async function convertToInteractive(key) {\n",
              "        const element = document.querySelector('#df-6346d291-11d9-4f31-b9a5-269f9f29307b');\n",
              "        const dataTable =\n",
              "          await google.colab.kernel.invokeFunction('convertToInteractive',\n",
              "                                                    [key], {});\n",
              "        if (!dataTable) return;\n",
              "\n",
              "        const docLinkHtml = 'Like what you see? Visit the ' +\n",
              "          '<a target=\"_blank\" href=https://colab.research.google.com/notebooks/data_table.ipynb>data table notebook</a>'\n",
              "          + ' to learn more about interactive tables.';\n",
              "        element.innerHTML = '';\n",
              "        dataTable['output_type'] = 'display_data';\n",
              "        await google.colab.output.renderOutput(dataTable, element);\n",
              "        const docLink = document.createElement('div');\n",
              "        docLink.innerHTML = docLinkHtml;\n",
              "        element.appendChild(docLink);\n",
              "      }\n",
              "    </script>\n",
              "  </div>\n",
              "\n",
              "\n",
              "<div id=\"df-8208f0b1-72cd-4f8b-bffe-273ca2bcb718\">\n",
              "  <button class=\"colab-df-quickchart\" onclick=\"quickchart('df-8208f0b1-72cd-4f8b-bffe-273ca2bcb718')\"\n",
              "            title=\"Suggest charts\"\n",
              "            style=\"display:none;\">\n",
              "\n",
              "<svg xmlns=\"http://www.w3.org/2000/svg\" height=\"24px\"viewBox=\"0 0 24 24\"\n",
              "     width=\"24px\">\n",
              "    <g>\n",
              "        <path d=\"M19 3H5c-1.1 0-2 .9-2 2v14c0 1.1.9 2 2 2h14c1.1 0 2-.9 2-2V5c0-1.1-.9-2-2-2zM9 17H7v-7h2v7zm4 0h-2V7h2v10zm4 0h-2v-4h2v4z\"/>\n",
              "    </g>\n",
              "</svg>\n",
              "  </button>\n",
              "\n",
              "<style>\n",
              "  .colab-df-quickchart {\n",
              "      --bg-color: #E8F0FE;\n",
              "      --fill-color: #1967D2;\n",
              "      --hover-bg-color: #E2EBFA;\n",
              "      --hover-fill-color: #174EA6;\n",
              "      --disabled-fill-color: #AAA;\n",
              "      --disabled-bg-color: #DDD;\n",
              "  }\n",
              "\n",
              "  [theme=dark] .colab-df-quickchart {\n",
              "      --bg-color: #3B4455;\n",
              "      --fill-color: #D2E3FC;\n",
              "      --hover-bg-color: #434B5C;\n",
              "      --hover-fill-color: #FFFFFF;\n",
              "      --disabled-bg-color: #3B4455;\n",
              "      --disabled-fill-color: #666;\n",
              "  }\n",
              "\n",
              "  .colab-df-quickchart {\n",
              "    background-color: var(--bg-color);\n",
              "    border: none;\n",
              "    border-radius: 50%;\n",
              "    cursor: pointer;\n",
              "    display: none;\n",
              "    fill: var(--fill-color);\n",
              "    height: 32px;\n",
              "    padding: 0;\n",
              "    width: 32px;\n",
              "  }\n",
              "\n",
              "  .colab-df-quickchart:hover {\n",
              "    background-color: var(--hover-bg-color);\n",
              "    box-shadow: 0 1px 2px rgba(60, 64, 67, 0.3), 0 1px 3px 1px rgba(60, 64, 67, 0.15);\n",
              "    fill: var(--button-hover-fill-color);\n",
              "  }\n",
              "\n",
              "  .colab-df-quickchart-complete:disabled,\n",
              "  .colab-df-quickchart-complete:disabled:hover {\n",
              "    background-color: var(--disabled-bg-color);\n",
              "    fill: var(--disabled-fill-color);\n",
              "    box-shadow: none;\n",
              "  }\n",
              "\n",
              "  .colab-df-spinner {\n",
              "    border: 2px solid var(--fill-color);\n",
              "    border-color: transparent;\n",
              "    border-bottom-color: var(--fill-color);\n",
              "    animation:\n",
              "      spin 1s steps(1) infinite;\n",
              "  }\n",
              "\n",
              "  @keyframes spin {\n",
              "    0% {\n",
              "      border-color: transparent;\n",
              "      border-bottom-color: var(--fill-color);\n",
              "      border-left-color: var(--fill-color);\n",
              "    }\n",
              "    20% {\n",
              "      border-color: transparent;\n",
              "      border-left-color: var(--fill-color);\n",
              "      border-top-color: var(--fill-color);\n",
              "    }\n",
              "    30% {\n",
              "      border-color: transparent;\n",
              "      border-left-color: var(--fill-color);\n",
              "      border-top-color: var(--fill-color);\n",
              "      border-right-color: var(--fill-color);\n",
              "    }\n",
              "    40% {\n",
              "      border-color: transparent;\n",
              "      border-right-color: var(--fill-color);\n",
              "      border-top-color: var(--fill-color);\n",
              "    }\n",
              "    60% {\n",
              "      border-color: transparent;\n",
              "      border-right-color: var(--fill-color);\n",
              "    }\n",
              "    80% {\n",
              "      border-color: transparent;\n",
              "      border-right-color: var(--fill-color);\n",
              "      border-bottom-color: var(--fill-color);\n",
              "    }\n",
              "    90% {\n",
              "      border-color: transparent;\n",
              "      border-bottom-color: var(--fill-color);\n",
              "    }\n",
              "  }\n",
              "</style>\n",
              "\n",
              "  <script>\n",
              "    async function quickchart(key) {\n",
              "      const quickchartButtonEl =\n",
              "        document.querySelector('#' + key + ' button');\n",
              "      quickchartButtonEl.disabled = true;  // To prevent multiple clicks.\n",
              "      quickchartButtonEl.classList.add('colab-df-spinner');\n",
              "      try {\n",
              "        const charts = await google.colab.kernel.invokeFunction(\n",
              "            'suggestCharts', [key], {});\n",
              "      } catch (error) {\n",
              "        console.error('Error during call to suggestCharts:', error);\n",
              "      }\n",
              "      quickchartButtonEl.classList.remove('colab-df-spinner');\n",
              "      quickchartButtonEl.classList.add('colab-df-quickchart-complete');\n",
              "    }\n",
              "    (() => {\n",
              "      let quickchartButtonEl =\n",
              "        document.querySelector('#df-8208f0b1-72cd-4f8b-bffe-273ca2bcb718 button');\n",
              "      quickchartButtonEl.style.display =\n",
              "        google.colab.kernel.accessAllowed ? 'block' : 'none';\n",
              "    })();\n",
              "  </script>\n",
              "</div>\n",
              "    </div>\n",
              "  </div>\n"
            ],
            "application/vnd.google.colaboratory.intrinsic+json": {
              "type": "dataframe",
              "variable_name": "d",
              "repr_error": "'str' object has no attribute 'empty'"
            }
          },
          "metadata": {},
          "execution_count": 197
        }
      ]
    },
    {
      "cell_type": "markdown",
      "source": [
        "**a. Remove the column ‘wip’ from the dataset.**"
      ],
      "metadata": {
        "id": "iym1QkNVo7bL"
      }
    },
    {
      "cell_type": "code",
      "execution_count": null,
      "metadata": {
        "id": "Qwfvw9oLn9I_",
        "colab": {
          "base_uri": "https://localhost:8080/",
          "height": 226
        },
        "outputId": "c51e3a24-2309-49fd-a162-70a5ca0509d5"
      },
      "outputs": [
        {
          "output_type": "execute_result",
          "data": {
            "text/plain": [
              "       date   quarter  department       day  team  targeted_productivity  \\\n",
              "0  1/1/2015  Quarter1      sweing  Thursday     8                   0.80   \n",
              "1  1/1/2015  Quarter1  finishing   Thursday     1                   0.75   \n",
              "2  1/1/2015  Quarter1      sweing  Thursday    11                   0.80   \n",
              "3  1/1/2015  Quarter1      sweing  Thursday    12                   0.80   \n",
              "4  1/1/2015  Quarter1      sweing  Thursday     6                   0.80   \n",
              "\n",
              "     smv  over_time  incentive  idle_time  idle_men  no_of_style_change  \\\n",
              "0  26.16       7080         98        0.0         0                   0   \n",
              "1   3.94        960          0        0.0         0                   0   \n",
              "2  11.41       3660         50        0.0         0                   0   \n",
              "3  11.41       3660         50        0.0         0                   0   \n",
              "4  25.90       1920         50        0.0         0                   0   \n",
              "\n",
              "   no_of_workers  actual_productivity  \n",
              "0           59.0             0.940725  \n",
              "1            8.0             0.886500  \n",
              "2           30.5             0.800570  \n",
              "3           30.5             0.800570  \n",
              "4           56.0             0.800382  "
            ],
            "text/html": [
              "\n",
              "  <div id=\"df-1eb039a6-0f47-44de-ab2f-ae2d23687fb7\" class=\"colab-df-container\">\n",
              "    <div>\n",
              "<style scoped>\n",
              "    .dataframe tbody tr th:only-of-type {\n",
              "        vertical-align: middle;\n",
              "    }\n",
              "\n",
              "    .dataframe tbody tr th {\n",
              "        vertical-align: top;\n",
              "    }\n",
              "\n",
              "    .dataframe thead th {\n",
              "        text-align: right;\n",
              "    }\n",
              "</style>\n",
              "<table border=\"1\" class=\"dataframe\">\n",
              "  <thead>\n",
              "    <tr style=\"text-align: right;\">\n",
              "      <th></th>\n",
              "      <th>date</th>\n",
              "      <th>quarter</th>\n",
              "      <th>department</th>\n",
              "      <th>day</th>\n",
              "      <th>team</th>\n",
              "      <th>targeted_productivity</th>\n",
              "      <th>smv</th>\n",
              "      <th>over_time</th>\n",
              "      <th>incentive</th>\n",
              "      <th>idle_time</th>\n",
              "      <th>idle_men</th>\n",
              "      <th>no_of_style_change</th>\n",
              "      <th>no_of_workers</th>\n",
              "      <th>actual_productivity</th>\n",
              "    </tr>\n",
              "  </thead>\n",
              "  <tbody>\n",
              "    <tr>\n",
              "      <th>0</th>\n",
              "      <td>1/1/2015</td>\n",
              "      <td>Quarter1</td>\n",
              "      <td>sweing</td>\n",
              "      <td>Thursday</td>\n",
              "      <td>8</td>\n",
              "      <td>0.80</td>\n",
              "      <td>26.16</td>\n",
              "      <td>7080</td>\n",
              "      <td>98</td>\n",
              "      <td>0.0</td>\n",
              "      <td>0</td>\n",
              "      <td>0</td>\n",
              "      <td>59.0</td>\n",
              "      <td>0.940725</td>\n",
              "    </tr>\n",
              "    <tr>\n",
              "      <th>1</th>\n",
              "      <td>1/1/2015</td>\n",
              "      <td>Quarter1</td>\n",
              "      <td>finishing</td>\n",
              "      <td>Thursday</td>\n",
              "      <td>1</td>\n",
              "      <td>0.75</td>\n",
              "      <td>3.94</td>\n",
              "      <td>960</td>\n",
              "      <td>0</td>\n",
              "      <td>0.0</td>\n",
              "      <td>0</td>\n",
              "      <td>0</td>\n",
              "      <td>8.0</td>\n",
              "      <td>0.886500</td>\n",
              "    </tr>\n",
              "    <tr>\n",
              "      <th>2</th>\n",
              "      <td>1/1/2015</td>\n",
              "      <td>Quarter1</td>\n",
              "      <td>sweing</td>\n",
              "      <td>Thursday</td>\n",
              "      <td>11</td>\n",
              "      <td>0.80</td>\n",
              "      <td>11.41</td>\n",
              "      <td>3660</td>\n",
              "      <td>50</td>\n",
              "      <td>0.0</td>\n",
              "      <td>0</td>\n",
              "      <td>0</td>\n",
              "      <td>30.5</td>\n",
              "      <td>0.800570</td>\n",
              "    </tr>\n",
              "    <tr>\n",
              "      <th>3</th>\n",
              "      <td>1/1/2015</td>\n",
              "      <td>Quarter1</td>\n",
              "      <td>sweing</td>\n",
              "      <td>Thursday</td>\n",
              "      <td>12</td>\n",
              "      <td>0.80</td>\n",
              "      <td>11.41</td>\n",
              "      <td>3660</td>\n",
              "      <td>50</td>\n",
              "      <td>0.0</td>\n",
              "      <td>0</td>\n",
              "      <td>0</td>\n",
              "      <td>30.5</td>\n",
              "      <td>0.800570</td>\n",
              "    </tr>\n",
              "    <tr>\n",
              "      <th>4</th>\n",
              "      <td>1/1/2015</td>\n",
              "      <td>Quarter1</td>\n",
              "      <td>sweing</td>\n",
              "      <td>Thursday</td>\n",
              "      <td>6</td>\n",
              "      <td>0.80</td>\n",
              "      <td>25.90</td>\n",
              "      <td>1920</td>\n",
              "      <td>50</td>\n",
              "      <td>0.0</td>\n",
              "      <td>0</td>\n",
              "      <td>0</td>\n",
              "      <td>56.0</td>\n",
              "      <td>0.800382</td>\n",
              "    </tr>\n",
              "  </tbody>\n",
              "</table>\n",
              "</div>\n",
              "    <div class=\"colab-df-buttons\">\n",
              "\n",
              "  <div class=\"colab-df-container\">\n",
              "    <button class=\"colab-df-convert\" onclick=\"convertToInteractive('df-1eb039a6-0f47-44de-ab2f-ae2d23687fb7')\"\n",
              "            title=\"Convert this dataframe to an interactive table.\"\n",
              "            style=\"display:none;\">\n",
              "\n",
              "  <svg xmlns=\"http://www.w3.org/2000/svg\" height=\"24px\" viewBox=\"0 -960 960 960\">\n",
              "    <path d=\"M120-120v-720h720v720H120Zm60-500h600v-160H180v160Zm220 220h160v-160H400v160Zm0 220h160v-160H400v160ZM180-400h160v-160H180v160Zm440 0h160v-160H620v160ZM180-180h160v-160H180v160Zm440 0h160v-160H620v160Z\"/>\n",
              "  </svg>\n",
              "    </button>\n",
              "\n",
              "  <style>\n",
              "    .colab-df-container {\n",
              "      display:flex;\n",
              "      gap: 12px;\n",
              "    }\n",
              "\n",
              "    .colab-df-convert {\n",
              "      background-color: #E8F0FE;\n",
              "      border: none;\n",
              "      border-radius: 50%;\n",
              "      cursor: pointer;\n",
              "      display: none;\n",
              "      fill: #1967D2;\n",
              "      height: 32px;\n",
              "      padding: 0 0 0 0;\n",
              "      width: 32px;\n",
              "    }\n",
              "\n",
              "    .colab-df-convert:hover {\n",
              "      background-color: #E2EBFA;\n",
              "      box-shadow: 0px 1px 2px rgba(60, 64, 67, 0.3), 0px 1px 3px 1px rgba(60, 64, 67, 0.15);\n",
              "      fill: #174EA6;\n",
              "    }\n",
              "\n",
              "    .colab-df-buttons div {\n",
              "      margin-bottom: 4px;\n",
              "    }\n",
              "\n",
              "    [theme=dark] .colab-df-convert {\n",
              "      background-color: #3B4455;\n",
              "      fill: #D2E3FC;\n",
              "    }\n",
              "\n",
              "    [theme=dark] .colab-df-convert:hover {\n",
              "      background-color: #434B5C;\n",
              "      box-shadow: 0px 1px 3px 1px rgba(0, 0, 0, 0.15);\n",
              "      filter: drop-shadow(0px 1px 2px rgba(0, 0, 0, 0.3));\n",
              "      fill: #FFFFFF;\n",
              "    }\n",
              "  </style>\n",
              "\n",
              "    <script>\n",
              "      const buttonEl =\n",
              "        document.querySelector('#df-1eb039a6-0f47-44de-ab2f-ae2d23687fb7 button.colab-df-convert');\n",
              "      buttonEl.style.display =\n",
              "        google.colab.kernel.accessAllowed ? 'block' : 'none';\n",
              "\n",
              "      async function convertToInteractive(key) {\n",
              "        const element = document.querySelector('#df-1eb039a6-0f47-44de-ab2f-ae2d23687fb7');\n",
              "        const dataTable =\n",
              "          await google.colab.kernel.invokeFunction('convertToInteractive',\n",
              "                                                    [key], {});\n",
              "        if (!dataTable) return;\n",
              "\n",
              "        const docLinkHtml = 'Like what you see? Visit the ' +\n",
              "          '<a target=\"_blank\" href=https://colab.research.google.com/notebooks/data_table.ipynb>data table notebook</a>'\n",
              "          + ' to learn more about interactive tables.';\n",
              "        element.innerHTML = '';\n",
              "        dataTable['output_type'] = 'display_data';\n",
              "        await google.colab.output.renderOutput(dataTable, element);\n",
              "        const docLink = document.createElement('div');\n",
              "        docLink.innerHTML = docLinkHtml;\n",
              "        element.appendChild(docLink);\n",
              "      }\n",
              "    </script>\n",
              "  </div>\n",
              "\n",
              "\n",
              "<div id=\"df-df26250f-8d44-419f-89fb-ff6336fb5bcc\">\n",
              "  <button class=\"colab-df-quickchart\" onclick=\"quickchart('df-df26250f-8d44-419f-89fb-ff6336fb5bcc')\"\n",
              "            title=\"Suggest charts\"\n",
              "            style=\"display:none;\">\n",
              "\n",
              "<svg xmlns=\"http://www.w3.org/2000/svg\" height=\"24px\"viewBox=\"0 0 24 24\"\n",
              "     width=\"24px\">\n",
              "    <g>\n",
              "        <path d=\"M19 3H5c-1.1 0-2 .9-2 2v14c0 1.1.9 2 2 2h14c1.1 0 2-.9 2-2V5c0-1.1-.9-2-2-2zM9 17H7v-7h2v7zm4 0h-2V7h2v10zm4 0h-2v-4h2v4z\"/>\n",
              "    </g>\n",
              "</svg>\n",
              "  </button>\n",
              "\n",
              "<style>\n",
              "  .colab-df-quickchart {\n",
              "      --bg-color: #E8F0FE;\n",
              "      --fill-color: #1967D2;\n",
              "      --hover-bg-color: #E2EBFA;\n",
              "      --hover-fill-color: #174EA6;\n",
              "      --disabled-fill-color: #AAA;\n",
              "      --disabled-bg-color: #DDD;\n",
              "  }\n",
              "\n",
              "  [theme=dark] .colab-df-quickchart {\n",
              "      --bg-color: #3B4455;\n",
              "      --fill-color: #D2E3FC;\n",
              "      --hover-bg-color: #434B5C;\n",
              "      --hover-fill-color: #FFFFFF;\n",
              "      --disabled-bg-color: #3B4455;\n",
              "      --disabled-fill-color: #666;\n",
              "  }\n",
              "\n",
              "  .colab-df-quickchart {\n",
              "    background-color: var(--bg-color);\n",
              "    border: none;\n",
              "    border-radius: 50%;\n",
              "    cursor: pointer;\n",
              "    display: none;\n",
              "    fill: var(--fill-color);\n",
              "    height: 32px;\n",
              "    padding: 0;\n",
              "    width: 32px;\n",
              "  }\n",
              "\n",
              "  .colab-df-quickchart:hover {\n",
              "    background-color: var(--hover-bg-color);\n",
              "    box-shadow: 0 1px 2px rgba(60, 64, 67, 0.3), 0 1px 3px 1px rgba(60, 64, 67, 0.15);\n",
              "    fill: var(--button-hover-fill-color);\n",
              "  }\n",
              "\n",
              "  .colab-df-quickchart-complete:disabled,\n",
              "  .colab-df-quickchart-complete:disabled:hover {\n",
              "    background-color: var(--disabled-bg-color);\n",
              "    fill: var(--disabled-fill-color);\n",
              "    box-shadow: none;\n",
              "  }\n",
              "\n",
              "  .colab-df-spinner {\n",
              "    border: 2px solid var(--fill-color);\n",
              "    border-color: transparent;\n",
              "    border-bottom-color: var(--fill-color);\n",
              "    animation:\n",
              "      spin 1s steps(1) infinite;\n",
              "  }\n",
              "\n",
              "  @keyframes spin {\n",
              "    0% {\n",
              "      border-color: transparent;\n",
              "      border-bottom-color: var(--fill-color);\n",
              "      border-left-color: var(--fill-color);\n",
              "    }\n",
              "    20% {\n",
              "      border-color: transparent;\n",
              "      border-left-color: var(--fill-color);\n",
              "      border-top-color: var(--fill-color);\n",
              "    }\n",
              "    30% {\n",
              "      border-color: transparent;\n",
              "      border-left-color: var(--fill-color);\n",
              "      border-top-color: var(--fill-color);\n",
              "      border-right-color: var(--fill-color);\n",
              "    }\n",
              "    40% {\n",
              "      border-color: transparent;\n",
              "      border-right-color: var(--fill-color);\n",
              "      border-top-color: var(--fill-color);\n",
              "    }\n",
              "    60% {\n",
              "      border-color: transparent;\n",
              "      border-right-color: var(--fill-color);\n",
              "    }\n",
              "    80% {\n",
              "      border-color: transparent;\n",
              "      border-right-color: var(--fill-color);\n",
              "      border-bottom-color: var(--fill-color);\n",
              "    }\n",
              "    90% {\n",
              "      border-color: transparent;\n",
              "      border-bottom-color: var(--fill-color);\n",
              "    }\n",
              "  }\n",
              "</style>\n",
              "\n",
              "  <script>\n",
              "    async function quickchart(key) {\n",
              "      const quickchartButtonEl =\n",
              "        document.querySelector('#' + key + ' button');\n",
              "      quickchartButtonEl.disabled = true;  // To prevent multiple clicks.\n",
              "      quickchartButtonEl.classList.add('colab-df-spinner');\n",
              "      try {\n",
              "        const charts = await google.colab.kernel.invokeFunction(\n",
              "            'suggestCharts', [key], {});\n",
              "      } catch (error) {\n",
              "        console.error('Error during call to suggestCharts:', error);\n",
              "      }\n",
              "      quickchartButtonEl.classList.remove('colab-df-spinner');\n",
              "      quickchartButtonEl.classList.add('colab-df-quickchart-complete');\n",
              "    }\n",
              "    (() => {\n",
              "      let quickchartButtonEl =\n",
              "        document.querySelector('#df-df26250f-8d44-419f-89fb-ff6336fb5bcc button');\n",
              "      quickchartButtonEl.style.display =\n",
              "        google.colab.kernel.accessAllowed ? 'block' : 'none';\n",
              "    })();\n",
              "  </script>\n",
              "</div>\n",
              "    </div>\n",
              "  </div>\n"
            ],
            "application/vnd.google.colaboratory.intrinsic+json": {
              "type": "dataframe",
              "variable_name": "d",
              "repr_error": "'str' object has no attribute 'empty'"
            }
          },
          "metadata": {},
          "execution_count": 198
        }
      ],
      "source": [
        "d.drop(columns=['wip'], inplace=True)\n",
        "d.head()"
      ]
    },
    {
      "cell_type": "markdown",
      "source": [
        " **b. Create another variable names ‘log_productivity’ which is defined as log_prodductivity = log(actual_prouctivity * 100). Store any new variable as an additional column in the original data frame.**"
      ],
      "metadata": {
        "id": "mOYSam9eo_ZO"
      }
    },
    {
      "cell_type": "code",
      "source": [
        "d[\"log_productivity\"]= np.log(d[\"actual_productivity\"] * 100)\n",
        "d.head()"
      ],
      "metadata": {
        "colab": {
          "base_uri": "https://localhost:8080/",
          "height": 226
        },
        "id": "sonUbh9vuZCb",
        "outputId": "366c0d2f-a0e6-4c55-b609-7a06ae5ac9ec"
      },
      "execution_count": null,
      "outputs": [
        {
          "output_type": "execute_result",
          "data": {
            "text/plain": [
              "       date   quarter  department       day  team  targeted_productivity  \\\n",
              "0  1/1/2015  Quarter1      sweing  Thursday     8                   0.80   \n",
              "1  1/1/2015  Quarter1  finishing   Thursday     1                   0.75   \n",
              "2  1/1/2015  Quarter1      sweing  Thursday    11                   0.80   \n",
              "3  1/1/2015  Quarter1      sweing  Thursday    12                   0.80   \n",
              "4  1/1/2015  Quarter1      sweing  Thursday     6                   0.80   \n",
              "\n",
              "     smv  over_time  incentive  idle_time  idle_men  no_of_style_change  \\\n",
              "0  26.16       7080         98        0.0         0                   0   \n",
              "1   3.94        960          0        0.0         0                   0   \n",
              "2  11.41       3660         50        0.0         0                   0   \n",
              "3  11.41       3660         50        0.0         0                   0   \n",
              "4  25.90       1920         50        0.0         0                   0   \n",
              "\n",
              "   no_of_workers  actual_productivity  log_productivity  \n",
              "0           59.0             0.940725          4.544066  \n",
              "1            8.0             0.886500          4.484696  \n",
              "2           30.5             0.800570          4.382739  \n",
              "3           30.5             0.800570          4.382739  \n",
              "4           56.0             0.800382          4.382504  "
            ],
            "text/html": [
              "\n",
              "  <div id=\"df-ea7e6706-9938-497e-81dc-ae4447099771\" class=\"colab-df-container\">\n",
              "    <div>\n",
              "<style scoped>\n",
              "    .dataframe tbody tr th:only-of-type {\n",
              "        vertical-align: middle;\n",
              "    }\n",
              "\n",
              "    .dataframe tbody tr th {\n",
              "        vertical-align: top;\n",
              "    }\n",
              "\n",
              "    .dataframe thead th {\n",
              "        text-align: right;\n",
              "    }\n",
              "</style>\n",
              "<table border=\"1\" class=\"dataframe\">\n",
              "  <thead>\n",
              "    <tr style=\"text-align: right;\">\n",
              "      <th></th>\n",
              "      <th>date</th>\n",
              "      <th>quarter</th>\n",
              "      <th>department</th>\n",
              "      <th>day</th>\n",
              "      <th>team</th>\n",
              "      <th>targeted_productivity</th>\n",
              "      <th>smv</th>\n",
              "      <th>over_time</th>\n",
              "      <th>incentive</th>\n",
              "      <th>idle_time</th>\n",
              "      <th>idle_men</th>\n",
              "      <th>no_of_style_change</th>\n",
              "      <th>no_of_workers</th>\n",
              "      <th>actual_productivity</th>\n",
              "      <th>log_productivity</th>\n",
              "    </tr>\n",
              "  </thead>\n",
              "  <tbody>\n",
              "    <tr>\n",
              "      <th>0</th>\n",
              "      <td>1/1/2015</td>\n",
              "      <td>Quarter1</td>\n",
              "      <td>sweing</td>\n",
              "      <td>Thursday</td>\n",
              "      <td>8</td>\n",
              "      <td>0.80</td>\n",
              "      <td>26.16</td>\n",
              "      <td>7080</td>\n",
              "      <td>98</td>\n",
              "      <td>0.0</td>\n",
              "      <td>0</td>\n",
              "      <td>0</td>\n",
              "      <td>59.0</td>\n",
              "      <td>0.940725</td>\n",
              "      <td>4.544066</td>\n",
              "    </tr>\n",
              "    <tr>\n",
              "      <th>1</th>\n",
              "      <td>1/1/2015</td>\n",
              "      <td>Quarter1</td>\n",
              "      <td>finishing</td>\n",
              "      <td>Thursday</td>\n",
              "      <td>1</td>\n",
              "      <td>0.75</td>\n",
              "      <td>3.94</td>\n",
              "      <td>960</td>\n",
              "      <td>0</td>\n",
              "      <td>0.0</td>\n",
              "      <td>0</td>\n",
              "      <td>0</td>\n",
              "      <td>8.0</td>\n",
              "      <td>0.886500</td>\n",
              "      <td>4.484696</td>\n",
              "    </tr>\n",
              "    <tr>\n",
              "      <th>2</th>\n",
              "      <td>1/1/2015</td>\n",
              "      <td>Quarter1</td>\n",
              "      <td>sweing</td>\n",
              "      <td>Thursday</td>\n",
              "      <td>11</td>\n",
              "      <td>0.80</td>\n",
              "      <td>11.41</td>\n",
              "      <td>3660</td>\n",
              "      <td>50</td>\n",
              "      <td>0.0</td>\n",
              "      <td>0</td>\n",
              "      <td>0</td>\n",
              "      <td>30.5</td>\n",
              "      <td>0.800570</td>\n",
              "      <td>4.382739</td>\n",
              "    </tr>\n",
              "    <tr>\n",
              "      <th>3</th>\n",
              "      <td>1/1/2015</td>\n",
              "      <td>Quarter1</td>\n",
              "      <td>sweing</td>\n",
              "      <td>Thursday</td>\n",
              "      <td>12</td>\n",
              "      <td>0.80</td>\n",
              "      <td>11.41</td>\n",
              "      <td>3660</td>\n",
              "      <td>50</td>\n",
              "      <td>0.0</td>\n",
              "      <td>0</td>\n",
              "      <td>0</td>\n",
              "      <td>30.5</td>\n",
              "      <td>0.800570</td>\n",
              "      <td>4.382739</td>\n",
              "    </tr>\n",
              "    <tr>\n",
              "      <th>4</th>\n",
              "      <td>1/1/2015</td>\n",
              "      <td>Quarter1</td>\n",
              "      <td>sweing</td>\n",
              "      <td>Thursday</td>\n",
              "      <td>6</td>\n",
              "      <td>0.80</td>\n",
              "      <td>25.90</td>\n",
              "      <td>1920</td>\n",
              "      <td>50</td>\n",
              "      <td>0.0</td>\n",
              "      <td>0</td>\n",
              "      <td>0</td>\n",
              "      <td>56.0</td>\n",
              "      <td>0.800382</td>\n",
              "      <td>4.382504</td>\n",
              "    </tr>\n",
              "  </tbody>\n",
              "</table>\n",
              "</div>\n",
              "    <div class=\"colab-df-buttons\">\n",
              "\n",
              "  <div class=\"colab-df-container\">\n",
              "    <button class=\"colab-df-convert\" onclick=\"convertToInteractive('df-ea7e6706-9938-497e-81dc-ae4447099771')\"\n",
              "            title=\"Convert this dataframe to an interactive table.\"\n",
              "            style=\"display:none;\">\n",
              "\n",
              "  <svg xmlns=\"http://www.w3.org/2000/svg\" height=\"24px\" viewBox=\"0 -960 960 960\">\n",
              "    <path d=\"M120-120v-720h720v720H120Zm60-500h600v-160H180v160Zm220 220h160v-160H400v160Zm0 220h160v-160H400v160ZM180-400h160v-160H180v160Zm440 0h160v-160H620v160ZM180-180h160v-160H180v160Zm440 0h160v-160H620v160Z\"/>\n",
              "  </svg>\n",
              "    </button>\n",
              "\n",
              "  <style>\n",
              "    .colab-df-container {\n",
              "      display:flex;\n",
              "      gap: 12px;\n",
              "    }\n",
              "\n",
              "    .colab-df-convert {\n",
              "      background-color: #E8F0FE;\n",
              "      border: none;\n",
              "      border-radius: 50%;\n",
              "      cursor: pointer;\n",
              "      display: none;\n",
              "      fill: #1967D2;\n",
              "      height: 32px;\n",
              "      padding: 0 0 0 0;\n",
              "      width: 32px;\n",
              "    }\n",
              "\n",
              "    .colab-df-convert:hover {\n",
              "      background-color: #E2EBFA;\n",
              "      box-shadow: 0px 1px 2px rgba(60, 64, 67, 0.3), 0px 1px 3px 1px rgba(60, 64, 67, 0.15);\n",
              "      fill: #174EA6;\n",
              "    }\n",
              "\n",
              "    .colab-df-buttons div {\n",
              "      margin-bottom: 4px;\n",
              "    }\n",
              "\n",
              "    [theme=dark] .colab-df-convert {\n",
              "      background-color: #3B4455;\n",
              "      fill: #D2E3FC;\n",
              "    }\n",
              "\n",
              "    [theme=dark] .colab-df-convert:hover {\n",
              "      background-color: #434B5C;\n",
              "      box-shadow: 0px 1px 3px 1px rgba(0, 0, 0, 0.15);\n",
              "      filter: drop-shadow(0px 1px 2px rgba(0, 0, 0, 0.3));\n",
              "      fill: #FFFFFF;\n",
              "    }\n",
              "  </style>\n",
              "\n",
              "    <script>\n",
              "      const buttonEl =\n",
              "        document.querySelector('#df-ea7e6706-9938-497e-81dc-ae4447099771 button.colab-df-convert');\n",
              "      buttonEl.style.display =\n",
              "        google.colab.kernel.accessAllowed ? 'block' : 'none';\n",
              "\n",
              "      async function convertToInteractive(key) {\n",
              "        const element = document.querySelector('#df-ea7e6706-9938-497e-81dc-ae4447099771');\n",
              "        const dataTable =\n",
              "          await google.colab.kernel.invokeFunction('convertToInteractive',\n",
              "                                                    [key], {});\n",
              "        if (!dataTable) return;\n",
              "\n",
              "        const docLinkHtml = 'Like what you see? Visit the ' +\n",
              "          '<a target=\"_blank\" href=https://colab.research.google.com/notebooks/data_table.ipynb>data table notebook</a>'\n",
              "          + ' to learn more about interactive tables.';\n",
              "        element.innerHTML = '';\n",
              "        dataTable['output_type'] = 'display_data';\n",
              "        await google.colab.output.renderOutput(dataTable, element);\n",
              "        const docLink = document.createElement('div');\n",
              "        docLink.innerHTML = docLinkHtml;\n",
              "        element.appendChild(docLink);\n",
              "      }\n",
              "    </script>\n",
              "  </div>\n",
              "\n",
              "\n",
              "<div id=\"df-6fe9214e-431d-4275-99f0-a0a48cbe4b15\">\n",
              "  <button class=\"colab-df-quickchart\" onclick=\"quickchart('df-6fe9214e-431d-4275-99f0-a0a48cbe4b15')\"\n",
              "            title=\"Suggest charts\"\n",
              "            style=\"display:none;\">\n",
              "\n",
              "<svg xmlns=\"http://www.w3.org/2000/svg\" height=\"24px\"viewBox=\"0 0 24 24\"\n",
              "     width=\"24px\">\n",
              "    <g>\n",
              "        <path d=\"M19 3H5c-1.1 0-2 .9-2 2v14c0 1.1.9 2 2 2h14c1.1 0 2-.9 2-2V5c0-1.1-.9-2-2-2zM9 17H7v-7h2v7zm4 0h-2V7h2v10zm4 0h-2v-4h2v4z\"/>\n",
              "    </g>\n",
              "</svg>\n",
              "  </button>\n",
              "\n",
              "<style>\n",
              "  .colab-df-quickchart {\n",
              "      --bg-color: #E8F0FE;\n",
              "      --fill-color: #1967D2;\n",
              "      --hover-bg-color: #E2EBFA;\n",
              "      --hover-fill-color: #174EA6;\n",
              "      --disabled-fill-color: #AAA;\n",
              "      --disabled-bg-color: #DDD;\n",
              "  }\n",
              "\n",
              "  [theme=dark] .colab-df-quickchart {\n",
              "      --bg-color: #3B4455;\n",
              "      --fill-color: #D2E3FC;\n",
              "      --hover-bg-color: #434B5C;\n",
              "      --hover-fill-color: #FFFFFF;\n",
              "      --disabled-bg-color: #3B4455;\n",
              "      --disabled-fill-color: #666;\n",
              "  }\n",
              "\n",
              "  .colab-df-quickchart {\n",
              "    background-color: var(--bg-color);\n",
              "    border: none;\n",
              "    border-radius: 50%;\n",
              "    cursor: pointer;\n",
              "    display: none;\n",
              "    fill: var(--fill-color);\n",
              "    height: 32px;\n",
              "    padding: 0;\n",
              "    width: 32px;\n",
              "  }\n",
              "\n",
              "  .colab-df-quickchart:hover {\n",
              "    background-color: var(--hover-bg-color);\n",
              "    box-shadow: 0 1px 2px rgba(60, 64, 67, 0.3), 0 1px 3px 1px rgba(60, 64, 67, 0.15);\n",
              "    fill: var(--button-hover-fill-color);\n",
              "  }\n",
              "\n",
              "  .colab-df-quickchart-complete:disabled,\n",
              "  .colab-df-quickchart-complete:disabled:hover {\n",
              "    background-color: var(--disabled-bg-color);\n",
              "    fill: var(--disabled-fill-color);\n",
              "    box-shadow: none;\n",
              "  }\n",
              "\n",
              "  .colab-df-spinner {\n",
              "    border: 2px solid var(--fill-color);\n",
              "    border-color: transparent;\n",
              "    border-bottom-color: var(--fill-color);\n",
              "    animation:\n",
              "      spin 1s steps(1) infinite;\n",
              "  }\n",
              "\n",
              "  @keyframes spin {\n",
              "    0% {\n",
              "      border-color: transparent;\n",
              "      border-bottom-color: var(--fill-color);\n",
              "      border-left-color: var(--fill-color);\n",
              "    }\n",
              "    20% {\n",
              "      border-color: transparent;\n",
              "      border-left-color: var(--fill-color);\n",
              "      border-top-color: var(--fill-color);\n",
              "    }\n",
              "    30% {\n",
              "      border-color: transparent;\n",
              "      border-left-color: var(--fill-color);\n",
              "      border-top-color: var(--fill-color);\n",
              "      border-right-color: var(--fill-color);\n",
              "    }\n",
              "    40% {\n",
              "      border-color: transparent;\n",
              "      border-right-color: var(--fill-color);\n",
              "      border-top-color: var(--fill-color);\n",
              "    }\n",
              "    60% {\n",
              "      border-color: transparent;\n",
              "      border-right-color: var(--fill-color);\n",
              "    }\n",
              "    80% {\n",
              "      border-color: transparent;\n",
              "      border-right-color: var(--fill-color);\n",
              "      border-bottom-color: var(--fill-color);\n",
              "    }\n",
              "    90% {\n",
              "      border-color: transparent;\n",
              "      border-bottom-color: var(--fill-color);\n",
              "    }\n",
              "  }\n",
              "</style>\n",
              "\n",
              "  <script>\n",
              "    async function quickchart(key) {\n",
              "      const quickchartButtonEl =\n",
              "        document.querySelector('#' + key + ' button');\n",
              "      quickchartButtonEl.disabled = true;  // To prevent multiple clicks.\n",
              "      quickchartButtonEl.classList.add('colab-df-spinner');\n",
              "      try {\n",
              "        const charts = await google.colab.kernel.invokeFunction(\n",
              "            'suggestCharts', [key], {});\n",
              "      } catch (error) {\n",
              "        console.error('Error during call to suggestCharts:', error);\n",
              "      }\n",
              "      quickchartButtonEl.classList.remove('colab-df-spinner');\n",
              "      quickchartButtonEl.classList.add('colab-df-quickchart-complete');\n",
              "    }\n",
              "    (() => {\n",
              "      let quickchartButtonEl =\n",
              "        document.querySelector('#df-6fe9214e-431d-4275-99f0-a0a48cbe4b15 button');\n",
              "      quickchartButtonEl.style.display =\n",
              "        google.colab.kernel.accessAllowed ? 'block' : 'none';\n",
              "    })();\n",
              "  </script>\n",
              "</div>\n",
              "    </div>\n",
              "  </div>\n"
            ],
            "application/vnd.google.colaboratory.intrinsic+json": {
              "type": "dataframe",
              "variable_name": "d",
              "repr_error": "'str' object has no attribute 'empty'"
            }
          },
          "metadata": {},
          "execution_count": 199
        }
      ]
    },
    {
      "cell_type": "markdown",
      "source": [
        "**c. Create another variable called ‘log_no_of_workers’ which is the natural logarithm of the no_of_workers.**"
      ],
      "metadata": {
        "id": "PfefbnqjpPcZ"
      }
    },
    {
      "cell_type": "code",
      "source": [
        "d[\"log_no_of_workers\"]= np.log(d[\"no_of_workers\"])\n",
        "d.head()"
      ],
      "metadata": {
        "id": "dbQSy7TnvPj8",
        "colab": {
          "base_uri": "https://localhost:8080/",
          "height": 226
        },
        "outputId": "a9647e4b-310f-4eb9-9890-70bd85c38ca1"
      },
      "execution_count": null,
      "outputs": [
        {
          "output_type": "execute_result",
          "data": {
            "text/plain": [
              "       date   quarter  department       day  team  targeted_productivity  \\\n",
              "0  1/1/2015  Quarter1      sweing  Thursday     8                   0.80   \n",
              "1  1/1/2015  Quarter1  finishing   Thursday     1                   0.75   \n",
              "2  1/1/2015  Quarter1      sweing  Thursday    11                   0.80   \n",
              "3  1/1/2015  Quarter1      sweing  Thursday    12                   0.80   \n",
              "4  1/1/2015  Quarter1      sweing  Thursday     6                   0.80   \n",
              "\n",
              "     smv  over_time  incentive  idle_time  idle_men  no_of_style_change  \\\n",
              "0  26.16       7080         98        0.0         0                   0   \n",
              "1   3.94        960          0        0.0         0                   0   \n",
              "2  11.41       3660         50        0.0         0                   0   \n",
              "3  11.41       3660         50        0.0         0                   0   \n",
              "4  25.90       1920         50        0.0         0                   0   \n",
              "\n",
              "   no_of_workers  actual_productivity  log_productivity  log_no_of_workers  \n",
              "0           59.0             0.940725          4.544066           4.077537  \n",
              "1            8.0             0.886500          4.484696           2.079442  \n",
              "2           30.5             0.800570          4.382739           3.417727  \n",
              "3           30.5             0.800570          4.382739           3.417727  \n",
              "4           56.0             0.800382          4.382504           4.025352  "
            ],
            "text/html": [
              "\n",
              "  <div id=\"df-494d31aa-c65a-4336-916d-63846da273b7\" class=\"colab-df-container\">\n",
              "    <div>\n",
              "<style scoped>\n",
              "    .dataframe tbody tr th:only-of-type {\n",
              "        vertical-align: middle;\n",
              "    }\n",
              "\n",
              "    .dataframe tbody tr th {\n",
              "        vertical-align: top;\n",
              "    }\n",
              "\n",
              "    .dataframe thead th {\n",
              "        text-align: right;\n",
              "    }\n",
              "</style>\n",
              "<table border=\"1\" class=\"dataframe\">\n",
              "  <thead>\n",
              "    <tr style=\"text-align: right;\">\n",
              "      <th></th>\n",
              "      <th>date</th>\n",
              "      <th>quarter</th>\n",
              "      <th>department</th>\n",
              "      <th>day</th>\n",
              "      <th>team</th>\n",
              "      <th>targeted_productivity</th>\n",
              "      <th>smv</th>\n",
              "      <th>over_time</th>\n",
              "      <th>incentive</th>\n",
              "      <th>idle_time</th>\n",
              "      <th>idle_men</th>\n",
              "      <th>no_of_style_change</th>\n",
              "      <th>no_of_workers</th>\n",
              "      <th>actual_productivity</th>\n",
              "      <th>log_productivity</th>\n",
              "      <th>log_no_of_workers</th>\n",
              "    </tr>\n",
              "  </thead>\n",
              "  <tbody>\n",
              "    <tr>\n",
              "      <th>0</th>\n",
              "      <td>1/1/2015</td>\n",
              "      <td>Quarter1</td>\n",
              "      <td>sweing</td>\n",
              "      <td>Thursday</td>\n",
              "      <td>8</td>\n",
              "      <td>0.80</td>\n",
              "      <td>26.16</td>\n",
              "      <td>7080</td>\n",
              "      <td>98</td>\n",
              "      <td>0.0</td>\n",
              "      <td>0</td>\n",
              "      <td>0</td>\n",
              "      <td>59.0</td>\n",
              "      <td>0.940725</td>\n",
              "      <td>4.544066</td>\n",
              "      <td>4.077537</td>\n",
              "    </tr>\n",
              "    <tr>\n",
              "      <th>1</th>\n",
              "      <td>1/1/2015</td>\n",
              "      <td>Quarter1</td>\n",
              "      <td>finishing</td>\n",
              "      <td>Thursday</td>\n",
              "      <td>1</td>\n",
              "      <td>0.75</td>\n",
              "      <td>3.94</td>\n",
              "      <td>960</td>\n",
              "      <td>0</td>\n",
              "      <td>0.0</td>\n",
              "      <td>0</td>\n",
              "      <td>0</td>\n",
              "      <td>8.0</td>\n",
              "      <td>0.886500</td>\n",
              "      <td>4.484696</td>\n",
              "      <td>2.079442</td>\n",
              "    </tr>\n",
              "    <tr>\n",
              "      <th>2</th>\n",
              "      <td>1/1/2015</td>\n",
              "      <td>Quarter1</td>\n",
              "      <td>sweing</td>\n",
              "      <td>Thursday</td>\n",
              "      <td>11</td>\n",
              "      <td>0.80</td>\n",
              "      <td>11.41</td>\n",
              "      <td>3660</td>\n",
              "      <td>50</td>\n",
              "      <td>0.0</td>\n",
              "      <td>0</td>\n",
              "      <td>0</td>\n",
              "      <td>30.5</td>\n",
              "      <td>0.800570</td>\n",
              "      <td>4.382739</td>\n",
              "      <td>3.417727</td>\n",
              "    </tr>\n",
              "    <tr>\n",
              "      <th>3</th>\n",
              "      <td>1/1/2015</td>\n",
              "      <td>Quarter1</td>\n",
              "      <td>sweing</td>\n",
              "      <td>Thursday</td>\n",
              "      <td>12</td>\n",
              "      <td>0.80</td>\n",
              "      <td>11.41</td>\n",
              "      <td>3660</td>\n",
              "      <td>50</td>\n",
              "      <td>0.0</td>\n",
              "      <td>0</td>\n",
              "      <td>0</td>\n",
              "      <td>30.5</td>\n",
              "      <td>0.800570</td>\n",
              "      <td>4.382739</td>\n",
              "      <td>3.417727</td>\n",
              "    </tr>\n",
              "    <tr>\n",
              "      <th>4</th>\n",
              "      <td>1/1/2015</td>\n",
              "      <td>Quarter1</td>\n",
              "      <td>sweing</td>\n",
              "      <td>Thursday</td>\n",
              "      <td>6</td>\n",
              "      <td>0.80</td>\n",
              "      <td>25.90</td>\n",
              "      <td>1920</td>\n",
              "      <td>50</td>\n",
              "      <td>0.0</td>\n",
              "      <td>0</td>\n",
              "      <td>0</td>\n",
              "      <td>56.0</td>\n",
              "      <td>0.800382</td>\n",
              "      <td>4.382504</td>\n",
              "      <td>4.025352</td>\n",
              "    </tr>\n",
              "  </tbody>\n",
              "</table>\n",
              "</div>\n",
              "    <div class=\"colab-df-buttons\">\n",
              "\n",
              "  <div class=\"colab-df-container\">\n",
              "    <button class=\"colab-df-convert\" onclick=\"convertToInteractive('df-494d31aa-c65a-4336-916d-63846da273b7')\"\n",
              "            title=\"Convert this dataframe to an interactive table.\"\n",
              "            style=\"display:none;\">\n",
              "\n",
              "  <svg xmlns=\"http://www.w3.org/2000/svg\" height=\"24px\" viewBox=\"0 -960 960 960\">\n",
              "    <path d=\"M120-120v-720h720v720H120Zm60-500h600v-160H180v160Zm220 220h160v-160H400v160Zm0 220h160v-160H400v160ZM180-400h160v-160H180v160Zm440 0h160v-160H620v160ZM180-180h160v-160H180v160Zm440 0h160v-160H620v160Z\"/>\n",
              "  </svg>\n",
              "    </button>\n",
              "\n",
              "  <style>\n",
              "    .colab-df-container {\n",
              "      display:flex;\n",
              "      gap: 12px;\n",
              "    }\n",
              "\n",
              "    .colab-df-convert {\n",
              "      background-color: #E8F0FE;\n",
              "      border: none;\n",
              "      border-radius: 50%;\n",
              "      cursor: pointer;\n",
              "      display: none;\n",
              "      fill: #1967D2;\n",
              "      height: 32px;\n",
              "      padding: 0 0 0 0;\n",
              "      width: 32px;\n",
              "    }\n",
              "\n",
              "    .colab-df-convert:hover {\n",
              "      background-color: #E2EBFA;\n",
              "      box-shadow: 0px 1px 2px rgba(60, 64, 67, 0.3), 0px 1px 3px 1px rgba(60, 64, 67, 0.15);\n",
              "      fill: #174EA6;\n",
              "    }\n",
              "\n",
              "    .colab-df-buttons div {\n",
              "      margin-bottom: 4px;\n",
              "    }\n",
              "\n",
              "    [theme=dark] .colab-df-convert {\n",
              "      background-color: #3B4455;\n",
              "      fill: #D2E3FC;\n",
              "    }\n",
              "\n",
              "    [theme=dark] .colab-df-convert:hover {\n",
              "      background-color: #434B5C;\n",
              "      box-shadow: 0px 1px 3px 1px rgba(0, 0, 0, 0.15);\n",
              "      filter: drop-shadow(0px 1px 2px rgba(0, 0, 0, 0.3));\n",
              "      fill: #FFFFFF;\n",
              "    }\n",
              "  </style>\n",
              "\n",
              "    <script>\n",
              "      const buttonEl =\n",
              "        document.querySelector('#df-494d31aa-c65a-4336-916d-63846da273b7 button.colab-df-convert');\n",
              "      buttonEl.style.display =\n",
              "        google.colab.kernel.accessAllowed ? 'block' : 'none';\n",
              "\n",
              "      async function convertToInteractive(key) {\n",
              "        const element = document.querySelector('#df-494d31aa-c65a-4336-916d-63846da273b7');\n",
              "        const dataTable =\n",
              "          await google.colab.kernel.invokeFunction('convertToInteractive',\n",
              "                                                    [key], {});\n",
              "        if (!dataTable) return;\n",
              "\n",
              "        const docLinkHtml = 'Like what you see? Visit the ' +\n",
              "          '<a target=\"_blank\" href=https://colab.research.google.com/notebooks/data_table.ipynb>data table notebook</a>'\n",
              "          + ' to learn more about interactive tables.';\n",
              "        element.innerHTML = '';\n",
              "        dataTable['output_type'] = 'display_data';\n",
              "        await google.colab.output.renderOutput(dataTable, element);\n",
              "        const docLink = document.createElement('div');\n",
              "        docLink.innerHTML = docLinkHtml;\n",
              "        element.appendChild(docLink);\n",
              "      }\n",
              "    </script>\n",
              "  </div>\n",
              "\n",
              "\n",
              "<div id=\"df-60604358-24a7-4def-bc5f-f0303b057105\">\n",
              "  <button class=\"colab-df-quickchart\" onclick=\"quickchart('df-60604358-24a7-4def-bc5f-f0303b057105')\"\n",
              "            title=\"Suggest charts\"\n",
              "            style=\"display:none;\">\n",
              "\n",
              "<svg xmlns=\"http://www.w3.org/2000/svg\" height=\"24px\"viewBox=\"0 0 24 24\"\n",
              "     width=\"24px\">\n",
              "    <g>\n",
              "        <path d=\"M19 3H5c-1.1 0-2 .9-2 2v14c0 1.1.9 2 2 2h14c1.1 0 2-.9 2-2V5c0-1.1-.9-2-2-2zM9 17H7v-7h2v7zm4 0h-2V7h2v10zm4 0h-2v-4h2v4z\"/>\n",
              "    </g>\n",
              "</svg>\n",
              "  </button>\n",
              "\n",
              "<style>\n",
              "  .colab-df-quickchart {\n",
              "      --bg-color: #E8F0FE;\n",
              "      --fill-color: #1967D2;\n",
              "      --hover-bg-color: #E2EBFA;\n",
              "      --hover-fill-color: #174EA6;\n",
              "      --disabled-fill-color: #AAA;\n",
              "      --disabled-bg-color: #DDD;\n",
              "  }\n",
              "\n",
              "  [theme=dark] .colab-df-quickchart {\n",
              "      --bg-color: #3B4455;\n",
              "      --fill-color: #D2E3FC;\n",
              "      --hover-bg-color: #434B5C;\n",
              "      --hover-fill-color: #FFFFFF;\n",
              "      --disabled-bg-color: #3B4455;\n",
              "      --disabled-fill-color: #666;\n",
              "  }\n",
              "\n",
              "  .colab-df-quickchart {\n",
              "    background-color: var(--bg-color);\n",
              "    border: none;\n",
              "    border-radius: 50%;\n",
              "    cursor: pointer;\n",
              "    display: none;\n",
              "    fill: var(--fill-color);\n",
              "    height: 32px;\n",
              "    padding: 0;\n",
              "    width: 32px;\n",
              "  }\n",
              "\n",
              "  .colab-df-quickchart:hover {\n",
              "    background-color: var(--hover-bg-color);\n",
              "    box-shadow: 0 1px 2px rgba(60, 64, 67, 0.3), 0 1px 3px 1px rgba(60, 64, 67, 0.15);\n",
              "    fill: var(--button-hover-fill-color);\n",
              "  }\n",
              "\n",
              "  .colab-df-quickchart-complete:disabled,\n",
              "  .colab-df-quickchart-complete:disabled:hover {\n",
              "    background-color: var(--disabled-bg-color);\n",
              "    fill: var(--disabled-fill-color);\n",
              "    box-shadow: none;\n",
              "  }\n",
              "\n",
              "  .colab-df-spinner {\n",
              "    border: 2px solid var(--fill-color);\n",
              "    border-color: transparent;\n",
              "    border-bottom-color: var(--fill-color);\n",
              "    animation:\n",
              "      spin 1s steps(1) infinite;\n",
              "  }\n",
              "\n",
              "  @keyframes spin {\n",
              "    0% {\n",
              "      border-color: transparent;\n",
              "      border-bottom-color: var(--fill-color);\n",
              "      border-left-color: var(--fill-color);\n",
              "    }\n",
              "    20% {\n",
              "      border-color: transparent;\n",
              "      border-left-color: var(--fill-color);\n",
              "      border-top-color: var(--fill-color);\n",
              "    }\n",
              "    30% {\n",
              "      border-color: transparent;\n",
              "      border-left-color: var(--fill-color);\n",
              "      border-top-color: var(--fill-color);\n",
              "      border-right-color: var(--fill-color);\n",
              "    }\n",
              "    40% {\n",
              "      border-color: transparent;\n",
              "      border-right-color: var(--fill-color);\n",
              "      border-top-color: var(--fill-color);\n",
              "    }\n",
              "    60% {\n",
              "      border-color: transparent;\n",
              "      border-right-color: var(--fill-color);\n",
              "    }\n",
              "    80% {\n",
              "      border-color: transparent;\n",
              "      border-right-color: var(--fill-color);\n",
              "      border-bottom-color: var(--fill-color);\n",
              "    }\n",
              "    90% {\n",
              "      border-color: transparent;\n",
              "      border-bottom-color: var(--fill-color);\n",
              "    }\n",
              "  }\n",
              "</style>\n",
              "\n",
              "  <script>\n",
              "    async function quickchart(key) {\n",
              "      const quickchartButtonEl =\n",
              "        document.querySelector('#' + key + ' button');\n",
              "      quickchartButtonEl.disabled = true;  // To prevent multiple clicks.\n",
              "      quickchartButtonEl.classList.add('colab-df-spinner');\n",
              "      try {\n",
              "        const charts = await google.colab.kernel.invokeFunction(\n",
              "            'suggestCharts', [key], {});\n",
              "      } catch (error) {\n",
              "        console.error('Error during call to suggestCharts:', error);\n",
              "      }\n",
              "      quickchartButtonEl.classList.remove('colab-df-spinner');\n",
              "      quickchartButtonEl.classList.add('colab-df-quickchart-complete');\n",
              "    }\n",
              "    (() => {\n",
              "      let quickchartButtonEl =\n",
              "        document.querySelector('#df-60604358-24a7-4def-bc5f-f0303b057105 button');\n",
              "      quickchartButtonEl.style.display =\n",
              "        google.colab.kernel.accessAllowed ? 'block' : 'none';\n",
              "    })();\n",
              "  </script>\n",
              "</div>\n",
              "    </div>\n",
              "  </div>\n"
            ],
            "application/vnd.google.colaboratory.intrinsic+json": {
              "type": "dataframe",
              "variable_name": "d",
              "repr_error": "'str' object has no attribute 'empty'"
            }
          },
          "metadata": {},
          "execution_count": 200
        }
      ]
    },
    {
      "cell_type": "markdown",
      "source": [
        "**d. Convert the following variables to factor variables (category) team, quarter, department, and day.**"
      ],
      "metadata": {
        "id": "FRwGyUbHpS7g"
      }
    },
    {
      "cell_type": "code",
      "source": [
        "d[\"team\"]=d[\"team\"].astype(\"category\")\n",
        "d[\"quarter\"]=d[\"quarter\"].astype(\"category\")\n",
        "d[\"department\"]=d[\"department\"].astype(\"category\")\n",
        "d[\"day\"]=d[\"day\"].astype(\"category\")\n",
        "d.dtypes"
      ],
      "metadata": {
        "colab": {
          "base_uri": "https://localhost:8080/"
        },
        "id": "xff9jMB2cDog",
        "outputId": "15d7c486-048b-4974-bcf6-0fba83309b80"
      },
      "execution_count": null,
      "outputs": [
        {
          "output_type": "execute_result",
          "data": {
            "text/plain": [
              "date                       object\n",
              "quarter                  category\n",
              "department               category\n",
              "day                      category\n",
              "team                     category\n",
              "targeted_productivity     float64\n",
              "smv                       float64\n",
              "over_time                   int64\n",
              "incentive                   int64\n",
              "idle_time                 float64\n",
              "idle_men                    int64\n",
              "no_of_style_change          int64\n",
              "no_of_workers             float64\n",
              "actual_productivity       float64\n",
              "log_productivity          float64\n",
              "log_no_of_workers         float64\n",
              "dtype: object"
            ]
          },
          "metadata": {},
          "execution_count": 201
        }
      ]
    },
    {
      "cell_type": "markdown",
      "source": [
        "**e. Create another variable called ‘percentage_achivement’ which is defined as follows:**\n",
        "\n",
        "**percentage_achievment = (actual_productivity – targeted_productivity) /\n",
        "targeted_productivity X 100.**"
      ],
      "metadata": {
        "id": "5h6v21X3pYy9"
      }
    },
    {
      "cell_type": "code",
      "source": [
        "percentage_achievment = (d[\"actual_productivity\"] - d[\"targeted_productivity\"]) / d[\"targeted_productivity\"] * 100\n",
        "print(percentage_achievment)"
      ],
      "metadata": {
        "colab": {
          "base_uri": "https://localhost:8080/"
        },
        "id": "Tj_wTHAffsDR",
        "outputId": "91e35042-6c12-4e6b-cfc5-624457b6ac63"
      },
      "execution_count": null,
      "outputs": [
        {
          "output_type": "stream",
          "name": "stdout",
          "text": [
            "0       17.590678\n",
            "1       18.200000\n",
            "2        0.071311\n",
            "3        0.071311\n",
            "4        0.047743\n",
            "          ...    \n",
            "1192   -16.222222\n",
            "1193   -10.625000\n",
            "1194    -3.750000\n",
            "1195   -32.548148\n",
            "1196   -43.611111\n",
            "Length: 1197, dtype: float64\n"
          ]
        }
      ]
    },
    {
      "cell_type": "markdown",
      "source": [
        "**f. Also for cleaning the variable department, please run the following command (there are some coding errors in the variable department).**\n",
        "\n",
        "**levels(d$department)<-c(\"finishing\", \"finishing\", \"sewing\")**"
      ],
      "metadata": {
        "id": "Rpw9adgtphwJ"
      }
    },
    {
      "cell_type": "code",
      "source": [
        "d['department'] = d['department'].replace({'finishing': 'finishing', 'sewing': 'finishing'})"
      ],
      "metadata": {
        "id": "5vKixQHihz91"
      },
      "execution_count": null,
      "outputs": []
    },
    {
      "cell_type": "code",
      "source": [
        "print(d.shape)"
      ],
      "metadata": {
        "colab": {
          "base_uri": "https://localhost:8080/"
        },
        "id": "veCy9LxBdtTn",
        "outputId": "1aaaf878-857b-4fb4-a21f-100e848d804a"
      },
      "execution_count": null,
      "outputs": [
        {
          "output_type": "stream",
          "name": "stdout",
          "text": [
            "(1197, 16)\n"
          ]
        }
      ]
    },
    {
      "cell_type": "markdown",
      "source": [
        "**2. Exploratory Analysis – 40 points.**"
      ],
      "metadata": {
        "id": "Nyq99i8hnufw"
      }
    },
    {
      "cell_type": "markdown",
      "source": [
        "**a. Create the histograms of actual_productivity and log_productivity. How does the distribution of log_productivity change with respect to actual_productivity? Do the same for number of\n",
        "workers.**"
      ],
      "metadata": {
        "id": "Yh2Wx_xFn3uL"
      }
    },
    {
      "cell_type": "markdown",
      "source": [
        "**Productivity:**\n",
        "\n",
        "The productivity values become higher when transformed into log_productivity, with the range extending from about 0.23 to 1.12 initially and then widening to approximately 3.15 to 4.72. This broader range indicates greater dispersion in the data. Additionally, there is a higher peak in the log_productivity distribution, suggesting that a significant number of observations fall within a particular range on the logarithmic scale.\n",
        "\n",
        "Therefore, when data is transformed into logarithmic scale, it tends to become more evenly distributed compared to its original scale.\n"
      ],
      "metadata": {
        "id": "CqiZvKZ_1b5P"
      }
    },
    {
      "cell_type": "code",
      "source": [
        "import matplotlib.pyplot as plt\n",
        "d[\"actual_productivity\"].hist(bins=10)\n",
        "plt.xlabel('Actual Productivity (workers)')\n",
        "plt.ylabel('Frequency')\n",
        "plt.show()"
      ],
      "metadata": {
        "colab": {
          "base_uri": "https://localhost:8080/",
          "height": 449
        },
        "id": "PgCp4ZIuowC-",
        "outputId": "80aad1a7-9170-49e0-e94a-c381146f80cd"
      },
      "execution_count": null,
      "outputs": [
        {
          "output_type": "display_data",
          "data": {
            "text/plain": [
              "<Figure size 640x480 with 1 Axes>"
            ],
            "image/png": "[encoded data removed]"
          },
          "metadata": {}
        }
      ]
    },
    {
      "cell_type": "code",
      "source": [
        "d[\"actual_productivity\"].describe()"
      ],
      "metadata": {
        "colab": {
          "base_uri": "https://localhost:8080/"
        },
        "id": "nAiCTC54GIYZ",
        "outputId": "b3f95bc1-6d55-4fef-b6d1-db160c518ccf"
      },
      "execution_count": null,
      "outputs": [
        {
          "output_type": "execute_result",
          "data": {
            "text/plain": [
              "count    1197.000000\n",
              "mean        0.735091\n",
              "std         0.174488\n",
              "min         0.233705\n",
              "25%         0.650307\n",
              "50%         0.773333\n",
              "75%         0.850253\n",
              "max         1.120437\n",
              "Name: actual_productivity, dtype: float64"
            ]
          },
          "metadata": {},
          "execution_count": 206
        }
      ]
    },
    {
      "cell_type": "code",
      "source": [
        "d[\"log_productivity\"].hist(bins=10)\n",
        "plt.xlabel('Log Productivity (workers)')\n",
        "plt.ylabel('Frequency')\n",
        "plt.show()"
      ],
      "metadata": {
        "colab": {
          "base_uri": "https://localhost:8080/",
          "height": 449
        },
        "id": "LIWDhK6OpzWO",
        "outputId": "ce8cec08-2220-488a-b19d-a5dd6ea9cb3e"
      },
      "execution_count": null,
      "outputs": [
        {
          "output_type": "display_data",
          "data": {
            "text/plain": [
              "<Figure size 640x480 with 1 Axes>"
            ],
            "image/png": "[encoded data removed]"
          },
          "metadata": {}
        }
      ]
    },
    {
      "cell_type": "code",
      "source": [
        "d[\"log_productivity\"].describe()"
      ],
      "metadata": {
        "colab": {
          "base_uri": "https://localhost:8080/"
        },
        "id": "KDFPbEqRGoiI",
        "outputId": "b7d3b78f-02c0-4f21-e637-1c6c7d6ddb64"
      },
      "execution_count": null,
      "outputs": [
        {
          "output_type": "execute_result",
          "data": {
            "text/plain": [
              "count    1197.000000\n",
              "mean        4.261224\n",
              "std         0.289384\n",
              "min         3.151477\n",
              "25%         4.174860\n",
              "50%         4.348125\n",
              "75%         4.442948\n",
              "max         4.718889\n",
              "Name: log_productivity, dtype: float64"
            ]
          },
          "metadata": {},
          "execution_count": 208
        }
      ]
    },
    {
      "cell_type": "markdown",
      "source": [
        "**Workers:**\n",
        "\n",
        "The number of workers values decreased when transformed into log_no_of_workers, with the range initially spanning from about 2 to 89, and then narrowing to approximately 0.69 to 4.49. This narrower range indicates less dispersion in the data. Additionally, there is a higher peak in the log_no_of_workers distribution, suggesting that a significant number of observations cluster within a particular range on the logarithmic scale.\n",
        "\n",
        "Therefore, the transformation into log_no_of_workers leads to a distribution that more closely resembles a normal distribution compared to its original scale."
      ],
      "metadata": {
        "id": "di5emm-AM_5v"
      }
    },
    {
      "cell_type": "code",
      "source": [
        "d[\"no_of_workers\"].hist(bins=10)\n",
        "plt.xlabel('Number of workers in each team')\n",
        "plt.ylabel('Frequency')\n",
        "plt.show()"
      ],
      "metadata": {
        "colab": {
          "base_uri": "https://localhost:8080/",
          "height": 449
        },
        "id": "fp2qXu2gxyxg",
        "outputId": "5415e183-db0f-4317-8e9d-d9dfd5bd9147"
      },
      "execution_count": null,
      "outputs": [
        {
          "output_type": "display_data",
          "data": {
            "text/plain": [
              "<Figure size 640x480 with 1 Axes>"
            ],
            "image/png": "[encoded data removed]"
          },
          "metadata": {}
        }
      ]
    },
    {
      "cell_type": "code",
      "source": [
        "d[\"no_of_workers\"].describe()"
      ],
      "metadata": {
        "colab": {
          "base_uri": "https://localhost:8080/"
        },
        "id": "NGbFQpcAMw8r",
        "outputId": "289ab2e9-06cc-4f9c-e581-b409e2a80311"
      },
      "execution_count": null,
      "outputs": [
        {
          "output_type": "execute_result",
          "data": {
            "text/plain": [
              "count    1197.000000\n",
              "mean       34.609858\n",
              "std        22.197687\n",
              "min         2.000000\n",
              "25%         9.000000\n",
              "50%        34.000000\n",
              "75%        57.000000\n",
              "max        89.000000\n",
              "Name: no_of_workers, dtype: float64"
            ]
          },
          "metadata": {},
          "execution_count": 210
        }
      ]
    },
    {
      "cell_type": "code",
      "source": [
        "d[\"log_no_of_workers\"].hist(bins=10)\n",
        "plt.xlabel('Log Number of workers in each team')\n",
        "plt.ylabel('Frequency')\n",
        "plt.show()"
      ],
      "metadata": {
        "colab": {
          "base_uri": "https://localhost:8080/",
          "height": 449
        },
        "id": "Xpz23iJ5yiaI",
        "outputId": "af1c2f97-3f3b-4da9-8079-6b7e9fbd962f"
      },
      "execution_count": null,
      "outputs": [
        {
          "output_type": "display_data",
          "data": {
            "text/plain": [
              "<Figure size 640x480 with 1 Axes>"
            ],
            "image/png": "[encoded data removed]"
          },
          "metadata": {}
        }
      ]
    },
    {
      "cell_type": "code",
      "source": [
        "d[\"log_no_of_workers\"].describe()"
      ],
      "metadata": {
        "colab": {
          "base_uri": "https://localhost:8080/"
        },
        "id": "I4e6E2UpM0_8",
        "outputId": "800e60ed-07f4-4826-d1f9-3b78828edfcb"
      },
      "execution_count": null,
      "outputs": [
        {
          "output_type": "execute_result",
          "data": {
            "text/plain": [
              "count    1197.000000\n",
              "mean        3.231103\n",
              "std         0.874730\n",
              "min         0.693147\n",
              "25%         2.197225\n",
              "50%         3.526361\n",
              "75%         4.043051\n",
              "max         4.488636\n",
              "Name: log_no_of_workers, dtype: float64"
            ]
          },
          "metadata": {},
          "execution_count": 212
        }
      ]
    },
    {
      "cell_type": "markdown",
      "source": [
        "**b. Each month is divided into five quarters, where approximately each week is a quarter. How does the distribution of logarithm of productivity change in each quarter?**\n",
        "\n"
      ],
      "metadata": {
        "id": "auil4bvvoCdX"
      }
    },
    {
      "cell_type": "markdown",
      "source": [
        "1. The number of observations (count) varies across quarters, with Quarter1 having the highest count (360) and Quarter5 having the lowest count (44).\n",
        "2. The mean and median (50th percentile) of the logarithm of productivity are relatively consistent across quarters, with Quarter5 having slightly higher values compared to the other quarters.\n",
        "3. The standard deviation varies slightly across quarters, indicating differences in the dispersion of the logarithm of productivity.\n",
        "4. The minimum and maximum values show the range of logarithm of productivity within each quarter, with Quarter5 having the highest maximum value."
      ],
      "metadata": {
        "id": "CVTTPD__Jqlh"
      }
    },
    {
      "cell_type": "code",
      "source": [
        "log_productivity_quarter = d.groupby('quarter')['log_productivity']\n",
        "log_productivity_quarter.describe()"
      ],
      "metadata": {
        "colab": {
          "base_uri": "https://localhost:8080/",
          "height": 237
        },
        "id": "Dvx8cPd87iVB",
        "outputId": "f83c0a4d-6b68-4eb8-faab-25488f17da2a"
      },
      "execution_count": null,
      "outputs": [
        {
          "output_type": "execute_result",
          "data": {
            "text/plain": [
              "          count      mean       std       min       25%       50%       75%  \\\n",
              "quarter                                                                       \n",
              "Quarter1  360.0  4.290405  0.259116  3.261854  4.248446  4.382083  4.442792   \n",
              "Quarter2  335.0  4.274406  0.285213  3.151477  4.177887  4.382070  4.443242   \n",
              "Quarter3  210.0  4.215843  0.302868  3.160380  4.117134  4.284180  4.382515   \n",
              "Quarter4  248.0  4.218121  0.314575  3.255690  4.095062  4.318036  4.399883   \n",
              "Quarter5   44.0  4.381652  0.280099  3.356843  4.318350  4.486625  4.576634   \n",
              "\n",
              "               max  \n",
              "quarter             \n",
              "Quarter1  4.654595  \n",
              "Quarter2  4.700920  \n",
              "Quarter3  4.718889  \n",
              "Quarter4  4.663082  \n",
              "Quarter5  4.605628  "
            ],
            "text/html": [
              "\n",
              "  <div id=\"df-d76682bd-5720-41bf-afe5-f062519858de\" class=\"colab-df-container\">\n",
              "    <div>\n",
              "<style scoped>\n",
              "    .dataframe tbody tr th:only-of-type {\n",
              "        vertical-align: middle;\n",
              "    }\n",
              "\n",
              "    .dataframe tbody tr th {\n",
              "        vertical-align: top;\n",
              "    }\n",
              "\n",
              "    .dataframe thead th {\n",
              "        text-align: right;\n",
              "    }\n",
              "</style>\n",
              "<table border=\"1\" class=\"dataframe\">\n",
              "  <thead>\n",
              "    <tr style=\"text-align: right;\">\n",
              "      <th></th>\n",
              "      <th>count</th>\n",
              "      <th>mean</th>\n",
              "      <th>std</th>\n",
              "      <th>min</th>\n",
              "      <th>25%</th>\n",
              "      <th>50%</th>\n",
              "      <th>75%</th>\n",
              "      <th>max</th>\n",
              "    </tr>\n",
              "    <tr>\n",
              "      <th>quarter</th>\n",
              "      <th></th>\n",
              "      <th></th>\n",
              "      <th></th>\n",
              "      <th></th>\n",
              "      <th></th>\n",
              "      <th></th>\n",
              "      <th></th>\n",
              "      <th></th>\n",
              "    </tr>\n",
              "  </thead>\n",
              "  <tbody>\n",
              "    <tr>\n",
              "      <th>Quarter1</th>\n",
              "      <td>360.0</td>\n",
              "      <td>4.290405</td>\n",
              "      <td>0.259116</td>\n",
              "      <td>3.261854</td>\n",
              "      <td>4.248446</td>\n",
              "      <td>4.382083</td>\n",
              "      <td>4.442792</td>\n",
              "      <td>4.654595</td>\n",
              "    </tr>\n",
              "    <tr>\n",
              "      <th>Quarter2</th>\n",
              "      <td>335.0</td>\n",
              "      <td>4.274406</td>\n",
              "      <td>0.285213</td>\n",
              "      <td>3.151477</td>\n",
              "      <td>4.177887</td>\n",
              "      <td>4.382070</td>\n",
              "      <td>4.443242</td>\n",
              "      <td>4.700920</td>\n",
              "    </tr>\n",
              "    <tr>\n",
              "      <th>Quarter3</th>\n",
              "      <td>210.0</td>\n",
              "      <td>4.215843</td>\n",
              "      <td>0.302868</td>\n",
              "      <td>3.160380</td>\n",
              "      <td>4.117134</td>\n",
              "      <td>4.284180</td>\n",
              "      <td>4.382515</td>\n",
              "      <td>4.718889</td>\n",
              "    </tr>\n",
              "    <tr>\n",
              "      <th>Quarter4</th>\n",
              "      <td>248.0</td>\n",
              "      <td>4.218121</td>\n",
              "      <td>0.314575</td>\n",
              "      <td>3.255690</td>\n",
              "      <td>4.095062</td>\n",
              "      <td>4.318036</td>\n",
              "      <td>4.399883</td>\n",
              "      <td>4.663082</td>\n",
              "    </tr>\n",
              "    <tr>\n",
              "      <th>Quarter5</th>\n",
              "      <td>44.0</td>\n",
              "      <td>4.381652</td>\n",
              "      <td>0.280099</td>\n",
              "      <td>3.356843</td>\n",
              "      <td>4.318350</td>\n",
              "      <td>4.486625</td>\n",
              "      <td>4.576634</td>\n",
              "      <td>4.605628</td>\n",
              "    </tr>\n",
              "  </tbody>\n",
              "</table>\n",
              "</div>\n",
              "    <div class=\"colab-df-buttons\">\n",
              "\n",
              "  <div class=\"colab-df-container\">\n",
              "    <button class=\"colab-df-convert\" onclick=\"convertToInteractive('df-d76682bd-5720-41bf-afe5-f062519858de')\"\n",
              "            title=\"Convert this dataframe to an interactive table.\"\n",
              "            style=\"display:none;\">\n",
              "\n",
              "  <svg xmlns=\"http://www.w3.org/2000/svg\" height=\"24px\" viewBox=\"0 -960 960 960\">\n",
              "    <path d=\"M120-120v-720h720v720H120Zm60-500h600v-160H180v160Zm220 220h160v-160H400v160Zm0 220h160v-160H400v160ZM180-400h160v-160H180v160Zm440 0h160v-160H620v160ZM180-180h160v-160H180v160Zm440 0h160v-160H620v160Z\"/>\n",
              "  </svg>\n",
              "    </button>\n",
              "\n",
              "  <style>\n",
              "    .colab-df-container {\n",
              "      display:flex;\n",
              "      gap: 12px;\n",
              "    }\n",
              "\n",
              "    .colab-df-convert {\n",
              "      background-color: #E8F0FE;\n",
              "      border: none;\n",
              "      border-radius: 50%;\n",
              "      cursor: pointer;\n",
              "      display: none;\n",
              "      fill: #1967D2;\n",
              "      height: 32px;\n",
              "      padding: 0 0 0 0;\n",
              "      width: 32px;\n",
              "    }\n",
              "\n",
              "    .colab-df-convert:hover {\n",
              "      background-color: #E2EBFA;\n",
              "      box-shadow: 0px 1px 2px rgba(60, 64, 67, 0.3), 0px 1px 3px 1px rgba(60, 64, 67, 0.15);\n",
              "      fill: #174EA6;\n",
              "    }\n",
              "\n",
              "    .colab-df-buttons div {\n",
              "      margin-bottom: 4px;\n",
              "    }\n",
              "\n",
              "    [theme=dark] .colab-df-convert {\n",
              "      background-color: #3B4455;\n",
              "      fill: #D2E3FC;\n",
              "    }\n",
              "\n",
              "    [theme=dark] .colab-df-convert:hover {\n",
              "      background-color: #434B5C;\n",
              "      box-shadow: 0px 1px 3px 1px rgba(0, 0, 0, 0.15);\n",
              "      filter: drop-shadow(0px 1px 2px rgba(0, 0, 0, 0.3));\n",
              "      fill: #FFFFFF;\n",
              "    }\n",
              "  </style>\n",
              "\n",
              "    <script>\n",
              "      const buttonEl =\n",
              "        document.querySelector('#df-d76682bd-5720-41bf-afe5-f062519858de button.colab-df-convert');\n",
              "      buttonEl.style.display =\n",
              "        google.colab.kernel.accessAllowed ? 'block' : 'none';\n",
              "\n",
              "      async function convertToInteractive(key) {\n",
              "        const element = document.querySelector('#df-d76682bd-5720-41bf-afe5-f062519858de');\n",
              "        const dataTable =\n",
              "          await google.colab.kernel.invokeFunction('convertToInteractive',\n",
              "                                                    [key], {});\n",
              "        if (!dataTable) return;\n",
              "\n",
              "        const docLinkHtml = 'Like what you see? Visit the ' +\n",
              "          '<a target=\"_blank\" href=https://colab.research.google.com/notebooks/data_table.ipynb>data table notebook</a>'\n",
              "          + ' to learn more about interactive tables.';\n",
              "        element.innerHTML = '';\n",
              "        dataTable['output_type'] = 'display_data';\n",
              "        await google.colab.output.renderOutput(dataTable, element);\n",
              "        const docLink = document.createElement('div');\n",
              "        docLink.innerHTML = docLinkHtml;\n",
              "        element.appendChild(docLink);\n",
              "      }\n",
              "    </script>\n",
              "  </div>\n",
              "\n",
              "\n",
              "<div id=\"df-37c532bc-688e-440c-932b-369cda4d15a5\">\n",
              "  <button class=\"colab-df-quickchart\" onclick=\"quickchart('df-37c532bc-688e-440c-932b-369cda4d15a5')\"\n",
              "            title=\"Suggest charts\"\n",
              "            style=\"display:none;\">\n",
              "\n",
              "<svg xmlns=\"http://www.w3.org/2000/svg\" height=\"24px\"viewBox=\"0 0 24 24\"\n",
              "     width=\"24px\">\n",
              "    <g>\n",
              "        <path d=\"M19 3H5c-1.1 0-2 .9-2 2v14c0 1.1.9 2 2 2h14c1.1 0 2-.9 2-2V5c0-1.1-.9-2-2-2zM9 17H7v-7h2v7zm4 0h-2V7h2v10zm4 0h-2v-4h2v4z\"/>\n",
              "    </g>\n",
              "</svg>\n",
              "  </button>\n",
              "\n",
              "<style>\n",
              "  .colab-df-quickchart {\n",
              "      --bg-color: #E8F0FE;\n",
              "      --fill-color: #1967D2;\n",
              "      --hover-bg-color: #E2EBFA;\n",
              "      --hover-fill-color: #174EA6;\n",
              "      --disabled-fill-color: #AAA;\n",
              "      --disabled-bg-color: #DDD;\n",
              "  }\n",
              "\n",
              "  [theme=dark] .colab-df-quickchart {\n",
              "      --bg-color: #3B4455;\n",
              "      --fill-color: #D2E3FC;\n",
              "      --hover-bg-color: #434B5C;\n",
              "      --hover-fill-color: #FFFFFF;\n",
              "      --disabled-bg-color: #3B4455;\n",
              "      --disabled-fill-color: #666;\n",
              "  }\n",
              "\n",
              "  .colab-df-quickchart {\n",
              "    background-color: var(--bg-color);\n",
              "    border: none;\n",
              "    border-radius: 50%;\n",
              "    cursor: pointer;\n",
              "    display: none;\n",
              "    fill: var(--fill-color);\n",
              "    height: 32px;\n",
              "    padding: 0;\n",
              "    width: 32px;\n",
              "  }\n",
              "\n",
              "  .colab-df-quickchart:hover {\n",
              "    background-color: var(--hover-bg-color);\n",
              "    box-shadow: 0 1px 2px rgba(60, 64, 67, 0.3), 0 1px 3px 1px rgba(60, 64, 67, 0.15);\n",
              "    fill: var(--button-hover-fill-color);\n",
              "  }\n",
              "\n",
              "  .colab-df-quickchart-complete:disabled,\n",
              "  .colab-df-quickchart-complete:disabled:hover {\n",
              "    background-color: var(--disabled-bg-color);\n",
              "    fill: var(--disabled-fill-color);\n",
              "    box-shadow: none;\n",
              "  }\n",
              "\n",
              "  .colab-df-spinner {\n",
              "    border: 2px solid var(--fill-color);\n",
              "    border-color: transparent;\n",
              "    border-bottom-color: var(--fill-color);\n",
              "    animation:\n",
              "      spin 1s steps(1) infinite;\n",
              "  }\n",
              "\n",
              "  @keyframes spin {\n",
              "    0% {\n",
              "      border-color: transparent;\n",
              "      border-bottom-color: var(--fill-color);\n",
              "      border-left-color: var(--fill-color);\n",
              "    }\n",
              "    20% {\n",
              "      border-color: transparent;\n",
              "      border-left-color: var(--fill-color);\n",
              "      border-top-color: var(--fill-color);\n",
              "    }\n",
              "    30% {\n",
              "      border-color: transparent;\n",
              "      border-left-color: var(--fill-color);\n",
              "      border-top-color: var(--fill-color);\n",
              "      border-right-color: var(--fill-color);\n",
              "    }\n",
              "    40% {\n",
              "      border-color: transparent;\n",
              "      border-right-color: var(--fill-color);\n",
              "      border-top-color: var(--fill-color);\n",
              "    }\n",
              "    60% {\n",
              "      border-color: transparent;\n",
              "      border-right-color: var(--fill-color);\n",
              "    }\n",
              "    80% {\n",
              "      border-color: transparent;\n",
              "      border-right-color: var(--fill-color);\n",
              "      border-bottom-color: var(--fill-color);\n",
              "    }\n",
              "    90% {\n",
              "      border-color: transparent;\n",
              "      border-bottom-color: var(--fill-color);\n",
              "    }\n",
              "  }\n",
              "</style>\n",
              "\n",
              "  <script>\n",
              "    async function quickchart(key) {\n",
              "      const quickchartButtonEl =\n",
              "        document.querySelector('#' + key + ' button');\n",
              "      quickchartButtonEl.disabled = true;  // To prevent multiple clicks.\n",
              "      quickchartButtonEl.classList.add('colab-df-spinner');\n",
              "      try {\n",
              "        const charts = await google.colab.kernel.invokeFunction(\n",
              "            'suggestCharts', [key], {});\n",
              "      } catch (error) {\n",
              "        console.error('Error during call to suggestCharts:', error);\n",
              "      }\n",
              "      quickchartButtonEl.classList.remove('colab-df-spinner');\n",
              "      quickchartButtonEl.classList.add('colab-df-quickchart-complete');\n",
              "    }\n",
              "    (() => {\n",
              "      let quickchartButtonEl =\n",
              "        document.querySelector('#df-37c532bc-688e-440c-932b-369cda4d15a5 button');\n",
              "      quickchartButtonEl.style.display =\n",
              "        google.colab.kernel.accessAllowed ? 'block' : 'none';\n",
              "    })();\n",
              "  </script>\n",
              "</div>\n",
              "    </div>\n",
              "  </div>\n"
            ],
            "application/vnd.google.colaboratory.intrinsic+json": {
              "type": "dataframe",
              "summary": "{\n  \"name\": \"log_productivity_quarter\",\n  \"rows\": 5,\n  \"fields\": [\n    {\n      \"column\": \"count\",\n      \"properties\": {\n        \"dtype\": \"number\",\n        \"std\": 125.30283316828873,\n        \"min\": 44.0,\n        \"max\": 360.0,\n        \"num_unique_values\": 5,\n        \"samples\": [\n          335.0,\n          44.0,\n          210.0\n        ],\n        \"semantic_type\": \"\",\n        \"description\": \"\"\n      }\n    },\n    {\n      \"column\": \"mean\",\n      \"properties\": {\n        \"dtype\": \"number\",\n        \"std\": 0.06771474234278949,\n        \"min\": 4.215842682541407,\n        \"max\": 4.381651606134217,\n        \"num_unique_values\": 5,\n        \"samples\": [\n          4.274406271704468,\n          4.381651606134217,\n          4.215842682541407\n        ],\n        \"semantic_type\": \"\",\n        \"description\": \"\"\n      }\n    },\n    {\n      \"column\": \"std\",\n      \"properties\": {\n        \"dtype\": \"number\",\n        \"std\": 0.02139522275182122,\n        \"min\": 0.25911647077308975,\n        \"max\": 0.3145746482699046,\n        \"num_unique_values\": 5,\n        \"samples\": [\n          0.2852128144316104,\n          0.28009939096944325,\n          0.30286823995442785\n        ],\n        \"semantic_type\": \"\",\n        \"description\": \"\"\n      }\n    },\n    {\n      \"column\": \"min\",\n      \"properties\": {\n        \"dtype\": \"number\",\n        \"std\": 0.08443057714096282,\n        \"min\": 3.1514765800263542,\n        \"max\": 3.356843351285072,\n        \"num_unique_values\": 5,\n        \"samples\": [\n          3.1514765800263542,\n          3.356843351285072,\n          3.160379620114303\n        ],\n        \"semantic_type\": \"\",\n        \"description\": \"\"\n      }\n    },\n    {\n      \"column\": \"25%\",\n      \"properties\": {\n        \"dtype\": \"number\",\n        \"std\": 0.09266812302040361,\n        \"min\": 4.095062174541308,\n        \"max\": 4.318349964702542,\n        \"num_unique_values\": 5,\n        \"samples\": [\n          4.177887370030685,\n          4.318349964702542,\n          4.117133783967965\n        ],\n        \"semantic_type\": \"\",\n        \"description\": \"\"\n      }\n    },\n    {\n      \"column\": \"50%\",\n      \"properties\": {\n        \"dtype\": \"number\",\n        \"std\": 0.07738960161398119,\n        \"min\": 4.2841797132717385,\n        \"max\": 4.486624577954167,\n        \"num_unique_values\": 5,\n        \"samples\": [\n          4.382069762493864,\n          4.486624577954167,\n          4.2841797132717385\n        ],\n        \"semantic_type\": \"\",\n        \"description\": \"\"\n      }\n    },\n    {\n      \"column\": \"75%\",\n      \"properties\": {\n        \"dtype\": \"number\",\n        \"std\": 0.07614896140566622,\n        \"min\": 4.382515470526096,\n        \"max\": 4.576633528188885,\n        \"num_unique_values\": 5,\n        \"samples\": [\n          4.4432420360633404,\n          4.576633528188885,\n          4.382515470526096\n        ],\n        \"semantic_type\": \"\",\n        \"description\": \"\"\n      }\n    },\n    {\n      \"column\": \"max\",\n      \"properties\": {\n        \"dtype\": \"number\",\n        \"std\": 0.044061710132005084,\n        \"min\": 4.6056275523801355,\n        \"max\": 4.718889420021012,\n        \"num_unique_values\": 5,\n        \"samples\": [\n          4.70092019450813,\n          4.6056275523801355,\n          4.718889420021012\n        ],\n        \"semantic_type\": \"\",\n        \"description\": \"\"\n      }\n    }\n  ]\n}"
            }
          },
          "metadata": {},
          "execution_count": 213
        }
      ]
    },
    {
      "cell_type": "markdown",
      "source": [
        "\n",
        "**Create a box plot of logarithm of productivity by quarter. Comment on your observations. Does the worker productivity increase towards the end of the month (quarter 5) as compared to other quarters?**\n"
      ],
      "metadata": {
        "id": "DC7GbutkkIM-"
      }
    },
    {
      "cell_type": "markdown",
      "source": [
        "Quarter 5 appears to have a slightly higher median and upper quartile compared to the other quarters, suggesting potentially higher productivity towards the end of the month."
      ],
      "metadata": {
        "id": "159tW8ArKItn"
      }
    },
    {
      "cell_type": "code",
      "source": [
        "import seaborn as sns\n",
        "sns.boxplot(x='quarter', y='log_productivity', data=d)\n",
        "plt.show()"
      ],
      "metadata": {
        "colab": {
          "base_uri": "https://localhost:8080/",
          "height": 449
        },
        "id": "k3pxKLg2uewT",
        "outputId": "91fead3f-4b6e-4a06-d29e-8046d7d113ba"
      },
      "execution_count": null,
      "outputs": [
        {
          "output_type": "display_data",
          "data": {
            "text/plain": [
              "<Figure size 640x480 with 1 Axes>"
            ],
            "image/png": "[encoded data removed]"
          },
          "metadata": {}
        }
      ]
    },
    {
      "cell_type": "markdown",
      "source": [
        "**Perform a t-test for quarter 5 with respect to (individually) all other quarters. (Hint. There will be 4 different t-tests). What do you observe for each t-test?**"
      ],
      "metadata": {
        "id": "nHD25PB4IZ95"
      }
    },
    {
      "cell_type": "markdown",
      "source": [
        "Quarter 5 displayed a statistically significant increase in productivity compared to Quarter 1 (p = 0.029), Quarter 2 (p = 0.019), Quarter 3 (p = 0.001), and Quarter 4 (p = 0.001)."
      ],
      "metadata": {
        "id": "JhZBeaemLlic"
      }
    },
    {
      "cell_type": "code",
      "source": [
        "import pandas as pd\n",
        "from scipy.stats import ttest_ind\n",
        "\n",
        "quarter_5_data = d[d['quarter'] == 'Quarter5']\n",
        "other_quarters_data = d[d['quarter'] != 'Quarter5']\n",
        "\n",
        "for quarter, data in other_quarters_data.groupby('quarter'):\n",
        "    t_stat, p_value = ttest_ind(quarter_5_data['log_productivity'], data['log_productivity'])\n",
        "    print(f\"T-test for Quarter 5 vs {quarter}:\")\n",
        "    print(f\"T-statistic: {t_stat}, p-value: {p_value}\")\n",
        "    if p_value < 0.05:\n",
        "        print(\"Reject null hypothesis: There is a significant difference.\")\n",
        "    else:\n",
        "        print(\"Fail to reject null hypothesis: There is no significant difference.\")\n",
        "    print()"
      ],
      "metadata": {
        "colab": {
          "base_uri": "https://localhost:8080/"
        },
        "id": "68vgfZAYclpo",
        "outputId": "badf8b41-19f8-4860-a2d5-79f3ef8e2b25"
      },
      "execution_count": null,
      "outputs": [
        {
          "output_type": "stream",
          "name": "stdout",
          "text": [
            "T-test for Quarter 5 vs Quarter1:\n",
            "T-statistic: 2.185396025567071, p-value: 0.02943633151153009\n",
            "Reject null hypothesis: There is a significant difference.\n",
            "\n",
            "T-test for Quarter 5 vs Quarter2:\n",
            "T-statistic: 2.349743311663638, p-value: 0.019301427713836954\n",
            "Reject null hypothesis: There is a significant difference.\n",
            "\n",
            "T-test for Quarter 5 vs Quarter3:\n",
            "T-statistic: 3.343507254044234, p-value: 0.000953075291086163\n",
            "Reject null hypothesis: There is a significant difference.\n",
            "\n",
            "T-test for Quarter 5 vs Quarter4:\n",
            "T-statistic: 3.2278344431012584, p-value: 0.0013903605543610135\n",
            "Reject null hypothesis: There is a significant difference.\n",
            "\n",
            "T-test for Quarter 5 vs Quarter5:\n",
            "T-statistic: nan, p-value: nan\n",
            "Fail to reject null hypothesis: There is no significant difference.\n",
            "\n"
          ]
        }
      ]
    },
    {
      "cell_type": "markdown",
      "source": [
        "**Comment on the findings. Use a 95% confidence. (You need to state the hypotheses explicitly in your answer, the mean and standard deviations for each of the groups in a t-tests, the t-statistics and the p-values. Then you need to explain what the p-value means.).**"
      ],
      "metadata": {
        "id": "68UALuiCIfz9"
      }
    },
    {
      "cell_type": "markdown",
      "source": [
        "Hypotheses:\n",
        "\n",
        "Null Hypothesis (H0): There is no difference in productivity between Quarter 5 and each of the other quarters.\n",
        "\n",
        "\n",
        "Alternative Hypothesis (H1): There is a difference in productivity between Quarter 5 and each of the other quarters.\n",
        "\n",
        "With a 95% confidence level, the p-values for all t-tests are less than 0.05, indicating that we reject the null hypothesis for each comparison. This means there is sufficient evidence to suggest that Quarter 5 has significantly higher productivity compared to each of the other quarters.\n",
        "\n",
        "p-value: The p-value in hypothesis testing measures the probability of observing the data if the null hypothesis (no effect or no difference) is true. A low p-value (typically below 0.05) indicates strong evidence against the null hypothesis, suggesting that the observed differences are unlikely to be due to chance."
      ],
      "metadata": {
        "id": "KZRI7vqTMRRw"
      }
    },
    {
      "cell_type": "code",
      "source": [
        "log_productivity_quarter = d.groupby('quarter')['log_productivity']\n",
        "log_productivity_quarter.agg([np.mean, np.std])"
      ],
      "metadata": {
        "colab": {
          "base_uri": "https://localhost:8080/",
          "height": 237
        },
        "id": "VZgBOIWLjott",
        "outputId": "4fa60b3a-d5be-42aa-f763-79903f505c13"
      },
      "execution_count": null,
      "outputs": [
        {
          "output_type": "execute_result",
          "data": {
            "text/plain": [
              "              mean       std\n",
              "quarter                     \n",
              "Quarter1  4.290405  0.259116\n",
              "Quarter2  4.274406  0.285213\n",
              "Quarter3  4.215843  0.302868\n",
              "Quarter4  4.218121  0.314575\n",
              "Quarter5  4.381652  0.280099"
            ],
            "text/html": [
              "\n",
              "  <div id=\"df-85248f2b-b089-4e6a-98b1-e00841e88646\" class=\"colab-df-container\">\n",
              "    <div>\n",
              "<style scoped>\n",
              "    .dataframe tbody tr th:only-of-type {\n",
              "        vertical-align: middle;\n",
              "    }\n",
              "\n",
              "    .dataframe tbody tr th {\n",
              "        vertical-align: top;\n",
              "    }\n",
              "\n",
              "    .dataframe thead th {\n",
              "        text-align: right;\n",
              "    }\n",
              "</style>\n",
              "<table border=\"1\" class=\"dataframe\">\n",
              "  <thead>\n",
              "    <tr style=\"text-align: right;\">\n",
              "      <th></th>\n",
              "      <th>mean</th>\n",
              "      <th>std</th>\n",
              "    </tr>\n",
              "    <tr>\n",
              "      <th>quarter</th>\n",
              "      <th></th>\n",
              "      <th></th>\n",
              "    </tr>\n",
              "  </thead>\n",
              "  <tbody>\n",
              "    <tr>\n",
              "      <th>Quarter1</th>\n",
              "      <td>4.290405</td>\n",
              "      <td>0.259116</td>\n",
              "    </tr>\n",
              "    <tr>\n",
              "      <th>Quarter2</th>\n",
              "      <td>4.274406</td>\n",
              "      <td>0.285213</td>\n",
              "    </tr>\n",
              "    <tr>\n",
              "      <th>Quarter3</th>\n",
              "      <td>4.215843</td>\n",
              "      <td>0.302868</td>\n",
              "    </tr>\n",
              "    <tr>\n",
              "      <th>Quarter4</th>\n",
              "      <td>4.218121</td>\n",
              "      <td>0.314575</td>\n",
              "    </tr>\n",
              "    <tr>\n",
              "      <th>Quarter5</th>\n",
              "      <td>4.381652</td>\n",
              "      <td>0.280099</td>\n",
              "    </tr>\n",
              "  </tbody>\n",
              "</table>\n",
              "</div>\n",
              "    <div class=\"colab-df-buttons\">\n",
              "\n",
              "  <div class=\"colab-df-container\">\n",
              "    <button class=\"colab-df-convert\" onclick=\"convertToInteractive('df-85248f2b-b089-4e6a-98b1-e00841e88646')\"\n",
              "            title=\"Convert this dataframe to an interactive table.\"\n",
              "            style=\"display:none;\">\n",
              "\n",
              "  <svg xmlns=\"http://www.w3.org/2000/svg\" height=\"24px\" viewBox=\"0 -960 960 960\">\n",
              "    <path d=\"M120-120v-720h720v720H120Zm60-500h600v-160H180v160Zm220 220h160v-160H400v160Zm0 220h160v-160H400v160ZM180-400h160v-160H180v160Zm440 0h160v-160H620v160ZM180-180h160v-160H180v160Zm440 0h160v-160H620v160Z\"/>\n",
              "  </svg>\n",
              "    </button>\n",
              "\n",
              "  <style>\n",
              "    .colab-df-container {\n",
              "      display:flex;\n",
              "      gap: 12px;\n",
              "    }\n",
              "\n",
              "    .colab-df-convert {\n",
              "      background-color: #E8F0FE;\n",
              "      border: none;\n",
              "      border-radius: 50%;\n",
              "      cursor: pointer;\n",
              "      display: none;\n",
              "      fill: #1967D2;\n",
              "      height: 32px;\n",
              "      padding: 0 0 0 0;\n",
              "      width: 32px;\n",
              "    }\n",
              "\n",
              "    .colab-df-convert:hover {\n",
              "      background-color: #E2EBFA;\n",
              "      box-shadow: 0px 1px 2px rgba(60, 64, 67, 0.3), 0px 1px 3px 1px rgba(60, 64, 67, 0.15);\n",
              "      fill: #174EA6;\n",
              "    }\n",
              "\n",
              "    .colab-df-buttons div {\n",
              "      margin-bottom: 4px;\n",
              "    }\n",
              "\n",
              "    [theme=dark] .colab-df-convert {\n",
              "      background-color: #3B4455;\n",
              "      fill: #D2E3FC;\n",
              "    }\n",
              "\n",
              "    [theme=dark] .colab-df-convert:hover {\n",
              "      background-color: #434B5C;\n",
              "      box-shadow: 0px 1px 3px 1px rgba(0, 0, 0, 0.15);\n",
              "      filter: drop-shadow(0px 1px 2px rgba(0, 0, 0, 0.3));\n",
              "      fill: #FFFFFF;\n",
              "    }\n",
              "  </style>\n",
              "\n",
              "    <script>\n",
              "      const buttonEl =\n",
              "        document.querySelector('#df-85248f2b-b089-4e6a-98b1-e00841e88646 button.colab-df-convert');\n",
              "      buttonEl.style.display =\n",
              "        google.colab.kernel.accessAllowed ? 'block' : 'none';\n",
              "\n",
              "      async function convertToInteractive(key) {\n",
              "        const element = document.querySelector('#df-85248f2b-b089-4e6a-98b1-e00841e88646');\n",
              "        const dataTable =\n",
              "          await google.colab.kernel.invokeFunction('convertToInteractive',\n",
              "                                                    [key], {});\n",
              "        if (!dataTable) return;\n",
              "\n",
              "        const docLinkHtml = 'Like what you see? Visit the ' +\n",
              "          '<a target=\"_blank\" href=https://colab.research.google.com/notebooks/data_table.ipynb>data table notebook</a>'\n",
              "          + ' to learn more about interactive tables.';\n",
              "        element.innerHTML = '';\n",
              "        dataTable['output_type'] = 'display_data';\n",
              "        await google.colab.output.renderOutput(dataTable, element);\n",
              "        const docLink = document.createElement('div');\n",
              "        docLink.innerHTML = docLinkHtml;\n",
              "        element.appendChild(docLink);\n",
              "      }\n",
              "    </script>\n",
              "  </div>\n",
              "\n",
              "\n",
              "<div id=\"df-75ed06bd-48d3-4933-bd41-ff06ad781064\">\n",
              "  <button class=\"colab-df-quickchart\" onclick=\"quickchart('df-75ed06bd-48d3-4933-bd41-ff06ad781064')\"\n",
              "            title=\"Suggest charts\"\n",
              "            style=\"display:none;\">\n",
              "\n",
              "<svg xmlns=\"http://www.w3.org/2000/svg\" height=\"24px\"viewBox=\"0 0 24 24\"\n",
              "     width=\"24px\">\n",
              "    <g>\n",
              "        <path d=\"M19 3H5c-1.1 0-2 .9-2 2v14c0 1.1.9 2 2 2h14c1.1 0 2-.9 2-2V5c0-1.1-.9-2-2-2zM9 17H7v-7h2v7zm4 0h-2V7h2v10zm4 0h-2v-4h2v4z\"/>\n",
              "    </g>\n",
              "</svg>\n",
              "  </button>\n",
              "\n",
              "<style>\n",
              "  .colab-df-quickchart {\n",
              "      --bg-color: #E8F0FE;\n",
              "      --fill-color: #1967D2;\n",
              "      --hover-bg-color: #E2EBFA;\n",
              "      --hover-fill-color: #174EA6;\n",
              "      --disabled-fill-color: #AAA;\n",
              "      --disabled-bg-color: #DDD;\n",
              "  }\n",
              "\n",
              "  [theme=dark] .colab-df-quickchart {\n",
              "      --bg-color: #3B4455;\n",
              "      --fill-color: #D2E3FC;\n",
              "      --hover-bg-color: #434B5C;\n",
              "      --hover-fill-color: #FFFFFF;\n",
              "      --disabled-bg-color: #3B4455;\n",
              "      --disabled-fill-color: #666;\n",
              "  }\n",
              "\n",
              "  .colab-df-quickchart {\n",
              "    background-color: var(--bg-color);\n",
              "    border: none;\n",
              "    border-radius: 50%;\n",
              "    cursor: pointer;\n",
              "    display: none;\n",
              "    fill: var(--fill-color);\n",
              "    height: 32px;\n",
              "    padding: 0;\n",
              "    width: 32px;\n",
              "  }\n",
              "\n",
              "  .colab-df-quickchart:hover {\n",
              "    background-color: var(--hover-bg-color);\n",
              "    box-shadow: 0 1px 2px rgba(60, 64, 67, 0.3), 0 1px 3px 1px rgba(60, 64, 67, 0.15);\n",
              "    fill: var(--button-hover-fill-color);\n",
              "  }\n",
              "\n",
              "  .colab-df-quickchart-complete:disabled,\n",
              "  .colab-df-quickchart-complete:disabled:hover {\n",
              "    background-color: var(--disabled-bg-color);\n",
              "    fill: var(--disabled-fill-color);\n",
              "    box-shadow: none;\n",
              "  }\n",
              "\n",
              "  .colab-df-spinner {\n",
              "    border: 2px solid var(--fill-color);\n",
              "    border-color: transparent;\n",
              "    border-bottom-color: var(--fill-color);\n",
              "    animation:\n",
              "      spin 1s steps(1) infinite;\n",
              "  }\n",
              "\n",
              "  @keyframes spin {\n",
              "    0% {\n",
              "      border-color: transparent;\n",
              "      border-bottom-color: var(--fill-color);\n",
              "      border-left-color: var(--fill-color);\n",
              "    }\n",
              "    20% {\n",
              "      border-color: transparent;\n",
              "      border-left-color: var(--fill-color);\n",
              "      border-top-color: var(--fill-color);\n",
              "    }\n",
              "    30% {\n",
              "      border-color: transparent;\n",
              "      border-left-color: var(--fill-color);\n",
              "      border-top-color: var(--fill-color);\n",
              "      border-right-color: var(--fill-color);\n",
              "    }\n",
              "    40% {\n",
              "      border-color: transparent;\n",
              "      border-right-color: var(--fill-color);\n",
              "      border-top-color: var(--fill-color);\n",
              "    }\n",
              "    60% {\n",
              "      border-color: transparent;\n",
              "      border-right-color: var(--fill-color);\n",
              "    }\n",
              "    80% {\n",
              "      border-color: transparent;\n",
              "      border-right-color: var(--fill-color);\n",
              "      border-bottom-color: var(--fill-color);\n",
              "    }\n",
              "    90% {\n",
              "      border-color: transparent;\n",
              "      border-bottom-color: var(--fill-color);\n",
              "    }\n",
              "  }\n",
              "</style>\n",
              "\n",
              "  <script>\n",
              "    async function quickchart(key) {\n",
              "      const quickchartButtonEl =\n",
              "        document.querySelector('#' + key + ' button');\n",
              "      quickchartButtonEl.disabled = true;  // To prevent multiple clicks.\n",
              "      quickchartButtonEl.classList.add('colab-df-spinner');\n",
              "      try {\n",
              "        const charts = await google.colab.kernel.invokeFunction(\n",
              "            'suggestCharts', [key], {});\n",
              "      } catch (error) {\n",
              "        console.error('Error during call to suggestCharts:', error);\n",
              "      }\n",
              "      quickchartButtonEl.classList.remove('colab-df-spinner');\n",
              "      quickchartButtonEl.classList.add('colab-df-quickchart-complete');\n",
              "    }\n",
              "    (() => {\n",
              "      let quickchartButtonEl =\n",
              "        document.querySelector('#df-75ed06bd-48d3-4933-bd41-ff06ad781064 button');\n",
              "      quickchartButtonEl.style.display =\n",
              "        google.colab.kernel.accessAllowed ? 'block' : 'none';\n",
              "    })();\n",
              "  </script>\n",
              "</div>\n",
              "    </div>\n",
              "  </div>\n"
            ],
            "application/vnd.google.colaboratory.intrinsic+json": {
              "type": "dataframe",
              "summary": "{\n  \"name\": \"log_productivity_quarter\",\n  \"rows\": 5,\n  \"fields\": [\n    {\n      \"column\": \"mean\",\n      \"properties\": {\n        \"dtype\": \"number\",\n        \"std\": 0.06771474234278929,\n        \"min\": 4.215842682541407,\n        \"max\": 4.381651606134217,\n        \"num_unique_values\": 5,\n        \"samples\": [\n          4.274406271704468,\n          4.381651606134217,\n          4.215842682541407\n        ],\n        \"semantic_type\": \"\",\n        \"description\": \"\"\n      }\n    },\n    {\n      \"column\": \"std\",\n      \"properties\": {\n        \"dtype\": \"number\",\n        \"std\": 0.021395222751821104,\n        \"min\": 0.2591164707730902,\n        \"max\": 0.314574648269905,\n        \"num_unique_values\": 5,\n        \"samples\": [\n          0.2852128144316104,\n          0.28009939096944353,\n          0.3028682399544275\n        ],\n        \"semantic_type\": \"\",\n        \"description\": \"\"\n      }\n    }\n  ]\n}"
            }
          },
          "metadata": {},
          "execution_count": 216
        }
      ]
    },
    {
      "cell_type": "markdown",
      "source": [
        "**c. Repeat part (b) for department instead of quarter, day instead of quarter, and no_of_style_change instead of quarter. In these cases, perform the t-test for all pairs of departments and all pairs of style changes. For day, compare Sunday with all other weekdays.**\n"
      ],
      "metadata": {
        "id": "791LedzWokPt"
      }
    },
    {
      "cell_type": "markdown",
      "source": [
        "**Department**"
      ],
      "metadata": {
        "id": "sF0dKlr7nhep"
      }
    },
    {
      "cell_type": "code",
      "source": [
        "sns.boxplot(x='department', y='log_productivity', data=d)\n",
        "plt.show()"
      ],
      "metadata": {
        "colab": {
          "base_uri": "https://localhost:8080/",
          "height": 449
        },
        "id": "L3NQM1IYmOiW",
        "outputId": "c9428c1a-5c62-4095-8db9-dd600377054a"
      },
      "execution_count": null,
      "outputs": [
        {
          "output_type": "display_data",
          "data": {
            "text/plain": [
              "<Figure size 640x480 with 1 Axes>"
            ],
            "image/png": "[encoded data removed]"
          },
          "metadata": {}
        }
      ]
    },
    {
      "cell_type": "code",
      "source": [
        "departments = d['department'].unique()\n",
        "\n",
        "for i in range(len(departments)):\n",
        "    for j in range(i+1, len(departments)):\n",
        "        dept1_data = d[d['department'] == departments[i]]['log_productivity']\n",
        "        dept2_data = d[d['department'] == departments[j]]['log_productivity']\n",
        "\n",
        "        t_statistic, p_value = ttest_ind(dept1_data, dept2_data)\n",
        "\n",
        "        print(f\"T-test for {departments[i]} vs {departments[j]}:\")\n",
        "        print(f\"T-statistic: {t_statistic}, p-value: {p_value}\")\n",
        "        if p_value < 0.05:\n",
        "            print(\"Reject null hypothesis: There is a significant difference.\")\n",
        "        else:\n",
        "            print(\"Fail to reject null hypothesis: There is no significant difference.\")\n",
        "        print()"
      ],
      "metadata": {
        "colab": {
          "base_uri": "https://localhost:8080/"
        },
        "id": "ewGjchYkltq9",
        "outputId": "c181bea7-27ea-4868-82d5-b22915ff1f30"
      },
      "execution_count": null,
      "outputs": [
        {
          "output_type": "stream",
          "name": "stdout",
          "text": [
            "T-test for sweing vs finishing :\n",
            "T-statistic: -3.552595110520864, p-value: 0.00040028431437478574\n",
            "Reject null hypothesis: There is a significant difference.\n",
            "\n",
            "T-test for sweing vs finishing:\n",
            "T-statistic: 0.9268299378480578, p-value: 0.3542532447620479\n",
            "Fail to reject null hypothesis: There is no significant difference.\n",
            "\n",
            "T-test for finishing  vs finishing:\n",
            "T-statistic: 3.1565021267111875, p-value: 0.0016922963741435742\n",
            "Reject null hypothesis: There is a significant difference.\n",
            "\n"
          ]
        }
      ]
    },
    {
      "cell_type": "markdown",
      "source": [
        "**Day**"
      ],
      "metadata": {
        "id": "Ha9R91jlntO-"
      }
    },
    {
      "cell_type": "code",
      "source": [
        "sns.boxplot(x='day', y='log_productivity', data=d)\n",
        "plt.show()"
      ],
      "metadata": {
        "colab": {
          "base_uri": "https://localhost:8080/",
          "height": 449
        },
        "id": "qR5JIC_1nPxl",
        "outputId": "aeeb731c-8dcd-4f55-a24a-ef5da74f7832"
      },
      "execution_count": null,
      "outputs": [
        {
          "output_type": "display_data",
          "data": {
            "text/plain": [
              "<Figure size 640x480 with 1 Axes>"
            ],
            "image/png": "[encoded data removed]"
          },
          "metadata": {}
        }
      ]
    },
    {
      "cell_type": "code",
      "source": [
        "weekdays = ['Monday', 'Tuesday', 'Wednesday', 'Thursday', 'Friday', 'Saturday']\n",
        "\n",
        "for weekday in weekdays:\n",
        "    sunday_data = d[d['day'] == 'Sunday']['log_productivity']\n",
        "    weekday_data = d[d['day'] == weekday]['log_productivity']\n",
        "\n",
        "    t_statistic, p_value = ttest_ind(sunday_data, weekday_data)\n",
        "\n",
        "    print(f\"T-test for Sunday vs {weekday}:\")\n",
        "    print(f\"T-statistic: {t_statistic}, p-value: {p_value}\")\n",
        "    if p_value < 0.05:\n",
        "        print(\"Reject null hypothesis: There is a significant difference.\")\n",
        "    else:\n",
        "        print(\"Fail to reject null hypothesis: There is no significant difference.\")\n",
        "    print()"
      ],
      "metadata": {
        "colab": {
          "base_uri": "https://localhost:8080/"
        },
        "id": "yFSCrIAPm2nZ",
        "outputId": "82881698-2ce1-42a7-891a-b4c2567477fb"
      },
      "execution_count": null,
      "outputs": [
        {
          "output_type": "stream",
          "name": "stdout",
          "text": [
            "T-test for Sunday vs Monday:\n",
            "T-statistic: -0.2508138187485118, p-value: 0.8020868418718979\n",
            "Fail to reject null hypothesis: There is no significant difference.\n",
            "\n",
            "T-test for Sunday vs Tuesday:\n",
            "T-statistic: -0.9561959422992043, p-value: 0.3395479101161385\n",
            "Fail to reject null hypothesis: There is no significant difference.\n",
            "\n",
            "T-test for Sunday vs Wednesday:\n",
            "T-statistic: -0.0300827736223543, p-value: 0.9760157128073305\n",
            "Fail to reject null hypothesis: There is no significant difference.\n",
            "\n",
            "T-test for Sunday vs Thursday:\n",
            "T-statistic: 0.2088609242357079, p-value: 0.8346631275525696\n",
            "Fail to reject null hypothesis: There is no significant difference.\n",
            "\n",
            "T-test for Sunday vs Friday:\n",
            "T-statistic: nan, p-value: nan\n",
            "Fail to reject null hypothesis: There is no significant difference.\n",
            "\n",
            "T-test for Sunday vs Saturday:\n",
            "T-statistic: -1.1534970911823332, p-value: 0.24941647550102006\n",
            "Fail to reject null hypothesis: There is no significant difference.\n",
            "\n"
          ]
        }
      ]
    },
    {
      "cell_type": "markdown",
      "source": [
        "**Number of style change**"
      ],
      "metadata": {
        "id": "bcQH8UNnnxBk"
      }
    },
    {
      "cell_type": "code",
      "source": [
        "sns.boxplot(x='no_of_style_change', y='log_productivity', data=d)\n",
        "plt.show()"
      ],
      "metadata": {
        "colab": {
          "base_uri": "https://localhost:8080/",
          "height": 450
        },
        "id": "iZFPPB6JnZpB",
        "outputId": "05f6297c-80a4-49c1-e837-276bceb90dc1"
      },
      "execution_count": null,
      "outputs": [
        {
          "output_type": "display_data",
          "data": {
            "text/plain": [
              "<Figure size 640x480 with 1 Axes>"
            ],
            "image/png": "[encoded data removed]"
          },
          "metadata": {}
        }
      ]
    },
    {
      "cell_type": "code",
      "source": [
        "style_changes = d['no_of_style_change'].unique()\n",
        "\n",
        "for i in range(len(style_changes)):\n",
        "    for j in range(i+1, len(style_changes)):\n",
        "        style_change1_data = d[d['no_of_style_change'] == style_changes[i]]['log_productivity']\n",
        "        style_change2_data = d[d['no_of_style_change'] == style_changes[j]]['log_productivity']\n",
        "\n",
        "        t_statistic, p_value = ttest_ind(style_change1_data, style_change2_data)\n",
        "\n",
        "        print(f\"T-test for Style Change {style_changes[i]} vs Style Change {style_changes[j]}:\")\n",
        "        print(f\"T-statistic: {t_statistic}, p-value: {p_value}\")\n",
        "        if p_value < 0.05:\n",
        "            print(\"Reject null hypothesis: There is a significant difference.\")\n",
        "        else:\n",
        "            print(\"Fail to reject null hypothesis: There is no significant difference.\")\n",
        "        print()"
      ],
      "metadata": {
        "colab": {
          "base_uri": "https://localhost:8080/"
        },
        "id": "JNnHoqzTm52q",
        "outputId": "4d5ad2ae-4e9d-4765-b89f-6b702300dc5f"
      },
      "execution_count": null,
      "outputs": [
        {
          "output_type": "stream",
          "name": "stdout",
          "text": [
            "T-test for Style Change 0 vs Style Change 1:\n",
            "T-statistic: 7.317166413470184, p-value: 4.711568034626225e-13\n",
            "Reject null hypothesis: There is a significant difference.\n",
            "\n",
            "T-test for Style Change 0 vs Style Change 2:\n",
            "T-statistic: 2.3215444234359723, p-value: 0.02044265784688274\n",
            "Reject null hypothesis: There is a significant difference.\n",
            "\n",
            "T-test for Style Change 1 vs Style Change 2:\n",
            "T-statistic: -1.566692700351746, p-value: 0.11936631668898746\n",
            "Fail to reject null hypothesis: There is no significant difference.\n",
            "\n"
          ]
        }
      ]
    },
    {
      "cell_type": "markdown",
      "source": [
        "d. Perform a scatter plot of the natural logarithm of no_of_workers +1 on x–axis and natural logarithm of productivity on y-axis. What do you observe? Comment on any pattern that you may observe. Report the correlation coefficient between the two variables.\n"
      ],
      "metadata": {
        "id": "viJwYehwons8"
      }
    },
    {
      "cell_type": "code",
      "source": [
        "d[\"log_no_of_workers_1\"]= np.log(d['no_of_workers'] + 1)\n",
        "d.head()\n",
        "\n"
      ],
      "metadata": {
        "colab": {
          "base_uri": "https://localhost:8080/",
          "height": 226
        },
        "id": "vu-d7riSgRUh",
        "outputId": "260ada23-c876-4b13-e400-577ac306ea54"
      },
      "execution_count": null,
      "outputs": [
        {
          "output_type": "execute_result",
          "data": {
            "text/plain": [
              "       date   quarter  department       day team  targeted_productivity  \\\n",
              "0  1/1/2015  Quarter1      sweing  Thursday    8                   0.80   \n",
              "1  1/1/2015  Quarter1  finishing   Thursday    1                   0.75   \n",
              "2  1/1/2015  Quarter1      sweing  Thursday   11                   0.80   \n",
              "3  1/1/2015  Quarter1      sweing  Thursday   12                   0.80   \n",
              "4  1/1/2015  Quarter1      sweing  Thursday    6                   0.80   \n",
              "\n",
              "     smv  over_time  incentive  idle_time  idle_men  no_of_style_change  \\\n",
              "0  26.16       7080         98        0.0         0                   0   \n",
              "1   3.94        960          0        0.0         0                   0   \n",
              "2  11.41       3660         50        0.0         0                   0   \n",
              "3  11.41       3660         50        0.0         0                   0   \n",
              "4  25.90       1920         50        0.0         0                   0   \n",
              "\n",
              "   no_of_workers  actual_productivity  log_productivity  log_no_of_workers  \\\n",
              "0           59.0             0.940725          4.544066           4.077537   \n",
              "1            8.0             0.886500          4.484696           2.079442   \n",
              "2           30.5             0.800570          4.382739           3.417727   \n",
              "3           30.5             0.800570          4.382739           3.417727   \n",
              "4           56.0             0.800382          4.382504           4.025352   \n",
              "\n",
              "   log_no_of_workers_1  \n",
              "0             4.094345  \n",
              "1             2.197225  \n",
              "2             3.449988  \n",
              "3             3.449988  \n",
              "4             4.043051  "
            ],
            "text/html": [
              "\n",
              "  <div id=\"df-878a6f27-fb3e-4467-bab0-ce1f31cca94d\" class=\"colab-df-container\">\n",
              "    <div>\n",
              "<style scoped>\n",
              "    .dataframe tbody tr th:only-of-type {\n",
              "        vertical-align: middle;\n",
              "    }\n",
              "\n",
              "    .dataframe tbody tr th {\n",
              "        vertical-align: top;\n",
              "    }\n",
              "\n",
              "    .dataframe thead th {\n",
              "        text-align: right;\n",
              "    }\n",
              "</style>\n",
              "<table border=\"1\" class=\"dataframe\">\n",
              "  <thead>\n",
              "    <tr style=\"text-align: right;\">\n",
              "      <th></th>\n",
              "      <th>date</th>\n",
              "      <th>quarter</th>\n",
              "      <th>department</th>\n",
              "      <th>day</th>\n",
              "      <th>team</th>\n",
              "      <th>targeted_productivity</th>\n",
              "      <th>smv</th>\n",
              "      <th>over_time</th>\n",
              "      <th>incentive</th>\n",
              "      <th>idle_time</th>\n",
              "      <th>idle_men</th>\n",
              "      <th>no_of_style_change</th>\n",
              "      <th>no_of_workers</th>\n",
              "      <th>actual_productivity</th>\n",
              "      <th>log_productivity</th>\n",
              "      <th>log_no_of_workers</th>\n",
              "      <th>log_no_of_workers_1</th>\n",
              "    </tr>\n",
              "  </thead>\n",
              "  <tbody>\n",
              "    <tr>\n",
              "      <th>0</th>\n",
              "      <td>1/1/2015</td>\n",
              "      <td>Quarter1</td>\n",
              "      <td>sweing</td>\n",
              "      <td>Thursday</td>\n",
              "      <td>8</td>\n",
              "      <td>0.80</td>\n",
              "      <td>26.16</td>\n",
              "      <td>7080</td>\n",
              "      <td>98</td>\n",
              "      <td>0.0</td>\n",
              "      <td>0</td>\n",
              "      <td>0</td>\n",
              "      <td>59.0</td>\n",
              "      <td>0.940725</td>\n",
              "      <td>4.544066</td>\n",
              "      <td>4.077537</td>\n",
              "      <td>4.094345</td>\n",
              "    </tr>\n",
              "    <tr>\n",
              "      <th>1</th>\n",
              "      <td>1/1/2015</td>\n",
              "      <td>Quarter1</td>\n",
              "      <td>finishing</td>\n",
              "      <td>Thursday</td>\n",
              "      <td>1</td>\n",
              "      <td>0.75</td>\n",
              "      <td>3.94</td>\n",
              "      <td>960</td>\n",
              "      <td>0</td>\n",
              "      <td>0.0</td>\n",
              "      <td>0</td>\n",
              "      <td>0</td>\n",
              "      <td>8.0</td>\n",
              "      <td>0.886500</td>\n",
              "      <td>4.484696</td>\n",
              "      <td>2.079442</td>\n",
              "      <td>2.197225</td>\n",
              "    </tr>\n",
              "    <tr>\n",
              "      <th>2</th>\n",
              "      <td>1/1/2015</td>\n",
              "      <td>Quarter1</td>\n",
              "      <td>sweing</td>\n",
              "      <td>Thursday</td>\n",
              "      <td>11</td>\n",
              "      <td>0.80</td>\n",
              "      <td>11.41</td>\n",
              "      <td>3660</td>\n",
              "      <td>50</td>\n",
              "      <td>0.0</td>\n",
              "      <td>0</td>\n",
              "      <td>0</td>\n",
              "      <td>30.5</td>\n",
              "      <td>0.800570</td>\n",
              "      <td>4.382739</td>\n",
              "      <td>3.417727</td>\n",
              "      <td>3.449988</td>\n",
              "    </tr>\n",
              "    <tr>\n",
              "      <th>3</th>\n",
              "      <td>1/1/2015</td>\n",
              "      <td>Quarter1</td>\n",
              "      <td>sweing</td>\n",
              "      <td>Thursday</td>\n",
              "      <td>12</td>\n",
              "      <td>0.80</td>\n",
              "      <td>11.41</td>\n",
              "      <td>3660</td>\n",
              "      <td>50</td>\n",
              "      <td>0.0</td>\n",
              "      <td>0</td>\n",
              "      <td>0</td>\n",
              "      <td>30.5</td>\n",
              "      <td>0.800570</td>\n",
              "      <td>4.382739</td>\n",
              "      <td>3.417727</td>\n",
              "      <td>3.449988</td>\n",
              "    </tr>\n",
              "    <tr>\n",
              "      <th>4</th>\n",
              "      <td>1/1/2015</td>\n",
              "      <td>Quarter1</td>\n",
              "      <td>sweing</td>\n",
              "      <td>Thursday</td>\n",
              "      <td>6</td>\n",
              "      <td>0.80</td>\n",
              "      <td>25.90</td>\n",
              "      <td>1920</td>\n",
              "      <td>50</td>\n",
              "      <td>0.0</td>\n",
              "      <td>0</td>\n",
              "      <td>0</td>\n",
              "      <td>56.0</td>\n",
              "      <td>0.800382</td>\n",
              "      <td>4.382504</td>\n",
              "      <td>4.025352</td>\n",
              "      <td>4.043051</td>\n",
              "    </tr>\n",
              "  </tbody>\n",
              "</table>\n",
              "</div>\n",
              "    <div class=\"colab-df-buttons\">\n",
              "\n",
              "  <div class=\"colab-df-container\">\n",
              "    <button class=\"colab-df-convert\" onclick=\"convertToInteractive('df-878a6f27-fb3e-4467-bab0-ce1f31cca94d')\"\n",
              "            title=\"Convert this dataframe to an interactive table.\"\n",
              "            style=\"display:none;\">\n",
              "\n",
              "  <svg xmlns=\"http://www.w3.org/2000/svg\" height=\"24px\" viewBox=\"0 -960 960 960\">\n",
              "    <path d=\"M120-120v-720h720v720H120Zm60-500h600v-160H180v160Zm220 220h160v-160H400v160Zm0 220h160v-160H400v160ZM180-400h160v-160H180v160Zm440 0h160v-160H620v160ZM180-180h160v-160H180v160Zm440 0h160v-160H620v160Z\"/>\n",
              "  </svg>\n",
              "    </button>\n",
              "\n",
              "  <style>\n",
              "    .colab-df-container {\n",
              "      display:flex;\n",
              "      gap: 12px;\n",
              "    }\n",
              "\n",
              "    .colab-df-convert {\n",
              "      background-color: #E8F0FE;\n",
              "      border: none;\n",
              "      border-radius: 50%;\n",
              "      cursor: pointer;\n",
              "      display: none;\n",
              "      fill: #1967D2;\n",
              "      height: 32px;\n",
              "      padding: 0 0 0 0;\n",
              "      width: 32px;\n",
              "    }\n",
              "\n",
              "    .colab-df-convert:hover {\n",
              "      background-color: #E2EBFA;\n",
              "      box-shadow: 0px 1px 2px rgba(60, 64, 67, 0.3), 0px 1px 3px 1px rgba(60, 64, 67, 0.15);\n",
              "      fill: #174EA6;\n",
              "    }\n",
              "\n",
              "    .colab-df-buttons div {\n",
              "      margin-bottom: 4px;\n",
              "    }\n",
              "\n",
              "    [theme=dark] .colab-df-convert {\n",
              "      background-color: #3B4455;\n",
              "      fill: #D2E3FC;\n",
              "    }\n",
              "\n",
              "    [theme=dark] .colab-df-convert:hover {\n",
              "      background-color: #434B5C;\n",
              "      box-shadow: 0px 1px 3px 1px rgba(0, 0, 0, 0.15);\n",
              "      filter: drop-shadow(0px 1px 2px rgba(0, 0, 0, 0.3));\n",
              "      fill: #FFFFFF;\n",
              "    }\n",
              "  </style>\n",
              "\n",
              "    <script>\n",
              "      const buttonEl =\n",
              "        document.querySelector('#df-878a6f27-fb3e-4467-bab0-ce1f31cca94d button.colab-df-convert');\n",
              "      buttonEl.style.display =\n",
              "        google.colab.kernel.accessAllowed ? 'block' : 'none';\n",
              "\n",
              "      async function convertToInteractive(key) {\n",
              "        const element = document.querySelector('#df-878a6f27-fb3e-4467-bab0-ce1f31cca94d');\n",
              "        const dataTable =\n",
              "          await google.colab.kernel.invokeFunction('convertToInteractive',\n",
              "                                                    [key], {});\n",
              "        if (!dataTable) return;\n",
              "\n",
              "        const docLinkHtml = 'Like what you see? Visit the ' +\n",
              "          '<a target=\"_blank\" href=https://colab.research.google.com/notebooks/data_table.ipynb>data table notebook</a>'\n",
              "          + ' to learn more about interactive tables.';\n",
              "        element.innerHTML = '';\n",
              "        dataTable['output_type'] = 'display_data';\n",
              "        await google.colab.output.renderOutput(dataTable, element);\n",
              "        const docLink = document.createElement('div');\n",
              "        docLink.innerHTML = docLinkHtml;\n",
              "        element.appendChild(docLink);\n",
              "      }\n",
              "    </script>\n",
              "  </div>\n",
              "\n",
              "\n",
              "<div id=\"df-8b87e4f3-07e9-4a0c-8003-c1103c7c26a4\">\n",
              "  <button class=\"colab-df-quickchart\" onclick=\"quickchart('df-8b87e4f3-07e9-4a0c-8003-c1103c7c26a4')\"\n",
              "            title=\"Suggest charts\"\n",
              "            style=\"display:none;\">\n",
              "\n",
              "<svg xmlns=\"http://www.w3.org/2000/svg\" height=\"24px\"viewBox=\"0 0 24 24\"\n",
              "     width=\"24px\">\n",
              "    <g>\n",
              "        <path d=\"M19 3H5c-1.1 0-2 .9-2 2v14c0 1.1.9 2 2 2h14c1.1 0 2-.9 2-2V5c0-1.1-.9-2-2-2zM9 17H7v-7h2v7zm4 0h-2V7h2v10zm4 0h-2v-4h2v4z\"/>\n",
              "    </g>\n",
              "</svg>\n",
              "  </button>\n",
              "\n",
              "<style>\n",
              "  .colab-df-quickchart {\n",
              "      --bg-color: #E8F0FE;\n",
              "      --fill-color: #1967D2;\n",
              "      --hover-bg-color: #E2EBFA;\n",
              "      --hover-fill-color: #174EA6;\n",
              "      --disabled-fill-color: #AAA;\n",
              "      --disabled-bg-color: #DDD;\n",
              "  }\n",
              "\n",
              "  [theme=dark] .colab-df-quickchart {\n",
              "      --bg-color: #3B4455;\n",
              "      --fill-color: #D2E3FC;\n",
              "      --hover-bg-color: #434B5C;\n",
              "      --hover-fill-color: #FFFFFF;\n",
              "      --disabled-bg-color: #3B4455;\n",
              "      --disabled-fill-color: #666;\n",
              "  }\n",
              "\n",
              "  .colab-df-quickchart {\n",
              "    background-color: var(--bg-color);\n",
              "    border: none;\n",
              "    border-radius: 50%;\n",
              "    cursor: pointer;\n",
              "    display: none;\n",
              "    fill: var(--fill-color);\n",
              "    height: 32px;\n",
              "    padding: 0;\n",
              "    width: 32px;\n",
              "  }\n",
              "\n",
              "  .colab-df-quickchart:hover {\n",
              "    background-color: var(--hover-bg-color);\n",
              "    box-shadow: 0 1px 2px rgba(60, 64, 67, 0.3), 0 1px 3px 1px rgba(60, 64, 67, 0.15);\n",
              "    fill: var(--button-hover-fill-color);\n",
              "  }\n",
              "\n",
              "  .colab-df-quickchart-complete:disabled,\n",
              "  .colab-df-quickchart-complete:disabled:hover {\n",
              "    background-color: var(--disabled-bg-color);\n",
              "    fill: var(--disabled-fill-color);\n",
              "    box-shadow: none;\n",
              "  }\n",
              "\n",
              "  .colab-df-spinner {\n",
              "    border: 2px solid var(--fill-color);\n",
              "    border-color: transparent;\n",
              "    border-bottom-color: var(--fill-color);\n",
              "    animation:\n",
              "      spin 1s steps(1) infinite;\n",
              "  }\n",
              "\n",
              "  @keyframes spin {\n",
              "    0% {\n",
              "      border-color: transparent;\n",
              "      border-bottom-color: var(--fill-color);\n",
              "      border-left-color: var(--fill-color);\n",
              "    }\n",
              "    20% {\n",
              "      border-color: transparent;\n",
              "      border-left-color: var(--fill-color);\n",
              "      border-top-color: var(--fill-color);\n",
              "    }\n",
              "    30% {\n",
              "      border-color: transparent;\n",
              "      border-left-color: var(--fill-color);\n",
              "      border-top-color: var(--fill-color);\n",
              "      border-right-color: var(--fill-color);\n",
              "    }\n",
              "    40% {\n",
              "      border-color: transparent;\n",
              "      border-right-color: var(--fill-color);\n",
              "      border-top-color: var(--fill-color);\n",
              "    }\n",
              "    60% {\n",
              "      border-color: transparent;\n",
              "      border-right-color: var(--fill-color);\n",
              "    }\n",
              "    80% {\n",
              "      border-color: transparent;\n",
              "      border-right-color: var(--fill-color);\n",
              "      border-bottom-color: var(--fill-color);\n",
              "    }\n",
              "    90% {\n",
              "      border-color: transparent;\n",
              "      border-bottom-color: var(--fill-color);\n",
              "    }\n",
              "  }\n",
              "</style>\n",
              "\n",
              "  <script>\n",
              "    async function quickchart(key) {\n",
              "      const quickchartButtonEl =\n",
              "        document.querySelector('#' + key + ' button');\n",
              "      quickchartButtonEl.disabled = true;  // To prevent multiple clicks.\n",
              "      quickchartButtonEl.classList.add('colab-df-spinner');\n",
              "      try {\n",
              "        const charts = await google.colab.kernel.invokeFunction(\n",
              "            'suggestCharts', [key], {});\n",
              "      } catch (error) {\n",
              "        console.error('Error during call to suggestCharts:', error);\n",
              "      }\n",
              "      quickchartButtonEl.classList.remove('colab-df-spinner');\n",
              "      quickchartButtonEl.classList.add('colab-df-quickchart-complete');\n",
              "    }\n",
              "    (() => {\n",
              "      let quickchartButtonEl =\n",
              "        document.querySelector('#df-8b87e4f3-07e9-4a0c-8003-c1103c7c26a4 button');\n",
              "      quickchartButtonEl.style.display =\n",
              "        google.colab.kernel.accessAllowed ? 'block' : 'none';\n",
              "    })();\n",
              "  </script>\n",
              "</div>\n",
              "    </div>\n",
              "  </div>\n"
            ],
            "application/vnd.google.colaboratory.intrinsic+json": {
              "type": "dataframe",
              "variable_name": "d",
              "repr_error": "'str' object has no attribute 'empty'"
            }
          },
          "metadata": {},
          "execution_count": 223
        }
      ]
    },
    {
      "cell_type": "code",
      "source": [
        "plt.scatter(x=d['log_no_of_workers_1'], y=d['log_productivity'])\n",
        "plt.xlabel('log_no_of_workers+1')\n",
        "plt.ylabel('log_productivity')\n",
        "plt.show()"
      ],
      "metadata": {
        "colab": {
          "base_uri": "https://localhost:8080/",
          "height": 450
        },
        "id": "UH0bp7cYf6z8",
        "outputId": "60986d61-a470-4e92-ccd0-a12b7dfe104b"
      },
      "execution_count": null,
      "outputs": [
        {
          "output_type": "display_data",
          "data": {
            "text/plain": [
              "<Figure size 640x480 with 1 Axes>"
            ],
            "image/png": "[encoded data removed]"
          },
          "metadata": {}
        }
      ]
    },
    {
      "cell_type": "markdown",
      "source": [
        "\n",
        "The correlation coefficient between the variables log_no_of_workers_1 and log_productivity is approximately -0.00286. The change in the number of workers are not significantly associated with changes in productivity, based on the linear correlation."
      ],
      "metadata": {
        "id": "BIW8DxIxi84x"
      }
    },
    {
      "cell_type": "code",
      "source": [
        "correlation_coefficient = d['log_no_of_workers_1'].corr(d['log_productivity'])\n",
        "print(correlation_coefficient)"
      ],
      "metadata": {
        "colab": {
          "base_uri": "https://localhost:8080/"
        },
        "id": "WckzWGK9hOug",
        "outputId": "2166b47e-2380-4597-ae8b-029fedb34540"
      },
      "execution_count": null,
      "outputs": [
        {
          "output_type": "stream",
          "name": "stdout",
          "text": [
            "-0.002860469596148367\n"
          ]
        }
      ]
    },
    {
      "cell_type": "markdown",
      "source": [
        "e. Perform a scatter plot of the natural logarithm of incentive + 1 on x-axis and natural logarithm of productivity on y-axis. What do you observe? Comment on any patterns that you may observe. Report the correlation coefficient between the two variables.\n"
      ],
      "metadata": {
        "id": "Ks30xz3Voq4w"
      }
    },
    {
      "cell_type": "code",
      "source": [
        "d[\"log_incentive_1\"]= np.log(d['incentive'] + 1)\n",
        "d.head()"
      ],
      "metadata": {
        "colab": {
          "base_uri": "https://localhost:8080/",
          "height": 226
        },
        "id": "FsjFAlm5jZTS",
        "outputId": "8738380e-0978-4cf2-e1fe-a77b2fed1479"
      },
      "execution_count": null,
      "outputs": [
        {
          "output_type": "execute_result",
          "data": {
            "text/plain": [
              "       date   quarter  department       day team  targeted_productivity  \\\n",
              "0  1/1/2015  Quarter1      sweing  Thursday    8                   0.80   \n",
              "1  1/1/2015  Quarter1  finishing   Thursday    1                   0.75   \n",
              "2  1/1/2015  Quarter1      sweing  Thursday   11                   0.80   \n",
              "3  1/1/2015  Quarter1      sweing  Thursday   12                   0.80   \n",
              "4  1/1/2015  Quarter1      sweing  Thursday    6                   0.80   \n",
              "\n",
              "     smv  over_time  incentive  idle_time  idle_men  no_of_style_change  \\\n",
              "0  26.16       7080         98        0.0         0                   0   \n",
              "1   3.94        960          0        0.0         0                   0   \n",
              "2  11.41       3660         50        0.0         0                   0   \n",
              "3  11.41       3660         50        0.0         0                   0   \n",
              "4  25.90       1920         50        0.0         0                   0   \n",
              "\n",
              "   no_of_workers  actual_productivity  log_productivity  log_no_of_workers  \\\n",
              "0           59.0             0.940725          4.544066           4.077537   \n",
              "1            8.0             0.886500          4.484696           2.079442   \n",
              "2           30.5             0.800570          4.382739           3.417727   \n",
              "3           30.5             0.800570          4.382739           3.417727   \n",
              "4           56.0             0.800382          4.382504           4.025352   \n",
              "\n",
              "   log_no_of_workers_1  log_incentive_1  \n",
              "0             4.094345         4.595120  \n",
              "1             2.197225         0.000000  \n",
              "2             3.449988         3.931826  \n",
              "3             3.449988         3.931826  \n",
              "4             4.043051         3.931826  "
            ],
            "text/html": [
              "\n",
              "  <div id=\"df-fc85d0d7-f55a-45d5-9f72-3ac304251773\" class=\"colab-df-container\">\n",
              "    <div>\n",
              "<style scoped>\n",
              "    .dataframe tbody tr th:only-of-type {\n",
              "        vertical-align: middle;\n",
              "    }\n",
              "\n",
              "    .dataframe tbody tr th {\n",
              "        vertical-align: top;\n",
              "    }\n",
              "\n",
              "    .dataframe thead th {\n",
              "        text-align: right;\n",
              "    }\n",
              "</style>\n",
              "<table border=\"1\" class=\"dataframe\">\n",
              "  <thead>\n",
              "    <tr style=\"text-align: right;\">\n",
              "      <th></th>\n",
              "      <th>date</th>\n",
              "      <th>quarter</th>\n",
              "      <th>department</th>\n",
              "      <th>day</th>\n",
              "      <th>team</th>\n",
              "      <th>targeted_productivity</th>\n",
              "      <th>smv</th>\n",
              "      <th>over_time</th>\n",
              "      <th>incentive</th>\n",
              "      <th>idle_time</th>\n",
              "      <th>idle_men</th>\n",
              "      <th>no_of_style_change</th>\n",
              "      <th>no_of_workers</th>\n",
              "      <th>actual_productivity</th>\n",
              "      <th>log_productivity</th>\n",
              "      <th>log_no_of_workers</th>\n",
              "      <th>log_no_of_workers_1</th>\n",
              "      <th>log_incentive_1</th>\n",
              "    </tr>\n",
              "  </thead>\n",
              "  <tbody>\n",
              "    <tr>\n",
              "      <th>0</th>\n",
              "      <td>1/1/2015</td>\n",
              "      <td>Quarter1</td>\n",
              "      <td>sweing</td>\n",
              "      <td>Thursday</td>\n",
              "      <td>8</td>\n",
              "      <td>0.80</td>\n",
              "      <td>26.16</td>\n",
              "      <td>7080</td>\n",
              "      <td>98</td>\n",
              "      <td>0.0</td>\n",
              "      <td>0</td>\n",
              "      <td>0</td>\n",
              "      <td>59.0</td>\n",
              "      <td>0.940725</td>\n",
              "      <td>4.544066</td>\n",
              "      <td>4.077537</td>\n",
              "      <td>4.094345</td>\n",
              "      <td>4.595120</td>\n",
              "    </tr>\n",
              "    <tr>\n",
              "      <th>1</th>\n",
              "      <td>1/1/2015</td>\n",
              "      <td>Quarter1</td>\n",
              "      <td>finishing</td>\n",
              "      <td>Thursday</td>\n",
              "      <td>1</td>\n",
              "      <td>0.75</td>\n",
              "      <td>3.94</td>\n",
              "      <td>960</td>\n",
              "      <td>0</td>\n",
              "      <td>0.0</td>\n",
              "      <td>0</td>\n",
              "      <td>0</td>\n",
              "      <td>8.0</td>\n",
              "      <td>0.886500</td>\n",
              "      <td>4.484696</td>\n",
              "      <td>2.079442</td>\n",
              "      <td>2.197225</td>\n",
              "      <td>0.000000</td>\n",
              "    </tr>\n",
              "    <tr>\n",
              "      <th>2</th>\n",
              "      <td>1/1/2015</td>\n",
              "      <td>Quarter1</td>\n",
              "      <td>sweing</td>\n",
              "      <td>Thursday</td>\n",
              "      <td>11</td>\n",
              "      <td>0.80</td>\n",
              "      <td>11.41</td>\n",
              "      <td>3660</td>\n",
              "      <td>50</td>\n",
              "      <td>0.0</td>\n",
              "      <td>0</td>\n",
              "      <td>0</td>\n",
              "      <td>30.5</td>\n",
              "      <td>0.800570</td>\n",
              "      <td>4.382739</td>\n",
              "      <td>3.417727</td>\n",
              "      <td>3.449988</td>\n",
              "      <td>3.931826</td>\n",
              "    </tr>\n",
              "    <tr>\n",
              "      <th>3</th>\n",
              "      <td>1/1/2015</td>\n",
              "      <td>Quarter1</td>\n",
              "      <td>sweing</td>\n",
              "      <td>Thursday</td>\n",
              "      <td>12</td>\n",
              "      <td>0.80</td>\n",
              "      <td>11.41</td>\n",
              "      <td>3660</td>\n",
              "      <td>50</td>\n",
              "      <td>0.0</td>\n",
              "      <td>0</td>\n",
              "      <td>0</td>\n",
              "      <td>30.5</td>\n",
              "      <td>0.800570</td>\n",
              "      <td>4.382739</td>\n",
              "      <td>3.417727</td>\n",
              "      <td>3.449988</td>\n",
              "      <td>3.931826</td>\n",
              "    </tr>\n",
              "    <tr>\n",
              "      <th>4</th>\n",
              "      <td>1/1/2015</td>\n",
              "      <td>Quarter1</td>\n",
              "      <td>sweing</td>\n",
              "      <td>Thursday</td>\n",
              "      <td>6</td>\n",
              "      <td>0.80</td>\n",
              "      <td>25.90</td>\n",
              "      <td>1920</td>\n",
              "      <td>50</td>\n",
              "      <td>0.0</td>\n",
              "      <td>0</td>\n",
              "      <td>0</td>\n",
              "      <td>56.0</td>\n",
              "      <td>0.800382</td>\n",
              "      <td>4.382504</td>\n",
              "      <td>4.025352</td>\n",
              "      <td>4.043051</td>\n",
              "      <td>3.931826</td>\n",
              "    </tr>\n",
              "  </tbody>\n",
              "</table>\n",
              "</div>\n",
              "    <div class=\"colab-df-buttons\">\n",
              "\n",
              "  <div class=\"colab-df-container\">\n",
              "    <button class=\"colab-df-convert\" onclick=\"convertToInteractive('df-fc85d0d7-f55a-45d5-9f72-3ac304251773')\"\n",
              "            title=\"Convert this dataframe to an interactive table.\"\n",
              "            style=\"display:none;\">\n",
              "\n",
              "  <svg xmlns=\"http://www.w3.org/2000/svg\" height=\"24px\" viewBox=\"0 -960 960 960\">\n",
              "    <path d=\"M120-120v-720h720v720H120Zm60-500h600v-160H180v160Zm220 220h160v-160H400v160Zm0 220h160v-160H400v160ZM180-400h160v-160H180v160Zm440 0h160v-160H620v160ZM180-180h160v-160H180v160Zm440 0h160v-160H620v160Z\"/>\n",
              "  </svg>\n",
              "    </button>\n",
              "\n",
              "  <style>\n",
              "    .colab-df-container {\n",
              "      display:flex;\n",
              "      gap: 12px;\n",
              "    }\n",
              "\n",
              "    .colab-df-convert {\n",
              "      background-color: #E8F0FE;\n",
              "      border: none;\n",
              "      border-radius: 50%;\n",
              "      cursor: pointer;\n",
              "      display: none;\n",
              "      fill: #1967D2;\n",
              "      height: 32px;\n",
              "      padding: 0 0 0 0;\n",
              "      width: 32px;\n",
              "    }\n",
              "\n",
              "    .colab-df-convert:hover {\n",
              "      background-color: #E2EBFA;\n",
              "      box-shadow: 0px 1px 2px rgba(60, 64, 67, 0.3), 0px 1px 3px 1px rgba(60, 64, 67, 0.15);\n",
              "      fill: #174EA6;\n",
              "    }\n",
              "\n",
              "    .colab-df-buttons div {\n",
              "      margin-bottom: 4px;\n",
              "    }\n",
              "\n",
              "    [theme=dark] .colab-df-convert {\n",
              "      background-color: #3B4455;\n",
              "      fill: #D2E3FC;\n",
              "    }\n",
              "\n",
              "    [theme=dark] .colab-df-convert:hover {\n",
              "      background-color: #434B5C;\n",
              "      box-shadow: 0px 1px 3px 1px rgba(0, 0, 0, 0.15);\n",
              "      filter: drop-shadow(0px 1px 2px rgba(0, 0, 0, 0.3));\n",
              "      fill: #FFFFFF;\n",
              "    }\n",
              "  </style>\n",
              "\n",
              "    <script>\n",
              "      const buttonEl =\n",
              "        document.querySelector('#df-fc85d0d7-f55a-45d5-9f72-3ac304251773 button.colab-df-convert');\n",
              "      buttonEl.style.display =\n",
              "        google.colab.kernel.accessAllowed ? 'block' : 'none';\n",
              "\n",
              "      async function convertToInteractive(key) {\n",
              "        const element = document.querySelector('#df-fc85d0d7-f55a-45d5-9f72-3ac304251773');\n",
              "        const dataTable =\n",
              "          await google.colab.kernel.invokeFunction('convertToInteractive',\n",
              "                                                    [key], {});\n",
              "        if (!dataTable) return;\n",
              "\n",
              "        const docLinkHtml = 'Like what you see? Visit the ' +\n",
              "          '<a target=\"_blank\" href=https://colab.research.google.com/notebooks/data_table.ipynb>data table notebook</a>'\n",
              "          + ' to learn more about interactive tables.';\n",
              "        element.innerHTML = '';\n",
              "        dataTable['output_type'] = 'display_data';\n",
              "        await google.colab.output.renderOutput(dataTable, element);\n",
              "        const docLink = document.createElement('div');\n",
              "        docLink.innerHTML = docLinkHtml;\n",
              "        element.appendChild(docLink);\n",
              "      }\n",
              "    </script>\n",
              "  </div>\n",
              "\n",
              "\n",
              "<div id=\"df-e18f8cfe-4953-4890-bb7e-0bbb533188cc\">\n",
              "  <button class=\"colab-df-quickchart\" onclick=\"quickchart('df-e18f8cfe-4953-4890-bb7e-0bbb533188cc')\"\n",
              "            title=\"Suggest charts\"\n",
              "            style=\"display:none;\">\n",
              "\n",
              "<svg xmlns=\"http://www.w3.org/2000/svg\" height=\"24px\"viewBox=\"0 0 24 24\"\n",
              "     width=\"24px\">\n",
              "    <g>\n",
              "        <path d=\"M19 3H5c-1.1 0-2 .9-2 2v14c0 1.1.9 2 2 2h14c1.1 0 2-.9 2-2V5c0-1.1-.9-2-2-2zM9 17H7v-7h2v7zm4 0h-2V7h2v10zm4 0h-2v-4h2v4z\"/>\n",
              "    </g>\n",
              "</svg>\n",
              "  </button>\n",
              "\n",
              "<style>\n",
              "  .colab-df-quickchart {\n",
              "      --bg-color: #E8F0FE;\n",
              "      --fill-color: #1967D2;\n",
              "      --hover-bg-color: #E2EBFA;\n",
              "      --hover-fill-color: #174EA6;\n",
              "      --disabled-fill-color: #AAA;\n",
              "      --disabled-bg-color: #DDD;\n",
              "  }\n",
              "\n",
              "  [theme=dark] .colab-df-quickchart {\n",
              "      --bg-color: #3B4455;\n",
              "      --fill-color: #D2E3FC;\n",
              "      --hover-bg-color: #434B5C;\n",
              "      --hover-fill-color: #FFFFFF;\n",
              "      --disabled-bg-color: #3B4455;\n",
              "      --disabled-fill-color: #666;\n",
              "  }\n",
              "\n",
              "  .colab-df-quickchart {\n",
              "    background-color: var(--bg-color);\n",
              "    border: none;\n",
              "    border-radius: 50%;\n",
              "    cursor: pointer;\n",
              "    display: none;\n",
              "    fill: var(--fill-color);\n",
              "    height: 32px;\n",
              "    padding: 0;\n",
              "    width: 32px;\n",
              "  }\n",
              "\n",
              "  .colab-df-quickchart:hover {\n",
              "    background-color: var(--hover-bg-color);\n",
              "    box-shadow: 0 1px 2px rgba(60, 64, 67, 0.3), 0 1px 3px 1px rgba(60, 64, 67, 0.15);\n",
              "    fill: var(--button-hover-fill-color);\n",
              "  }\n",
              "\n",
              "  .colab-df-quickchart-complete:disabled,\n",
              "  .colab-df-quickchart-complete:disabled:hover {\n",
              "    background-color: var(--disabled-bg-color);\n",
              "    fill: var(--disabled-fill-color);\n",
              "    box-shadow: none;\n",
              "  }\n",
              "\n",
              "  .colab-df-spinner {\n",
              "    border: 2px solid var(--fill-color);\n",
              "    border-color: transparent;\n",
              "    border-bottom-color: var(--fill-color);\n",
              "    animation:\n",
              "      spin 1s steps(1) infinite;\n",
              "  }\n",
              "\n",
              "  @keyframes spin {\n",
              "    0% {\n",
              "      border-color: transparent;\n",
              "      border-bottom-color: var(--fill-color);\n",
              "      border-left-color: var(--fill-color);\n",
              "    }\n",
              "    20% {\n",
              "      border-color: transparent;\n",
              "      border-left-color: var(--fill-color);\n",
              "      border-top-color: var(--fill-color);\n",
              "    }\n",
              "    30% {\n",
              "      border-color: transparent;\n",
              "      border-left-color: var(--fill-color);\n",
              "      border-top-color: var(--fill-color);\n",
              "      border-right-color: var(--fill-color);\n",
              "    }\n",
              "    40% {\n",
              "      border-color: transparent;\n",
              "      border-right-color: var(--fill-color);\n",
              "      border-top-color: var(--fill-color);\n",
              "    }\n",
              "    60% {\n",
              "      border-color: transparent;\n",
              "      border-right-color: var(--fill-color);\n",
              "    }\n",
              "    80% {\n",
              "      border-color: transparent;\n",
              "      border-right-color: var(--fill-color);\n",
              "      border-bottom-color: var(--fill-color);\n",
              "    }\n",
              "    90% {\n",
              "      border-color: transparent;\n",
              "      border-bottom-color: var(--fill-color);\n",
              "    }\n",
              "  }\n",
              "</style>\n",
              "\n",
              "  <script>\n",
              "    async function quickchart(key) {\n",
              "      const quickchartButtonEl =\n",
              "        document.querySelector('#' + key + ' button');\n",
              "      quickchartButtonEl.disabled = true;  // To prevent multiple clicks.\n",
              "      quickchartButtonEl.classList.add('colab-df-spinner');\n",
              "      try {\n",
              "        const charts = await google.colab.kernel.invokeFunction(\n",
              "            'suggestCharts', [key], {});\n",
              "      } catch (error) {\n",
              "        console.error('Error during call to suggestCharts:', error);\n",
              "      }\n",
              "      quickchartButtonEl.classList.remove('colab-df-spinner');\n",
              "      quickchartButtonEl.classList.add('colab-df-quickchart-complete');\n",
              "    }\n",
              "    (() => {\n",
              "      let quickchartButtonEl =\n",
              "        document.querySelector('#df-e18f8cfe-4953-4890-bb7e-0bbb533188cc button');\n",
              "      quickchartButtonEl.style.display =\n",
              "        google.colab.kernel.accessAllowed ? 'block' : 'none';\n",
              "    })();\n",
              "  </script>\n",
              "</div>\n",
              "    </div>\n",
              "  </div>\n"
            ],
            "application/vnd.google.colaboratory.intrinsic+json": {
              "type": "dataframe",
              "variable_name": "d",
              "repr_error": "'str' object has no attribute 'empty'"
            }
          },
          "metadata": {},
          "execution_count": 226
        }
      ]
    },
    {
      "cell_type": "code",
      "source": [
        "plt.scatter(x=d['log_incentive_1'], y=d['log_productivity'])\n",
        "plt.xlabel('log_incentive+1')\n",
        "plt.ylabel('log_productivity')\n",
        "plt.show()"
      ],
      "metadata": {
        "colab": {
          "base_uri": "https://localhost:8080/",
          "height": 450
        },
        "id": "pfOd13kvjxKJ",
        "outputId": "f9299d04-04d7-4894-fe2a-b44b9f4ab839"
      },
      "execution_count": null,
      "outputs": [
        {
          "output_type": "display_data",
          "data": {
            "text/plain": [
              "<Figure size 640x480 with 1 Axes>"
            ],
            "image/png": "[encoded data removed]"
          },
          "metadata": {}
        }
      ]
    },
    {
      "cell_type": "markdown",
      "source": [
        "The correlation coefficient between the variables log_incentive_1\n",
        "and log_productivity is approximately 0.217063. This correlation is not very strong, but it is still worth noting."
      ],
      "metadata": {
        "id": "wQ6iFT1NkCmk"
      }
    },
    {
      "cell_type": "code",
      "source": [
        "correlation_coefficient_1 = d['log_incentive_1'].corr(d['log_productivity'],method='spearman')\n",
        "print(correlation_coefficient_1)"
      ],
      "metadata": {
        "colab": {
          "base_uri": "https://localhost:8080/"
        },
        "id": "TET72w5cj7Lv",
        "outputId": "eb04b566-75d4-4123-b350-a374bf95f0d0"
      },
      "execution_count": null,
      "outputs": [
        {
          "output_type": "stream",
          "name": "stdout",
          "text": [
            "0.21706358696654462\n"
          ]
        }
      ]
    },
    {
      "cell_type": "markdown",
      "source": [
        "f. Repeat (d) and (e) for percentage_achievement instead of logarithm of productivity."
      ],
      "metadata": {
        "id": "KZw-eLLNotlF"
      }
    },
    {
      "cell_type": "code",
      "source": [
        "#Percentage Achievement=( Targeted Productivity/ Actual Productivity)×100%\n",
        "d['percentage_achievement'] = (d['actual_productivity'] / d['targeted_productivity']) * 100\n",
        "d[\"percentage_achievement\"].head()"
      ],
      "metadata": {
        "colab": {
          "base_uri": "https://localhost:8080/"
        },
        "id": "ryEkbITExaK1",
        "outputId": "1adc1175-5db8-4b6d-e55a-3f889df3bc70"
      },
      "execution_count": null,
      "outputs": [
        {
          "output_type": "execute_result",
          "data": {
            "text/plain": [
              "0    117.590678\n",
              "1    118.200000\n",
              "2    100.071311\n",
              "3    100.071311\n",
              "4    100.047743\n",
              "Name: percentage_achievement, dtype: float64"
            ]
          },
          "metadata": {},
          "execution_count": 229
        }
      ]
    },
    {
      "cell_type": "code",
      "source": [
        "# number of workers and percentage achievement\n",
        "plt.scatter(x=d['log_no_of_workers_1'], y=d['percentage_achievement'])\n",
        "plt.xlabel('log_no_of_workers+1')\n",
        "plt.ylabel('percentage_achievement')\n",
        "plt.show()"
      ],
      "metadata": {
        "colab": {
          "base_uri": "https://localhost:8080/",
          "height": 450
        },
        "id": "ADVMqKPKw8uI",
        "outputId": "4fcd6f28-4642-4a17-d21b-5d0c56c1395f"
      },
      "execution_count": null,
      "outputs": [
        {
          "output_type": "display_data",
          "data": {
            "text/plain": [
              "<Figure size 640x480 with 1 Axes>"
            ],
            "image/png": "[encoded data removed]"
          },
          "metadata": {}
        }
      ]
    },
    {
      "cell_type": "markdown",
      "source": [
        "The correlation coefficient between the variables log_no_of_workers_1 and percentage_achievement is approximately-0.00802. The change in the number of workers are not significantly associated with hanges in productivity, based on the linear correlation."
      ],
      "metadata": {
        "id": "jQFTY-SFytbj"
      }
    },
    {
      "cell_type": "code",
      "source": [
        "correlation_coefficient = d['log_no_of_workers_1'].corr(d['percentage_achievement'])\n",
        "print(correlation_coefficient)"
      ],
      "metadata": {
        "colab": {
          "base_uri": "https://localhost:8080/"
        },
        "id": "fS1AOgpmxY0F",
        "outputId": "ebcbe711-1116-491f-8f0d-b5cf4323f314"
      },
      "execution_count": null,
      "outputs": [
        {
          "output_type": "stream",
          "name": "stdout",
          "text": [
            "-0.008026734383457825\n"
          ]
        }
      ]
    },
    {
      "cell_type": "code",
      "source": [
        "# number of workers and percentage achievement\n",
        "plt.scatter(x=d['log_incentive_1'], y=d['percentage_achievement'])\n",
        "plt.xlabel('log_incentive+1')\n",
        "plt.ylabel('percentage_achievement')\n",
        "plt.show()"
      ],
      "metadata": {
        "colab": {
          "base_uri": "https://localhost:8080/",
          "height": 450
        },
        "id": "rFWLYz2oy8f0",
        "outputId": "e2f11470-2266-4425-c0ef-7258249913c6"
      },
      "execution_count": null,
      "outputs": [
        {
          "output_type": "display_data",
          "data": {
            "text/plain": [
              "<Figure size 640x480 with 1 Axes>"
            ],
            "image/png": "[encoded data removed]"
          },
          "metadata": {}
        }
      ]
    },
    {
      "cell_type": "markdown",
      "source": [
        "The correlation coefficient between the variables log_incentive_1 and percentage_achievement is approximately 0.136517. This correlation is not very strong, but it is still worth noting."
      ],
      "metadata": {
        "id": "rxrjBK2kzf_O"
      }
    },
    {
      "cell_type": "code",
      "source": [
        "correlation_coefficient_1 = d['log_incentive_1'].corr(d['percentage_achievement'],method='spearman')\n",
        "print(correlation_coefficient_1)"
      ],
      "metadata": {
        "colab": {
          "base_uri": "https://localhost:8080/"
        },
        "id": "gJAf1ro5zgHc",
        "outputId": "a9f15328-92e1-4bf0-defd-eef7e17fdf83"
      },
      "execution_count": null,
      "outputs": [
        {
          "output_type": "stream",
          "name": "stdout",
          "text": [
            "0.1365174303878588\n"
          ]
        }
      ]
    },
    {
      "cell_type": "markdown",
      "source": [
        "**3. Regression Analysis – 40 points.**"
      ],
      "metadata": {
        "id": "1k5Fw5jYn1WY"
      }
    },
    {
      "cell_type": "markdown",
      "source": [
        "**a. Estimate an ordinary least square repression (OLS) with natural logarithm of productivity as response variable and natural logarithm of no_of_workers + 1 as the predictor variable.Comment on the relationship between the response and the predictor variable.**"
      ],
      "metadata": {
        "id": "W0UDJKeXoPv2"
      }
    },
    {
      "cell_type": "code",
      "source": [
        "import statsmodels.api as sm\n",
        "X = d['log_no_of_workers_1']\n",
        "y = d['log_productivity']\n",
        "X = sm.add_constant(X)\n",
        "model = sm.OLS(y, X).fit()\n",
        "print(model.summary())\n"
      ],
      "metadata": {
        "colab": {
          "base_uri": "https://localhost:8080/"
        },
        "id": "NAW-tatj1kHF",
        "outputId": "27bd35cc-5ee4-44a2-8320-f3ecf4357cc6"
      },
      "execution_count": null,
      "outputs": [
        {
          "output_type": "stream",
          "name": "stdout",
          "text": [
            "                            OLS Regression Results                            \n",
            "==============================================================================\n",
            "Dep. Variable:       log_productivity   R-squared:                       0.000\n",
            "Model:                            OLS   Adj. R-squared:                 -0.001\n",
            "Method:                 Least Squares   F-statistic:                  0.009778\n",
            "Date:                Fri, 01 Mar 2024   Prob (F-statistic):              0.921\n",
            "Time:                        09:50:29   Log-Likelihood:                -213.68\n",
            "No. Observations:                1197   AIC:                             431.4\n",
            "Df Residuals:                    1195   BIC:                             441.5\n",
            "Df Model:                           1                                         \n",
            "Covariance Type:            nonrobust                                         \n",
            "=======================================================================================\n",
            "                          coef    std err          t      P>|t|      [0.025      0.975]\n",
            "---------------------------------------------------------------------------------------\n",
            "const                   4.2645      0.034    124.471      0.000       4.197       4.332\n",
            "log_no_of_workers_1    -0.0010      0.010     -0.099      0.921      -0.021       0.019\n",
            "==============================================================================\n",
            "Omnibus:                      341.342   Durbin-Watson:                   0.823\n",
            "Prob(Omnibus):                  0.000   Jarque-Bera (JB):              780.960\n",
            "Skew:                          -1.574   Prob(JB):                    2.61e-170\n",
            "Kurtosis:                       5.398   Cond. No.                         15.0\n",
            "==============================================================================\n",
            "\n",
            "Notes:\n",
            "[1] Standard Errors assume that the covariance matrix of the errors is correctly specified.\n"
          ]
        }
      ]
    },
    {
      "cell_type": "markdown",
      "source": [
        "\n",
        "**Is team size (number of workers in a team) a good predictor of productivity?**"
      ],
      "metadata": {
        "id": "CytrS5To-B7W"
      }
    },
    {
      "cell_type": "markdown",
      "source": [
        "The R-squared value is 0.000, indicating that the model explains none of the variance in the response variable, log_productivity.\n"
      ],
      "metadata": {
        "id": "ZxNdZD-P4q97"
      }
    },
    {
      "cell_type": "markdown",
      "source": [
        "\n",
        "**Does this finding conform to the exploratory analysis in 2(d)?**"
      ],
      "metadata": {
        "id": "PRsismUu-D7L"
      }
    },
    {
      "cell_type": "markdown",
      "source": [
        "Yes, it conform to 2(d), The change in the number of workers are not significantly associated with changes in productivity."
      ],
      "metadata": {
        "id": "n3pThr7A-cW9"
      }
    },
    {
      "cell_type": "markdown",
      "source": [
        "**What is the estimated regression equation?**"
      ],
      "metadata": {
        "id": "lscM_ip2-GOg"
      }
    },
    {
      "cell_type": "markdown",
      "source": [
        "Estimated regression equation:\n",
        "\n",
        "log_productivity= 4.2645 - 0.0010(log_no_of_workers_1)\n",
        "\n"
      ],
      "metadata": {
        "id": "SwDGUV8j-v9A"
      }
    },
    {
      "cell_type": "markdown",
      "source": [
        "**How much of the variance in the response is explained by the predictor? (Comment on the R-square, the intercept, slope, and the t-statistics of the intercept and slope, and the p-values).**"
      ],
      "metadata": {
        "id": "mjgvrAXy-Iga"
      }
    },
    {
      "cell_type": "markdown",
      "source": [
        "The regression model indicates a very low explanatory power, with an R-squared value of 0.0, suggesting that the predictor variable, log_no_of_workers_1, does not explain any variance in the productivity. Both the intercept and slope are not statistically significant (p > 0.05), indicating that they are not reliable predictors of productivity."
      ],
      "metadata": {
        "id": "P-6P_w9r-yjm"
      }
    },
    {
      "cell_type": "markdown",
      "source": [
        "**Finally, plot the regression equation on the scatterplot of the predictor and response.**"
      ],
      "metadata": {
        "id": "77nY2N8H-Lwj"
      }
    },
    {
      "cell_type": "code",
      "source": [
        "import matplotlib.pyplot as plt\n",
        "plt.scatter(d['log_no_of_workers_1'], d['log_productivity'], alpha=0.5, label='Data')\n",
        "plt.plot(d['log_no_of_workers_1'], model.predict(sm.add_constant(d['log_no_of_workers_1'])), color='red', label='Regression Line')\n",
        "plt.xlabel('Log Number of Workers')\n",
        "plt.ylabel('Log Productivity')\n",
        "plt.title('Regression Analysis')\n",
        "plt.legend()\n",
        "plt.show()"
      ],
      "metadata": {
        "colab": {
          "base_uri": "https://localhost:8080/",
          "height": 472
        },
        "id": "rpFCzyMp9woh",
        "outputId": "830c775d-04a4-4451-b6bc-bc437f76a34f"
      },
      "execution_count": null,
      "outputs": [
        {
          "output_type": "display_data",
          "data": {
            "text/plain": [
              "<Figure size 640x480 with 1 Axes>"
            ],
            "image/png": "[encoded data removed]"
          },
          "metadata": {}
        }
      ]
    },
    {
      "cell_type": "markdown",
      "source": [
        "**b. Repeat (a) with logarithm of incentives + 1 as the predictor.**"
      ],
      "metadata": {
        "id": "1V2bVZ0uoNRi"
      }
    },
    {
      "cell_type": "code",
      "source": [
        "X = d['log_incentive_1']\n",
        "y = d['log_productivity']\n",
        "X = sm.add_constant(X)\n",
        "model = sm.OLS(y, X).fit()\n",
        "predictions = model.predict(X)\n",
        "print(model.summary())"
      ],
      "metadata": {
        "colab": {
          "base_uri": "https://localhost:8080/"
        },
        "id": "k_k5pg5WfXq4",
        "outputId": "6b039618-2a1f-437b-d685-4b4f6f6fd5fb"
      },
      "execution_count": null,
      "outputs": [
        {
          "output_type": "stream",
          "name": "stdout",
          "text": [
            "                            OLS Regression Results                            \n",
            "==============================================================================\n",
            "Dep. Variable:       log_productivity   R-squared:                       0.046\n",
            "Model:                            OLS   Adj. R-squared:                  0.045\n",
            "Method:                 Least Squares   F-statistic:                     57.91\n",
            "Date:                Fri, 01 Mar 2024   Prob (F-statistic):           5.54e-14\n",
            "Time:                        09:50:29   Log-Likelihood:                -185.37\n",
            "No. Observations:                1197   AIC:                             374.7\n",
            "Df Residuals:                    1195   BIC:                             384.9\n",
            "Df Model:                           1                                         \n",
            "Covariance Type:            nonrobust                                         \n",
            "===================================================================================\n",
            "                      coef    std err          t      P>|t|      [0.025      0.975]\n",
            "-----------------------------------------------------------------------------------\n",
            "const               4.2009      0.011    368.832      0.000       4.179       4.223\n",
            "log_incentive_1     0.0307      0.004      7.610      0.000       0.023       0.039\n",
            "==============================================================================\n",
            "Omnibus:                      273.631   Durbin-Watson:                   0.896\n",
            "Prob(Omnibus):                  0.000   Jarque-Bera (JB):              550.579\n",
            "Skew:                          -1.320   Prob(JB):                    2.77e-120\n",
            "Kurtosis:                       5.019   Cond. No.                         4.18\n",
            "==============================================================================\n",
            "\n",
            "Notes:\n",
            "[1] Standard Errors assume that the covariance matrix of the errors is correctly specified.\n"
          ]
        }
      ]
    },
    {
      "cell_type": "markdown",
      "source": [
        "**Is woker's incentive a good predictor of productivity?**"
      ],
      "metadata": {
        "id": "dhb_usTHm7FW"
      }
    },
    {
      "cell_type": "markdown",
      "source": [
        "The R-squared value is 0.046, which means that approximately 4.6% of the variance in log_productivity is explained by the predictor variable log_incentive_1."
      ],
      "metadata": {
        "id": "jah4L3dptyDe"
      }
    },
    {
      "cell_type": "markdown",
      "source": [
        "**Does this finding conform to the exploratory analysis in 2(e)?**"
      ],
      "metadata": {
        "id": "gYxGSpUSnGan"
      }
    },
    {
      "cell_type": "markdown",
      "source": [
        "Yes, it conform to 2(e), The change in the workers' incentive are slightly associated with changes in productivity."
      ],
      "metadata": {
        "id": "3r364_SbumO1"
      }
    },
    {
      "cell_type": "markdown",
      "source": [
        "**What is the estimated regression equation?**"
      ],
      "metadata": {
        "id": "MXSoyuk3nGir"
      }
    },
    {
      "cell_type": "markdown",
      "source": [
        "estimated regression equation:\n",
        "\n",
        "log_productivity = 4.2009 + 0.0307(log_incentive_1)"
      ],
      "metadata": {
        "id": "Ay5hcTMXvdev"
      }
    },
    {
      "cell_type": "markdown",
      "source": [
        "**How much of the variance in the response is explained by the predictor? (Comment on the R-square, the intercept, slope, and the t-statistics of the intercept and slope, and the p-values).**"
      ],
      "metadata": {
        "id": "lkqGbZqQnGqN"
      }
    },
    {
      "cell_type": "markdown",
      "source": [
        "The R-squared value is 0.046, indicating that approximately 4.6% of the variance in log_productivity is explained by the predictor variable log_incentive_1. The t-statistic for the intercept is very high (368.832) with p-values close to zero, indicating that the intercept is statistically significant."
      ],
      "metadata": {
        "id": "4ugKsQGAvqSP"
      }
    },
    {
      "cell_type": "markdown",
      "source": [
        "**plot the regression equation on the scatterplot of the predictor and response.**"
      ],
      "metadata": {
        "id": "x2kooSjvmfCv"
      }
    },
    {
      "cell_type": "code",
      "source": [
        "import matplotlib.pyplot as plt\n",
        "plt.scatter(d['log_incentive_1'], d['log_productivity'], alpha=0.5, label='Data')\n",
        "plt.plot(d['log_incentive_1'], model.predict(sm.add_constant(d['log_incentive_1'])), color='red', label='Regression Line')\n",
        "plt.xlabel('Log of incentives + 1')\n",
        "plt.ylabel('Log Productivity')\n",
        "plt.title('Regression Analysis')\n",
        "plt.legend()\n",
        "plt.show()"
      ],
      "metadata": {
        "colab": {
          "base_uri": "https://localhost:8080/",
          "height": 472
        },
        "id": "GWh7k7CzmVrz",
        "outputId": "77863299-bd44-4f88-9d65-ab07ce660942"
      },
      "execution_count": null,
      "outputs": [
        {
          "output_type": "display_data",
          "data": {
            "text/plain": [
              "<Figure size 640x480 with 1 Axes>"
            ],
            "image/png": "[encoded data removed]"
          },
          "metadata": {}
        }
      ]
    },
    {
      "cell_type": "markdown",
      "source": [
        "**c. Estimate the regression equation for log of actual productivity as response and the following variables as predictors: log of no_of_workers + 1, log of incentive + 1, log of targeted productivity, no_of_style_change, quarter (factor variable), department (factor variable), day (factor variable) and team (factor variable). Show the regression summary.**"
      ],
      "metadata": {
        "id": "a0jNVYPbo3uL"
      }
    },
    {
      "cell_type": "code",
      "source": [
        "d[\"log_targeted_productivity\"] = np.log(d['targeted_productivity'])\n",
        "d[\"log_actual_productivity\"] = np.log(d['actual_productivity'])"
      ],
      "metadata": {
        "id": "kFgGdYOHc_q7"
      },
      "execution_count": null,
      "outputs": []
    },
    {
      "cell_type": "code",
      "source": [
        "d['const'] = 1\n",
        "X = d[['const', 'log_no_of_workers_1', 'log_incentive_1', 'log_targeted_productivity', 'no_of_style_change', 'quarter', 'department', 'day', 'team']]\n",
        "y = d['log_actual_productivity']\n",
        "X = pd.get_dummies(X, columns=['quarter', 'department', 'day', 'team'], drop_first=True)\n",
        "model = sm.OLS(y, X).fit()\n",
        "print(model.summary())\n"
      ],
      "metadata": {
        "colab": {
          "base_uri": "https://localhost:8080/"
        },
        "id": "pCy7Ds2evm0g",
        "outputId": "a6ae6f7c-3f1e-47ce-d5a8-719702cec085"
      },
      "execution_count": null,
      "outputs": [
        {
          "output_type": "stream",
          "name": "stdout",
          "text": [
            "                               OLS Regression Results                              \n",
            "===================================================================================\n",
            "Dep. Variable:     log_actual_productivity   R-squared:                       0.325\n",
            "Model:                                 OLS   Adj. R-squared:                  0.310\n",
            "Method:                      Least Squares   F-statistic:                     21.64\n",
            "Date:                     Fri, 01 Mar 2024   Prob (F-statistic):           9.80e-82\n",
            "Time:                             09:59:20   Log-Likelihood:                 21.290\n",
            "No. Observations:                     1197   AIC:                             11.42\n",
            "Df Residuals:                         1170   BIC:                             148.8\n",
            "Df Model:                               26                                         \n",
            "Covariance Type:                 nonrobust                                         \n",
            "=============================================================================================\n",
            "                                coef    std err          t      P>|t|      [0.025      0.975]\n",
            "---------------------------------------------------------------------------------------------\n",
            "const                        -0.6312      0.085     -7.463      0.000      -0.797      -0.465\n",
            "log_no_of_workers_1           0.1902      0.031      6.069      0.000       0.129       0.252\n",
            "log_incentive_1               0.0672      0.006     11.401      0.000       0.056       0.079\n",
            "log_targeted_productivity     0.4789      0.043     11.166      0.000       0.395       0.563\n",
            "no_of_style_change           -0.0276      0.019     -1.474      0.141      -0.064       0.009\n",
            "quarter_Quarter2             -0.0028      0.019     -0.149      0.882      -0.039       0.034\n",
            "quarter_Quarter3             -0.0365      0.021     -1.716      0.086      -0.078       0.005\n",
            "quarter_Quarter4             -0.0531      0.021     -2.564      0.010      -0.094      -0.012\n",
            "quarter_Quarter5              0.0817      0.040      2.027      0.043       0.003       0.161\n",
            "department_finishing          0.1085      0.022      4.936      0.000       0.065       0.152\n",
            "department_sweing            -0.4663      0.056     -8.333      0.000      -0.576      -0.357\n",
            "day_Saturday                  0.0303      0.025      1.205      0.228      -0.019       0.080\n",
            "day_Sunday                    0.0171      0.024      0.706      0.480      -0.030       0.065\n",
            "day_Thursday                  0.0171      0.025      0.696      0.487      -0.031       0.065\n",
            "day_Tuesday                   0.0413      0.024      1.713      0.087      -0.006       0.089\n",
            "day_Wednesday                 0.0244      0.024      1.019      0.309      -0.023       0.071\n",
            "team_2                       -0.0469      0.033     -1.418      0.157      -0.112       0.018\n",
            "team_3                       -0.0128      0.034     -0.372      0.710      -0.080       0.055\n",
            "team_4                       -0.0405      0.034     -1.204      0.229      -0.106       0.025\n",
            "team_5                       -0.0604      0.035     -1.733      0.083      -0.129       0.008\n",
            "team_6                       -0.0770      0.036     -2.144      0.032      -0.147      -0.007\n",
            "team_7                       -0.1274      0.034     -3.693      0.000      -0.195      -0.060\n",
            "team_8                       -0.1212      0.033     -3.635      0.000      -0.187      -0.056\n",
            "team_9                       -0.1022      0.033     -3.063      0.002      -0.168      -0.037\n",
            "team_10                      -0.1235      0.034     -3.660      0.000      -0.190      -0.057\n",
            "team_11                      -0.1370      0.035     -3.904      0.000      -0.206      -0.068\n",
            "team_12                       0.0062      0.035      0.176      0.860      -0.063       0.075\n",
            "==============================================================================\n",
            "Omnibus:                      353.196   Durbin-Watson:                   1.220\n",
            "Prob(Omnibus):                  0.000   Jarque-Bera (JB):             1272.479\n",
            "Skew:                          -1.402   Prob(JB):                    4.84e-277\n",
            "Kurtosis:                       7.202   Cond. No.                         67.5\n",
            "==============================================================================\n",
            "\n",
            "Notes:\n",
            "[1] Standard Errors assume that the covariance matrix of the errors is correctly specified.\n"
          ]
        }
      ]
    },
    {
      "cell_type": "markdown",
      "source": [
        "**i. Which of the following variables significantly affect worker productivity and which direction? State the level of significance.**"
      ],
      "metadata": {
        "id": "eVnwTGH2rT_W"
      }
    },
    {
      "cell_type": "markdown",
      "source": [
        "\n",
        "\n",
        "*   Log_no_of_workers_1: A one-unit increase in log_no_of_workers_1 is associated with a 0.1902 increase in log_actual_productivity (p < 0.05), indicating a positive relationship between the number of workers and productivity.\n",
        "*   Log_incentive_1: A one-unit increase in log_incentive_1 results in a 0.0672 increase in log_actual_productivity (p < 0.05), suggesting that higher incentives are linked to higher productivity.\n",
        "*   Log_targeted_productivity: A one-unit increase in log_targeted_productivity corresponds to a 0.4789 increase in log_actual_productivity (p < 0.05), indicating a positive relationship between targeted productivity and actual productivity.\n",
        "*   Both department_finishing and department_sewing significantly influence productivity. The coefficient for department_finishing is 0.1085 (p < 0.05), indicating higher productivity in the finishing department compared to the reference department. Conversely, the coefficient for department_sewing is -0.4663 (p < 0.05), indicating lower productivity in the sewing department compared to the reference department.\n",
        "\n",
        "Other variables such as the day of the week and team assignments do not significantly affect productivity as their p-values are above the threshold of 0.05."
      ],
      "metadata": {
        "id": "pTNCFsege4W8"
      }
    },
    {
      "cell_type": "markdown",
      "source": [
        "**ii. On the average how much does log of productivity change with one incremental style change.**"
      ],
      "metadata": {
        "id": "6s-vD1f6rXFB"
      }
    },
    {
      "cell_type": "markdown",
      "source": [
        " The coefficient for \"no_of_style_change\" is -0.0276. This means that, on average, for each incremental style change, the log of productivity decreases by approximately 0.0276 units."
      ],
      "metadata": {
        "id": "6JEUcZlif0Bd"
      }
    },
    {
      "cell_type": "markdown",
      "source": [
        "**iii. What is the change in log of productivity for quarter 2, 3, 4 and 5 with respect to quarter 1. Which of these changes are statistically significant?**"
      ],
      "metadata": {
        "id": "RiNhK8nJrak-"
      }
    },
    {
      "cell_type": "markdown",
      "source": [
        "From the provided regression output:\n",
        "*   Quarter 2: Coefficient = -0.0028\n",
        "*   Quarter 3: Coefficient = -0.0365\n",
        "*   Quarter 4: Coefficient = -0.0531\n",
        "*   Quarter 5: Coefficient = 0.0817\n",
        "\n",
        "These coefficients represent the change in log of productivity compared to the reference quarter, which is Quarter 1.\n",
        "\n",
        "The statistical significance of these changes by examining the associated p-values:\n",
        "*   Quarter 2: p-value = 0.882, not statistically significant.\n",
        "*   Quarter 3: p-value = 0.086, not statistically significant.\n",
        "*   Quarter 4: p-value = 0.010, statistically significant.\n",
        "*   Quarter 5: p-value = 0.043, statistically significant.\n",
        "\n",
        "Therefore, the change in log of productivity for Quarter 4 and 5 with respect to Quarter 1 is statistically significant. The changes for Quarters 2 and 3 are not statistically significant."
      ],
      "metadata": {
        "id": "hQ_IVKYOko5V"
      }
    },
    {
      "cell_type": "markdown",
      "source": [
        "**iv. How does the productivity of sewing department compare with the finishing department?**"
      ],
      "metadata": {
        "id": "-5CmhL3mrdRH"
      }
    },
    {
      "cell_type": "markdown",
      "source": [
        "department_sewing: Coefficient = -0.4663\n",
        "\n",
        "\n",
        "department_finishing: Coefficient = 0.1085\n",
        "\n",
        "\n",
        "The coefficient for the sewing department, -0.4663, suggests a decrease in productivity compared to the reference category, indicating that employees in the sewing department tend to have lower productivity levels. Conversely, the coefficient for the finishing department, 0.1085, suggests an increase in productivity compared to the reference category, implying that employees in the finishing department tend to have higher productivity levels."
      ],
      "metadata": {
        "id": "wQIE9Fx6otd2"
      }
    },
    {
      "cell_type": "markdown",
      "source": [
        "**v. Write down the regression equation for the following cases:**\n"
      ],
      "metadata": {
        "id": "ZWbHhF4loUlD"
      }
    },
    {
      "cell_type": "markdown",
      "source": [
        "1. Sewing department for a Sunday of quarter 4 for team 10.\n",
        "\n",
        "log_actual_productivity= -0.6312 - 0.4663(sewing) + 0.0531(quarter_Quarter4) + 0.0171(day_Sunday) - 0.1235(team_10)\n",
        "\n",
        "\n",
        "2. Finishing department for a Wednesday of quarter 1 for team 4.\n",
        "\n",
        "log_actual_productivity= -0.6312 + 0.1085(finishing) + 0(quarter_Quarter1) + 0.0244(day_Wednesday) - 0.0405(team_4)\n",
        "\n",
        "\n",
        "3. Finishing department for a Monday of quarter 2 for team 8.\n",
        "\n",
        "log_actual_productivity= -0.6312 + 0.1085(finishing) - 0.0028(quarter_Quarter2) + 0(day_Monday) - 0.1212(team_8)"
      ],
      "metadata": {
        "id": "0lV-CtvjqHUg"
      }
    },
    {
      "cell_type": "markdown",
      "source": [
        "**vi. Plot the actual log of productivity values versus the predicted log of productivity values. Do you think the model is a good fit? How much variance of the response is explained by the model?**"
      ],
      "metadata": {
        "id": "mUSHlcyLr0rP"
      }
    },
    {
      "cell_type": "markdown",
      "source": [
        "With an R-squared value of 0.325, it indicates that approximately 32.5% of the variance in the response variable (actual log productivity) is explained by the model.\n",
        "\n"
      ],
      "metadata": {
        "id": "u9STCbcbstDM"
      }
    },
    {
      "cell_type": "code",
      "source": [
        "plt.scatter(predictions, y)\n",
        "plt.xlabel('Predicted log of productivity')\n",
        "plt.ylabel('Actual log of productivity')\n",
        "plt.title('Actual vs Predicted log of productivity')\n",
        "plt.show()"
      ],
      "metadata": {
        "colab": {
          "base_uri": "https://localhost:8080/",
          "height": 472
        },
        "id": "_ZBpy53PsX0v",
        "outputId": "b77baf34-329c-4726-d45b-c20d318208b8"
      },
      "execution_count": null,
      "outputs": [
        {
          "output_type": "display_data",
          "data": {
            "text/plain": [
              "<Figure size 640x480 with 1 Axes>"
            ],
            "image/png": "[encoded data removed]"
          },
          "metadata": {}
        }
      ]
    },
    {
      "cell_type": "markdown",
      "source": [
        "**vii. Plot the residuals and the distribution of the residuals. Plot the qqnorm and qqline of the residuals.**"
      ],
      "metadata": {
        "id": "FgiomRmhr6k1"
      }
    },
    {
      "cell_type": "code",
      "source": [
        "import scipy.stats as stats\n",
        "\n",
        "residuals = y - predictions\n",
        "\n",
        "plt.figure(figsize=(12, 6))\n",
        "plt.subplot(1, 2, 1)\n",
        "plt.scatter(predictions, residuals)\n",
        "plt.xlabel('Fitted values')\n",
        "plt.ylabel('Residuals')\n",
        "plt.title('Residuals vs Fitted')\n",
        "\n",
        "plt.subplot(1, 2, 2)\n",
        "plt.hist(residuals, bins=20, density=True, alpha=0.75)\n",
        "plt.xlabel('Residuals')\n",
        "plt.ylabel('Density')\n",
        "plt.title('Histogram of Residuals')\n",
        "\n",
        "plt.tight_layout()\n",
        "plt.show()\n",
        "\n",
        "plt.figure(figsize=(8, 6))\n",
        "stats.probplot(residuals, dist=\"norm\", plot=plt)\n",
        "plt.title('QQ Plot of Residuals')\n",
        "plt.xlabel('Theoretical Quantiles')\n",
        "plt.ylabel('Sample Quantiles')\n",
        "plt.show()"
      ],
      "metadata": {
        "colab": {
          "base_uri": "https://localhost:8080/",
          "height": 1000
        },
        "id": "OFSVhwi4tqP2",
        "outputId": "42626b37-6a3b-47b8-a66b-66b74252bd96"
      },
      "execution_count": null,
      "outputs": [
        {
          "output_type": "display_data",
          "data": {
            "text/plain": [
              "<Figure size 1200x600 with 2 Axes>"
            ],
            "image/png": "[encoded data removed]"
          },
          "metadata": {}
        },
        {
          "output_type": "display_data",
          "data": {
            "text/plain": [
              "<Figure size 800x600 with 1 Axes>"
            ],
            "image/png": "[encoded data removed]"
          },
          "metadata": {}
        }
      ]
    },
    {
      "cell_type": "markdown",
      "source": [
        "**d. Repeat the above (c) for percentage_achievement as the response and all other predictors as above except targeted_productivity.**"
      ],
      "metadata": {
        "id": "40uGlcTZo6v5"
      }
    },
    {
      "cell_type": "code",
      "source": [
        "d['const'] = 1\n",
        "X = d[['const', 'log_no_of_workers_1', 'log_incentive_1', 'no_of_style_change', 'quarter', 'department', 'day', 'team']]\n",
        "y = d['percentage_achievement']\n",
        "X = pd.get_dummies(X, columns=['quarter', 'department', 'day', 'team'], drop_first=True)\n",
        "model = sm.OLS(y, X).fit()\n",
        "print(model.summary())"
      ],
      "metadata": {
        "colab": {
          "base_uri": "https://localhost:8080/"
        },
        "id": "ISqc1r-472j1",
        "outputId": "12923438-e36c-4875-b209-3d7b8ca78470"
      },
      "execution_count": null,
      "outputs": [
        {
          "output_type": "stream",
          "name": "stdout",
          "text": [
            "                              OLS Regression Results                              \n",
            "==================================================================================\n",
            "Dep. Variable:     percentage_achievement   R-squared:                       0.089\n",
            "Model:                                OLS   Adj. R-squared:                  0.069\n",
            "Method:                     Least Squares   F-statistic:                     4.548\n",
            "Date:                    Fri, 01 Mar 2024   Prob (F-statistic):           1.47e-12\n",
            "Time:                            09:50:41   Log-Likelihood:                -5779.6\n",
            "No. Observations:                    1197   AIC:                         1.161e+04\n",
            "Df Residuals:                        1171   BIC:                         1.174e+04\n",
            "Df Model:                              25                                         \n",
            "Covariance Type:                nonrobust                                         \n",
            "=========================================================================================\n",
            "                            coef    std err          t      P>|t|      [0.025      0.975]\n",
            "-----------------------------------------------------------------------------------------\n",
            "const                    55.1257     10.629      5.187      0.000      34.273      75.979\n",
            "log_no_of_workers_1      20.5411      3.987      5.152      0.000      12.718      28.364\n",
            "log_incentive_1           3.5297      0.735      4.799      0.000       2.087       4.973\n",
            "no_of_style_change       -2.8162      2.375     -1.186      0.236      -7.477       1.844\n",
            "quarter_Quarter2          1.2177      2.356      0.517      0.605      -3.405       5.841\n",
            "quarter_Quarter3         -2.7265      2.701     -1.009      0.313      -8.026       2.573\n",
            "quarter_Quarter4         -2.5648      2.629     -0.976      0.329      -7.723       2.593\n",
            "quarter_Quarter5         10.6438      5.122      2.078      0.038       0.595      20.692\n",
            "department_finishing      7.7789      2.789      2.789      0.005       2.307      13.251\n",
            "department_sweing       -42.9533      7.108     -6.043      0.000     -56.900     -29.007\n",
            "day_Saturday              1.1126      3.198      0.348      0.728      -5.162       7.387\n",
            "day_Sunday               -0.8360      3.072     -0.272      0.786      -6.864       5.192\n",
            "day_Thursday              3.4112      3.131      1.090      0.276      -2.731       9.554\n",
            "day_Tuesday               2.4796      3.066      0.809      0.419      -3.536       8.495\n",
            "day_Wednesday             1.5351      3.047      0.504      0.614      -4.442       7.512\n",
            "team_2                   -4.8952      4.205     -1.164      0.245     -13.145       3.354\n",
            "team_3                   -1.3014      4.368     -0.298      0.766      -9.872       7.270\n",
            "team_4                   -0.3038      4.271     -0.071      0.943      -8.684       8.076\n",
            "team_5                   -0.8470      4.411     -0.192      0.848      -9.502       7.808\n",
            "team_6                   -4.8397      4.567     -1.060      0.289     -13.800       4.121\n",
            "team_7                   -5.5971      4.383     -1.277      0.202     -14.197       3.003\n",
            "team_8                   -8.0005      4.236     -1.889      0.059     -16.312       0.311\n",
            "team_9                  -11.0590      4.242     -2.607      0.009     -19.383      -2.735\n",
            "team_10                 -11.1077      4.290     -2.589      0.010     -19.525      -2.690\n",
            "team_11                  -9.7205      4.456     -2.182      0.029     -18.462      -0.979\n",
            "team_12                  -2.1406      4.474     -0.478      0.632     -10.919       6.638\n",
            "==============================================================================\n",
            "Omnibus:                     1870.749   Durbin-Watson:                   1.773\n",
            "Prob(Omnibus):                  0.000   Jarque-Bera (JB):          1707293.427\n",
            "Skew:                           9.115   Prob(JB):                         0.00\n",
            "Kurtosis:                     187.117   Cond. No.                         67.0\n",
            "==============================================================================\n",
            "\n",
            "Notes:\n",
            "[1] Standard Errors assume that the covariance matrix of the errors is correctly specified.\n"
          ]
        }
      ]
    },
    {
      "cell_type": "markdown",
      "source": [
        "**i. Which of the following variables significantly affect workers' percentage of achievement and which direction? State the level of significance.**"
      ],
      "metadata": {
        "id": "IEBUcXDAvPmy"
      }
    },
    {
      "cell_type": "markdown",
      "source": [
        "**Significantly Affecting Variables:**\n",
        "*   Log Number of Workers (log_no_of_workers_1): Positive coefficient (20.5411) with p-value < 0.001, indicating that more workers lead to higher percentage of achievement.\n",
        "*   Log Incentive (log_incentive_1): Positive coefficient (3.5297) with p-value < 0.001, suggesting that higher incentives result in higher percentage of achievement.\n",
        "\n",
        "*   Finishing Department: Positive coefficient (7.7789) with p-value = 0.005, indicating higher achievement compared to reference.\n",
        "*   Sewing Department: Negative coefficient (-42.9533) with p-value < 0.001, indicating lower achievement compared to reference.\n",
        "\n",
        "**Non-Significant Variables:**\n",
        "*   Number of Style Changes (no_of_style_change): Insignificant coefficient (p-value = 0.236).\n",
        "*   Quarter and Day Variables: No statistically significant effects observed (all p-values > 0.05).\n",
        "\n",
        "\n",
        "\n",
        "\n",
        "\n",
        "\n",
        "\n",
        "\n"
      ],
      "metadata": {
        "id": "yfZcwgzivStQ"
      }
    },
    {
      "cell_type": "markdown",
      "source": [
        "**ii. On the average how much does percentage of achievement\n",
        "change with one incremental style change.**"
      ],
      "metadata": {
        "id": "Pr7rYn9CvPm7"
      }
    },
    {
      "cell_type": "markdown",
      "source": [
        "The coefficient for no_of_style_change is -2.8162. This means that, on average, for each additional style change, the percentage of achievement decreases by approximately 2.8162 units."
      ],
      "metadata": {
        "id": "MBbb87tw1hgl"
      }
    },
    {
      "cell_type": "markdown",
      "source": [
        "**iii. What is the change in percentage of achievement for quarter 2, 3, 4 and 5 with respect to quarter 1. Which of these changes are statistically significant?**"
      ],
      "metadata": {
        "id": "aMbgO_qfvPm7"
      }
    },
    {
      "cell_type": "markdown",
      "source": [
        "From the provided regression output:\n",
        "*   Quarter 2: Coefficient = 1.2177\n",
        "*   Quarter 3: Coefficient = -2.7265\n",
        "*   Quarter 4: Coefficient = -2.5648\n",
        "*   Quarter 5: Coefficient = 10.6438\n",
        "\n",
        "These coefficients represent the change in percentage of achievement compared to the reference quarter, which is Quarter 1.\n",
        "\n",
        "The statistical significance of these changes by examining the associated p-values:\n",
        "*   Quarter 2: p-value = 0.605, not statistically significant.\n",
        "*   Quarter 3: p-value = 0.313, not statistically significant.\n",
        "*   Quarter 4: p-value = 0.329, not statistically significant.\n",
        "*   Quarter 5: p-value = 0.038, statistically significant.\n",
        "\n",
        "Therefore, the change in percentage of achievement for Quarter 5 with respect to Quarter 1 is statistically significant. The changes for Quarters 2, 3 and 4 are not statistically significant."
      ],
      "metadata": {
        "id": "8Ssq6Fjv3Gre"
      }
    },
    {
      "cell_type": "markdown",
      "source": [
        "**iv. How does the percentage of achievement  of sewing department compare with the finishing department?**"
      ],
      "metadata": {
        "id": "67IXR90LvPm7"
      }
    },
    {
      "cell_type": "markdown",
      "source": [
        "department_sewing: Coefficient = -42.9533\n",
        "\n",
        "\n",
        "department_finishing: Coefficient = 7.7789\n",
        "\n",
        "\n",
        "*   Sewing Department: The coefficient for the sewing department is -42.9533, indicating a negative effect on the percentage of achievement. This means that, on average, the percentage of achievement is lower for employees in the sewing department compared to the reference category.\n",
        "*   Finishing Department: The coefficient for the finishing department is 7.7789, indicating a positive effect on the percentage of achievement. This suggests that, on average, the percentage of achievement is higher for employees in the finishing department compared to the reference category.\n"
      ],
      "metadata": {
        "id": "I_xCdInw45Pv"
      }
    },
    {
      "cell_type": "markdown",
      "source": [
        "**v. Write down the regression equation for the following cases:**\n"
      ],
      "metadata": {
        "id": "1NDshdcQvPm7"
      }
    },
    {
      "cell_type": "markdown",
      "source": [
        "1. Sewing department for a Sunday of quarter 4 for team 10.\n",
        "\n",
        "percentage of achievement= 55.1257 - 42.9533(sewing) -2.5648(quarter_Quarter4) -0.8360(day_Sunday) - 11.1077(team_10)\n",
        "\n",
        "\n",
        "2. Finishing department for a Wednesday of quarter 1 for team 4.\n",
        "\n",
        "percentage of achievement= 55.1257 + 7.7789(finishing) + 0(quarter_Quarter1) + 1.5351(day_Wednesday) - 0.3038(team_4)\n",
        "\n",
        "\n",
        "3. Finishing department for a Monday of quarter 2 for team 8.\n",
        "\n",
        "percentage of achievement= 55.1257 + 7.7789(finishing) +1.2177(quarter_Quarter2) + 0(day_Monday) - 8.0005(team_8)"
      ],
      "metadata": {
        "id": "zZGmaJPlB8af"
      }
    },
    {
      "cell_type": "markdown",
      "source": [
        "**vi. Plot the actual percentage of achievement values versus the predicted percentage of achievement values. Do you think the model is a good fit? How much variance of the response is explained by the model?**"
      ],
      "metadata": {
        "id": "VHZqbgZRvPm7"
      }
    },
    {
      "cell_type": "markdown",
      "source": [
        "With an R-squared value of 0.089, it indicates that approximately 8.9% of the variance in the response variable (percentage of achievement) is explained by the model."
      ],
      "metadata": {
        "id": "3-jvDK3DLity"
      }
    },
    {
      "cell_type": "code",
      "source": [
        "plt.scatter(predictions, y_percentage)\n",
        "plt.xlabel('Predicted percentage of achievement')\n",
        "plt.ylabel('Actual percentage of achievement')\n",
        "plt.title('Actual vs Predicted percentage of achievement')\n",
        "plt.show()"
      ],
      "metadata": {
        "colab": {
          "base_uri": "https://localhost:8080/",
          "height": 472
        },
        "id": "IK8L3xknIAXF",
        "outputId": "b738d686-98bf-42c5-b762-bafdd826af25"
      },
      "execution_count": null,
      "outputs": [
        {
          "output_type": "display_data",
          "data": {
            "text/plain": [
              "<Figure size 640x480 with 1 Axes>"
            ],
            "image/png": "[encoded data removed]"
          },
          "metadata": {}
        }
      ]
    },
    {
      "cell_type": "markdown",
      "source": [
        "**vii. Plot the residuals and the distribution of the residuals. Plot the qqnorm and qqline of the residuals.**"
      ],
      "metadata": {
        "id": "wsex2ozLvPm7"
      }
    },
    {
      "cell_type": "code",
      "source": [
        "residuals_persentage = y_percentage - predictions\n",
        "\n",
        "plt.figure(figsize=(12, 6))\n",
        "plt.subplot(1, 2, 1)\n",
        "plt.scatter(predictions, residuals_persentage)\n",
        "plt.xlabel('Fitted values')\n",
        "plt.ylabel('Residuals')\n",
        "plt.title('Residuals vs Fitted')\n",
        "\n",
        "plt.subplot(1, 2, 2)\n",
        "plt.hist(residuals_persentage, bins=20, density=True, alpha=0.75)\n",
        "plt.xlabel('Residuals')\n",
        "plt.ylabel('Density')\n",
        "plt.title('Histogram of Residuals')\n",
        "\n",
        "plt.tight_layout()\n",
        "plt.show()\n",
        "\n",
        "plt.figure(figsize=(8, 6))\n",
        "stats.probplot(residuals_persentage, dist=\"norm\", plot=plt)\n",
        "plt.title('QQ Plot of Residuals')\n",
        "plt.xlabel('Theoretical Quantiles')\n",
        "plt.ylabel('Sample Quantiles')\n",
        "plt.show()"
      ],
      "metadata": {
        "colab": {
          "base_uri": "https://localhost:8080/",
          "height": 1000
        },
        "id": "4bAY7W7SMxYi",
        "outputId": "4f84d2b0-c68c-49d2-cb0a-90418365a7e9"
      },
      "execution_count": null,
      "outputs": [
        {
          "output_type": "display_data",
          "data": {
            "text/plain": [
              "<Figure size 1200x600 with 2 Axes>"
            ],
            "image/png": "[encoded data removed]"
          },
          "metadata": {}
        },
        {
          "output_type": "display_data",
          "data": {
            "text/plain": [
              "<Figure size 800x600 with 1 Axes>"
            ],
            "image/png": "[encoded data removed]"
          },
          "metadata": {}
        }
      ]
    },
    {
      "cell_type": "markdown",
      "source": [
        "**e. Conduct an ANOVA analysis for question (c) and explain how much (and statistical significance) variance is explained by each variables? Which variable explains the maximum variance?**"
      ],
      "metadata": {
        "id": "xXnUXlMKo9Xd"
      }
    },
    {
      "cell_type": "markdown",
      "source": [
        "\n",
        "Quarter, Team, Log_no_of_workers_1, Log_incentive_1, and Log_targeted_productivity have low p-values (p < 0.05), indicating statistical significance. Among these, Log_incentive_1 stands out with the highest F-statistic and lowest p-value, suggesting it explains the most variance. However, No_of_style_change and Department do not significantly predict log_actual_productivity. Overall, Log_incentive_1 emerges as the primary driver of productivity variance in the model."
      ],
      "metadata": {
        "id": "0IbaeYV9OTEg"
      }
    },
    {
      "cell_type": "code",
      "source": [
        "from statsmodels.formula.api import ols\n",
        "from statsmodels.stats.anova import anova_lm\n",
        "model = ols('log_actual_productivity ~ log_no_of_workers_1 + log_incentive_1 + log_targeted_productivity + no_of_style_change + quarter + department + day + team', data=d).fit()\n",
        "anova_results = anova_lm(model)\n",
        "print(anova_results)"
      ],
      "metadata": {
        "colab": {
          "base_uri": "https://localhost:8080/"
        },
        "id": "SQbaiH5PM9nm",
        "outputId": "bd4464cf-4112-4626-e4e5-f11c02c49c24"
      },
      "execution_count": null,
      "outputs": [
        {
          "output_type": "stream",
          "name": "stdout",
          "text": [
            "                               df     sum_sq    mean_sq           F  \\\n",
            "quarter                       4.0   1.896123   0.474031    8.200142   \n",
            "department                    2.0   1.058344   0.529172    9.154013   \n",
            "day                           5.0   0.182351   0.036470    0.630887   \n",
            "team                         11.0   7.189665   0.653606   11.306566   \n",
            "log_no_of_workers_1           1.0   1.940546   1.940546   33.569021   \n",
            "log_incentive_1               1.0  12.707431  12.707431  219.822698   \n",
            "log_targeted_productivity     1.0   7.421932   7.421932  128.390152   \n",
            "no_of_style_change            1.0   0.125637   0.125637    2.173371   \n",
            "Residual                   1170.0  67.634939   0.057808         NaN   \n",
            "\n",
            "                                 PR(>F)  \n",
            "quarter                    1.602162e-06  \n",
            "department                 1.135655e-04  \n",
            "day                        6.762223e-01  \n",
            "team                       3.393111e-20  \n",
            "log_no_of_workers_1        8.833658e-09  \n",
            "log_incentive_1            1.056155e-45  \n",
            "log_targeted_productivity  2.591534e-28  \n",
            "no_of_style_change         1.406872e-01  \n",
            "Residual                            NaN  \n"
          ]
        }
      ]
    },
    {
      "cell_type": "markdown",
      "source": [
        "**4. Managerial Insights – 10 Points.**\n",
        "\n",
        "**Summarize your findings from the above analysis. What can managers of garment manufacturing units\n",
        "learn from your analysis of the data? If a manager is interested in improving the productivity of a\n",
        "garment manufacturing unit, what actions would you suggest (reasonable actions, you cannot ask to\n",
        "stop functioning of a division) to adopt?**"
      ],
      "metadata": {
        "id": "W9BzeK89w7Ys"
      }
    },
    {
      "cell_type": "markdown",
      "source": [
        "Based on the analysis provided, managers can gain insights into the distribution of data through boxplots and scatterplot regression. Additionally, they can utilize t-tests to assess the significance of variables affecting worker productivity and their directional impact.\n",
        "\n",
        "Based on the analysis of the data, managers of garment manufacturing units can derive several key insights to improve productivity:\n",
        "\n",
        "\n",
        "*   Identify High-Performing Periods: Quarter 5 exhibits higher productivity compared to other quarters, as evidenced by a statistically significant p-value below 0.05. Managers should investigate the factors contributing to this high productivity period and consider implementing similar strategies in other quarters.\n",
        "\n",
        "*   Consider Style Changes Carefully: The analysis suggests that productivity tends to be lower when there are style changes. Managers should carefully assess the impact of style changes on productivity and consider strategies to minimize disruptions during these periods.\n",
        "\n",
        "*   Address Departmental Inefficiencies: Among all departments, the Sewing department shows the lowest productivity. To address this issue, managers can focus on strengthening staff training within the Sewing department and identify and address any inefficiencies contributing to lower productivity.\n",
        "\n",
        "*   Evaluate the Impact of Incentives: Although the correlation between incentives (log_incentive_1) and productivity is not very strong, it remains statistically significant. While incentives may not explain a significant portion of productivity variance, managers should still consider the potential impact of incentives on productivity and explore ways to optimize incentive programs.\n",
        "\n",
        "Overall, managers should use a data-driven approach to identify areas for improvement and implement targeted strategies to enhance productivity. This may include optimizing production schedules, providing targeted training and support to departments with lower productivity, and continuously evaluating and refining incentive programs to maximize their effectiveness.\n",
        "\n"
      ],
      "metadata": {
        "id": "WDZUWWtDPf-h"
      }
    }
  ]
}